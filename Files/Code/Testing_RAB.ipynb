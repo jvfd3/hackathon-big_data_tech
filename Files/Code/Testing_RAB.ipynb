{
 "cells": [
  {
   "cell_type": "markdown",
   "id": "7ac92f81",
   "metadata": {},
   "source": [
    "# Instalando bibliotecas"
   ]
  },
  {
   "cell_type": "code",
   "execution_count": 60,
   "id": "0a8f4704",
   "metadata": {},
   "outputs": [
    {
     "name": "stdout",
     "output_type": "stream",
     "text": [
      "Requirement already satisfied: pandas==2.3.2 in c:\\users\\range\\appdata\\local\\programs\\python\\python313\\lib\\site-packages (2.3.2)\n",
      "Requirement already satisfied: matplotlib==3.10.6 in c:\\users\\range\\appdata\\local\\programs\\python\\python313\\lib\\site-packages (3.10.6)\n",
      "Requirement already satisfied: seaborn==0.13.2 in c:\\users\\range\\appdata\\local\\programs\\python\\python313\\lib\\site-packages (0.13.2)\n",
      "Requirement already satisfied: scikit-learn==1.7.1 in c:\\users\\range\\appdata\\local\\programs\\python\\python313\\lib\\site-packages (1.7.1)\n",
      "Requirement already satisfied: numpy==2.2.6 in c:\\users\\range\\appdata\\local\\programs\\python\\python313\\lib\\site-packages (2.2.6)\n",
      "Requirement already satisfied: pyarrow==21.0.0 in c:\\users\\range\\appdata\\local\\programs\\python\\python313\\lib\\site-packages (21.0.0)\n",
      "Requirement already satisfied: torch==2.8.0 in c:\\users\\range\\appdata\\local\\programs\\python\\python313\\lib\\site-packages (2.8.0)\n",
      "Requirement already satisfied: python-dateutil>=2.8.2 in c:\\users\\range\\appdata\\roaming\\python\\python313\\site-packages (from pandas==2.3.2) (2.9.0.post0)\n",
      "Requirement already satisfied: pytz>=2020.1 in c:\\users\\range\\appdata\\local\\programs\\python\\python313\\lib\\site-packages (from pandas==2.3.2) (2025.2)\n",
      "Requirement already satisfied: tzdata>=2022.7 in c:\\users\\range\\appdata\\local\\programs\\python\\python313\\lib\\site-packages (from pandas==2.3.2) (2025.2)\n",
      "Requirement already satisfied: contourpy>=1.0.1 in c:\\users\\range\\appdata\\local\\programs\\python\\python313\\lib\\site-packages (from matplotlib==3.10.6) (1.3.3)\n",
      "Requirement already satisfied: cycler>=0.10 in c:\\users\\range\\appdata\\local\\programs\\python\\python313\\lib\\site-packages (from matplotlib==3.10.6) (0.12.1)\n",
      "Requirement already satisfied: fonttools>=4.22.0 in c:\\users\\range\\appdata\\local\\programs\\python\\python313\\lib\\site-packages (from matplotlib==3.10.6) (4.59.2)\n",
      "Requirement already satisfied: kiwisolver>=1.3.1 in c:\\users\\range\\appdata\\local\\programs\\python\\python313\\lib\\site-packages (from matplotlib==3.10.6) (1.4.9)\n",
      "Requirement already satisfied: packaging>=20.0 in c:\\users\\range\\appdata\\roaming\\python\\python313\\site-packages (from matplotlib==3.10.6) (25.0)\n",
      "Requirement already satisfied: pillow>=8 in c:\\users\\range\\appdata\\local\\programs\\python\\python313\\lib\\site-packages (from matplotlib==3.10.6) (11.3.0)\n",
      "Requirement already satisfied: pyparsing>=2.3.1 in c:\\users\\range\\appdata\\local\\programs\\python\\python313\\lib\\site-packages (from matplotlib==3.10.6) (3.2.3)\n",
      "Requirement already satisfied: scipy>=1.8.0 in c:\\users\\range\\appdata\\local\\programs\\python\\python313\\lib\\site-packages (from scikit-learn==1.7.1) (1.16.1)\n",
      "Requirement already satisfied: joblib>=1.2.0 in c:\\users\\range\\appdata\\local\\programs\\python\\python313\\lib\\site-packages (from scikit-learn==1.7.1) (1.5.2)\n",
      "Requirement already satisfied: threadpoolctl>=3.1.0 in c:\\users\\range\\appdata\\local\\programs\\python\\python313\\lib\\site-packages (from scikit-learn==1.7.1) (3.6.0)\n",
      "Requirement already satisfied: filelock in c:\\users\\range\\appdata\\local\\programs\\python\\python313\\lib\\site-packages (from torch==2.8.0) (3.19.1)\n",
      "Requirement already satisfied: typing-extensions>=4.10.0 in c:\\users\\range\\appdata\\local\\programs\\python\\python313\\lib\\site-packages (from torch==2.8.0) (4.15.0)\n",
      "Requirement already satisfied: sympy>=1.13.3 in c:\\users\\range\\appdata\\local\\programs\\python\\python313\\lib\\site-packages (from torch==2.8.0) (1.14.0)\n",
      "Requirement already satisfied: networkx in c:\\users\\range\\appdata\\local\\programs\\python\\python313\\lib\\site-packages (from torch==2.8.0) (2.8.8)\n",
      "Requirement already satisfied: jinja2 in c:\\users\\range\\appdata\\local\\programs\\python\\python313\\lib\\site-packages (from torch==2.8.0) (3.1.6)\n",
      "Requirement already satisfied: fsspec in c:\\users\\range\\appdata\\local\\programs\\python\\python313\\lib\\site-packages (from torch==2.8.0) (2025.9.0)\n",
      "Requirement already satisfied: setuptools in c:\\users\\range\\appdata\\local\\programs\\python\\python313\\lib\\site-packages (from torch==2.8.0) (80.9.0)\n",
      "Requirement already satisfied: six>=1.5 in c:\\users\\range\\appdata\\roaming\\python\\python313\\site-packages (from python-dateutil>=2.8.2->pandas==2.3.2) (1.17.0)\n",
      "Requirement already satisfied: mpmath<1.4,>=1.1.0 in c:\\users\\range\\appdata\\local\\programs\\python\\python313\\lib\\site-packages (from sympy>=1.13.3->torch==2.8.0) (1.3.0)\n",
      "Requirement already satisfied: MarkupSafe>=2.0 in c:\\users\\range\\appdata\\local\\programs\\python\\python313\\lib\\site-packages (from jinja2->torch==2.8.0) (3.0.2)\n",
      "Note: you may need to restart the kernel to use updated packages.\n"
     ]
    }
   ],
   "source": [
    "\"\"\" Installing libraries \"\"\"\n",
    "%pip install pandas==2.3.2 matplotlib==3.10.6 seaborn==0.13.2 scikit-learn==1.7.1 numpy==2.2.6 pyarrow==21.0.0 torch==2.8.0"
   ]
  },
  {
   "cell_type": "markdown",
   "id": "0a3b8257",
   "metadata": {},
   "source": [
    "# Importando bibliotecas (externas e próprias)"
   ]
  },
  {
   "cell_type": "code",
   "execution_count": 62,
   "id": "566e1485",
   "metadata": {},
   "outputs": [
    {
     "ename": "ImportError",
     "evalue": "cannot import name 'hard_test' from 'Modules.models.test' (c:\\Users\\range\\OneDrive\\Área de Trabalho\\Mestrado\\Projetinhos\\hackathon-big_data_tech\\Files\\Code\\Modules\\models\\test.py)",
     "output_type": "error",
     "traceback": [
      "\u001b[31m---------------------------------------------------------------------------\u001b[39m",
      "\u001b[31mImportError\u001b[39m                               Traceback (most recent call last)",
      "\u001b[36mCell\u001b[39m\u001b[36m \u001b[39m\u001b[32mIn[62]\u001b[39m\u001b[32m, line 19\u001b[39m\n\u001b[32m     17\u001b[39m \u001b[38;5;28;01mfrom\u001b[39;00m\u001b[38;5;250m \u001b[39m\u001b[34;01mModules\u001b[39;00m\u001b[34;01m.\u001b[39;00m\u001b[34;01mmodels\u001b[39;00m\u001b[34;01m.\u001b[39;00m\u001b[34;01mWMAPELoss\u001b[39;00m\u001b[38;5;250m \u001b[39m\u001b[38;5;28;01mimport\u001b[39;00m WMAPELoss\n\u001b[32m     18\u001b[39m \u001b[38;5;28;01mfrom\u001b[39;00m\u001b[38;5;250m \u001b[39m\u001b[34;01mModules\u001b[39;00m\u001b[34;01m.\u001b[39;00m\u001b[34;01mmodels\u001b[39;00m\u001b[34;01m.\u001b[39;00m\u001b[34;01mtest\u001b[39;00m\u001b[38;5;250m \u001b[39m\u001b[38;5;28;01mimport\u001b[39;00m soft_test\n\u001b[32m---> \u001b[39m\u001b[32m19\u001b[39m \u001b[38;5;28;01mfrom\u001b[39;00m\u001b[38;5;250m \u001b[39m\u001b[34;01mModules\u001b[39;00m\u001b[34;01m.\u001b[39;00m\u001b[34;01mmodels\u001b[39;00m\u001b[34;01m.\u001b[39;00m\u001b[34;01mtest\u001b[39;00m\u001b[38;5;250m \u001b[39m\u001b[38;5;28;01mimport\u001b[39;00m hard_test\n",
      "\u001b[31mImportError\u001b[39m: cannot import name 'hard_test' from 'Modules.models.test' (c:\\Users\\range\\OneDrive\\Área de Trabalho\\Mestrado\\Projetinhos\\hackathon-big_data_tech\\Files\\Code\\Modules\\models\\test.py)"
     ]
    }
   ],
   "source": [
    "\"\"\" Importing libraries \"\"\"\n",
    "\n",
    "import pandas as pd\n",
    "import numpy as np\n",
    "import matplotlib.pyplot as plt\n",
    "import seaborn as sns\n",
    "\n",
    "import torch\n",
    "import torch.nn as nn\n",
    "from torch.utils.data import Dataset, DataLoader\n",
    "\n",
    "# Our modules\n",
    "from Modules.loading.read_parquet import read_parquet_file \n",
    "from Modules.preprocessing.onehot import one_hot_encode_parquet\n",
    "from Modules.models.NBeats import NBeatsBlock, NBeats\n",
    "from Modules.models.training import train_model_NBeats\n",
    "from Modules.models.WMAPELoss import WMAPELoss\n",
    "from Modules.models.test import soft_test\n",
    "from Modules.models.test import hard_test"
   ]
  },
  {
   "cell_type": "markdown",
   "id": "27d7650c",
   "metadata": {},
   "source": [
    "# Definição dos hiper-parâmetros"
   ]
  },
  {
   "cell_type": "code",
   "execution_count": null,
   "id": "9a4bbbb1",
   "metadata": {},
   "outputs": [],
   "source": [
    "\"\"\" Defining hyper-parameters \"\"\"\n",
    "# Neural Network Global Parameters\n",
    "input_size = 7  # Number of past days to use as input\n",
    "output_size = 1  # Number of future days to predict\n",
    "batch_size = 14  # Batch size for training\n",
    "\n",
    "n_layers = 4  # Number of layers in the N-BEATS model\n",
    "hidden_size = 128  # Number of hidden units in each layer\n",
    "\n",
    "# Training parameters\n",
    "learning_rate = 1e-3 # Learning rate for the optimizer\n",
    "epochs = 50  # Number of training epochs (iterations over the entire dataset)\n",
    "device = torch.device(\"cuda\" if torch.cuda.is_available() else \"cpu\")  # Use GPU if available"
   ]
  },
  {
   "cell_type": "markdown",
   "id": "b29f16a3",
   "metadata": {},
   "source": [
    "# Importação do Dataset\n",
    "\n",
    "É interessante dividir o treino em batches (mini-conjuntos de treino). Cada batch possui o tamanho de input size, seguindo a ordem cronológica de vendas dentro daquela janela de dias. No entanto, durante o treinamento é **ESSENCIAL** que a escolha do próximo batch seja aleatória.\n",
    "\n",
    "Ex.: Inicia o treino por 21-27 jul e prevê 28, depois pula para 02-08 fev para prever 03. Esse processo deve ser repetido até todos os dados serem treinados, finalizando **01 epoch**.\n",
    "\n",
    "O número de **epochs** diz o número total de iterações do modelo com relação ao dataset inteiro.\n",
    "\n",
    "Sobre a composição da janela de input dentro de um batch, existem duas abordagens:\n",
    "\n",
    "1) Treinar em cada janela todas as séries (pense que cada par produto-loja x tempo representa uma série temporal dentro daquele período). Esse modelo é bem mais complexo pois o output deve ter o mesmo tamanho de produto-loja.\n",
    "2) Treinar vários modelos separados (considerando uma série temporal para cada modelo). Esse método é ineficiente pois o modelo nunca irá aprender os padrões entre as séries.\n",
    "3) Treinar o modelo com um par produto-loja por vez. Ou seja:\n",
    "   - O modelo realiza epochs = N iterações de treino ao longo de todo dataset\n",
    "     - Em cada epoch, passa por todas as M batches\n",
    "       - Em cada batch (que possui uma janela de tamanho input_size), atualiza os parâmetros para cada série temporal ($x_l,y_l$). Totalizando L atualizações, com L sendo o número de pares produto-loja.\n",
    "\n",
    "Ressalta-se que cada conjunto ($x_l,y_l$) representa:\n",
    "- $x_l$: série temporal do l-ésimo par produto-loja, sendo um vetor de tamanho input_size x (features + 1)\n",
    "- $y_l$: Previsão de vendas do l-ésimo par produto-loja para os próximos $output_size$ dias\n"
   ]
  },
  {
   "cell_type": "code",
   "execution_count": null,
   "id": "6ebc9357",
   "metadata": {},
   "outputs": [],
   "source": [
    "\"\"\" Setting up the constants \"\"\"\n",
    "\n",
    "DATA_PATH = \"../Data/hackathon_2025_templates/part-00000-tid-\"\n",
    "\n",
    "FILE_HASH = [\n",
    "    \"2779033056155408584-f6316110-4c9a-4061-ae48-69b77c7c8c36\",\n",
    "    \"5196563791502273604-c90d3a24-52f2-4955-b4ec-fb143aae74d8\",\n",
    "    \"7173294866425216458-eae53fbf-d19e-4130-ba74-78f96b9675f1\",\n",
    "]\n",
    "\n",
    "SUFIX = \"-4-1-c000.snappy.parquet\"\n",
    "\n",
    "FILE_NAMES = [DATA_PATH + hash + SUFIX for hash in FILE_HASH]"
   ]
  },
  {
   "cell_type": "code",
   "execution_count": null,
   "id": "87170c7c",
   "metadata": {},
   "outputs": [],
   "source": [
    "\"\"\" Loading the data \"\"\"\n",
    "\n",
    "pdv_data = read_parquet_file(FILE_NAMES[0])\n",
    "transaction_data = read_parquet_file(FILE_NAMES[1])\n",
    "product_data = read_parquet_file(FILE_NAMES[2])"
   ]
  },
  {
   "cell_type": "code",
   "execution_count": null,
   "id": "c1d896b0",
   "metadata": {},
   "outputs": [
    {
     "data": {
      "application/vnd.microsoft.datawrangler.viewer.v0+json": {
       "columns": [
        {
         "name": "index",
         "rawType": "int64",
         "type": "integer"
        },
        {
         "name": "pdv",
         "rawType": "object",
         "type": "string"
        },
        {
         "name": "premise",
         "rawType": "object",
         "type": "string"
        },
        {
         "name": "categoria_pdv",
         "rawType": "object",
         "type": "string"
        },
        {
         "name": "zipcode",
         "rawType": "int32",
         "type": "integer"
        }
       ],
       "ref": "a94e1299-b344-4fe3-8199-40e08086f32b",
       "rows": [
        [
         "0",
         "2204965430669363375",
         "On Premise",
         "Mexican Rest",
         "30741"
        ],
        [
         "1",
         "5211957289528622910",
         "On Premise",
         "Hotel/Motel",
         "80011"
        ],
        [
         "2",
         "9024493554530757353",
         "Off Premise",
         "Convenience",
         "80751"
        ],
        [
         "3",
         "8659197371382902429",
         "On Premise",
         "Restaurant",
         "80439"
        ],
        [
         "4",
         "1400854873763881130",
         "On Premise",
         "Restaurant",
         "30093"
        ]
       ],
       "shape": {
        "columns": 4,
        "rows": 5
       }
      },
      "text/html": [
       "<div>\n",
       "<style scoped>\n",
       "    .dataframe tbody tr th:only-of-type {\n",
       "        vertical-align: middle;\n",
       "    }\n",
       "\n",
       "    .dataframe tbody tr th {\n",
       "        vertical-align: top;\n",
       "    }\n",
       "\n",
       "    .dataframe thead th {\n",
       "        text-align: right;\n",
       "    }\n",
       "</style>\n",
       "<table border=\"1\" class=\"dataframe\">\n",
       "  <thead>\n",
       "    <tr style=\"text-align: right;\">\n",
       "      <th></th>\n",
       "      <th>pdv</th>\n",
       "      <th>premise</th>\n",
       "      <th>categoria_pdv</th>\n",
       "      <th>zipcode</th>\n",
       "    </tr>\n",
       "  </thead>\n",
       "  <tbody>\n",
       "    <tr>\n",
       "      <th>0</th>\n",
       "      <td>2204965430669363375</td>\n",
       "      <td>On Premise</td>\n",
       "      <td>Mexican Rest</td>\n",
       "      <td>30741</td>\n",
       "    </tr>\n",
       "    <tr>\n",
       "      <th>1</th>\n",
       "      <td>5211957289528622910</td>\n",
       "      <td>On Premise</td>\n",
       "      <td>Hotel/Motel</td>\n",
       "      <td>80011</td>\n",
       "    </tr>\n",
       "    <tr>\n",
       "      <th>2</th>\n",
       "      <td>9024493554530757353</td>\n",
       "      <td>Off Premise</td>\n",
       "      <td>Convenience</td>\n",
       "      <td>80751</td>\n",
       "    </tr>\n",
       "    <tr>\n",
       "      <th>3</th>\n",
       "      <td>8659197371382902429</td>\n",
       "      <td>On Premise</td>\n",
       "      <td>Restaurant</td>\n",
       "      <td>80439</td>\n",
       "    </tr>\n",
       "    <tr>\n",
       "      <th>4</th>\n",
       "      <td>1400854873763881130</td>\n",
       "      <td>On Premise</td>\n",
       "      <td>Restaurant</td>\n",
       "      <td>30093</td>\n",
       "    </tr>\n",
       "  </tbody>\n",
       "</table>\n",
       "</div>"
      ],
      "text/plain": [
       "                   pdv      premise categoria_pdv  zipcode\n",
       "0  2204965430669363375   On Premise  Mexican Rest    30741\n",
       "1  5211957289528622910   On Premise   Hotel/Motel    80011\n",
       "2  9024493554530757353  Off Premise   Convenience    80751\n",
       "3  8659197371382902429   On Premise    Restaurant    80439\n",
       "4  1400854873763881130   On Premise    Restaurant    30093"
      ]
     },
     "execution_count": 6,
     "metadata": {},
     "output_type": "execute_result"
    }
   ],
   "source": [
    "pdv_data.head()"
   ]
  },
  {
   "cell_type": "code",
   "execution_count": null,
   "id": "7fcacadd",
   "metadata": {},
   "outputs": [
    {
     "data": {
      "application/vnd.microsoft.datawrangler.viewer.v0+json": {
       "columns": [
        {
         "name": "index",
         "rawType": "int64",
         "type": "integer"
        },
        {
         "name": "internal_store_id",
         "rawType": "object",
         "type": "string"
        },
        {
         "name": "internal_product_id",
         "rawType": "object",
         "type": "string"
        },
        {
         "name": "distributor_id",
         "rawType": "object",
         "type": "string"
        },
        {
         "name": "transaction_date",
         "rawType": "object",
         "type": "unknown"
        },
        {
         "name": "reference_date",
         "rawType": "object",
         "type": "unknown"
        },
        {
         "name": "quantity",
         "rawType": "float64",
         "type": "float"
        },
        {
         "name": "gross_value",
         "rawType": "float64",
         "type": "float"
        },
        {
         "name": "net_value",
         "rawType": "float64",
         "type": "float"
        },
        {
         "name": "gross_profit",
         "rawType": "float64",
         "type": "float"
        },
        {
         "name": "discount",
         "rawType": "float64",
         "type": "float"
        },
        {
         "name": "taxes",
         "rawType": "float64",
         "type": "float"
        }
       ],
       "ref": "38ca5fc0-6146-49c3-a70d-f5826f0c3c33",
       "rows": [
        [
         "0",
         "7384367747233276219",
         "328903483604537190",
         "9",
         "2022-07-13",
         "2022-07-01",
         "1.0",
         "38.125",
         "37.890625",
         "10.042625427246094",
         "3.950000047683716",
         "0.234375"
        ],
        [
         "1",
         "3536908514005606262",
         "5418855670645487653",
         "5",
         "2022-03-21",
         "2022-03-01",
         "6.0",
         "107.25",
         "106.44000244140625",
         "24.73200225830078",
         "17.100000381469727",
         "0.8100000023841858"
        ],
        [
         "2",
         "3138231730993449825",
         "1087005562675741887",
         "6",
         "2022-09-06",
         "2022-09-01",
         "3.0",
         "56.625",
         "56.220001220703125",
         "14.124001502990723",
         "5.25",
         "0.4050000011920929"
        ],
        [
         "3",
         "3681167389484217654",
         "1401422983880045188",
         "5",
         "2022-09-11",
         "2022-09-01",
         "129.0",
         "1037.1600227355957",
         "1037.1600227355957",
         "156.3480257987976",
         "479.880006313324",
         "0.0"
        ],
        [
         "4",
         "7762413312337359369",
         "6614994347738381720",
         "4",
         "2022-02-18",
         "2022-02-01",
         "1.0",
         "26.229999542236328",
         "23.950241088867188",
         "6.550240993499756",
         "0.0",
         "2.2797579765319824"
        ]
       ],
       "shape": {
        "columns": 11,
        "rows": 5
       }
      },
      "text/html": [
       "<div>\n",
       "<style scoped>\n",
       "    .dataframe tbody tr th:only-of-type {\n",
       "        vertical-align: middle;\n",
       "    }\n",
       "\n",
       "    .dataframe tbody tr th {\n",
       "        vertical-align: top;\n",
       "    }\n",
       "\n",
       "    .dataframe thead th {\n",
       "        text-align: right;\n",
       "    }\n",
       "</style>\n",
       "<table border=\"1\" class=\"dataframe\">\n",
       "  <thead>\n",
       "    <tr style=\"text-align: right;\">\n",
       "      <th></th>\n",
       "      <th>internal_store_id</th>\n",
       "      <th>internal_product_id</th>\n",
       "      <th>distributor_id</th>\n",
       "      <th>transaction_date</th>\n",
       "      <th>reference_date</th>\n",
       "      <th>quantity</th>\n",
       "      <th>gross_value</th>\n",
       "      <th>net_value</th>\n",
       "      <th>gross_profit</th>\n",
       "      <th>discount</th>\n",
       "      <th>taxes</th>\n",
       "    </tr>\n",
       "  </thead>\n",
       "  <tbody>\n",
       "    <tr>\n",
       "      <th>0</th>\n",
       "      <td>7384367747233276219</td>\n",
       "      <td>328903483604537190</td>\n",
       "      <td>9</td>\n",
       "      <td>2022-07-13</td>\n",
       "      <td>2022-07-01</td>\n",
       "      <td>1.0</td>\n",
       "      <td>38.125000</td>\n",
       "      <td>37.890625</td>\n",
       "      <td>10.042625</td>\n",
       "      <td>3.950000</td>\n",
       "      <td>0.234375</td>\n",
       "    </tr>\n",
       "    <tr>\n",
       "      <th>1</th>\n",
       "      <td>3536908514005606262</td>\n",
       "      <td>5418855670645487653</td>\n",
       "      <td>5</td>\n",
       "      <td>2022-03-21</td>\n",
       "      <td>2022-03-01</td>\n",
       "      <td>6.0</td>\n",
       "      <td>107.250000</td>\n",
       "      <td>106.440002</td>\n",
       "      <td>24.732002</td>\n",
       "      <td>17.100000</td>\n",
       "      <td>0.810000</td>\n",
       "    </tr>\n",
       "    <tr>\n",
       "      <th>2</th>\n",
       "      <td>3138231730993449825</td>\n",
       "      <td>1087005562675741887</td>\n",
       "      <td>6</td>\n",
       "      <td>2022-09-06</td>\n",
       "      <td>2022-09-01</td>\n",
       "      <td>3.0</td>\n",
       "      <td>56.625000</td>\n",
       "      <td>56.220001</td>\n",
       "      <td>14.124002</td>\n",
       "      <td>5.250000</td>\n",
       "      <td>0.405000</td>\n",
       "    </tr>\n",
       "    <tr>\n",
       "      <th>3</th>\n",
       "      <td>3681167389484217654</td>\n",
       "      <td>1401422983880045188</td>\n",
       "      <td>5</td>\n",
       "      <td>2022-09-11</td>\n",
       "      <td>2022-09-01</td>\n",
       "      <td>129.0</td>\n",
       "      <td>1037.160023</td>\n",
       "      <td>1037.160023</td>\n",
       "      <td>156.348026</td>\n",
       "      <td>479.880006</td>\n",
       "      <td>0.000000</td>\n",
       "    </tr>\n",
       "    <tr>\n",
       "      <th>4</th>\n",
       "      <td>7762413312337359369</td>\n",
       "      <td>6614994347738381720</td>\n",
       "      <td>4</td>\n",
       "      <td>2022-02-18</td>\n",
       "      <td>2022-02-01</td>\n",
       "      <td>1.0</td>\n",
       "      <td>26.230000</td>\n",
       "      <td>23.950241</td>\n",
       "      <td>6.550241</td>\n",
       "      <td>0.000000</td>\n",
       "      <td>2.279758</td>\n",
       "    </tr>\n",
       "  </tbody>\n",
       "</table>\n",
       "</div>"
      ],
      "text/plain": [
       "     internal_store_id  internal_product_id distributor_id transaction_date  \\\n",
       "0  7384367747233276219   328903483604537190              9       2022-07-13   \n",
       "1  3536908514005606262  5418855670645487653              5       2022-03-21   \n",
       "2  3138231730993449825  1087005562675741887              6       2022-09-06   \n",
       "3  3681167389484217654  1401422983880045188              5       2022-09-11   \n",
       "4  7762413312337359369  6614994347738381720              4       2022-02-18   \n",
       "\n",
       "  reference_date  quantity  gross_value    net_value  gross_profit  \\\n",
       "0     2022-07-01       1.0    38.125000    37.890625     10.042625   \n",
       "1     2022-03-01       6.0   107.250000   106.440002     24.732002   \n",
       "2     2022-09-01       3.0    56.625000    56.220001     14.124002   \n",
       "3     2022-09-01     129.0  1037.160023  1037.160023    156.348026   \n",
       "4     2022-02-01       1.0    26.230000    23.950241      6.550241   \n",
       "\n",
       "     discount     taxes  \n",
       "0    3.950000  0.234375  \n",
       "1   17.100000  0.810000  \n",
       "2    5.250000  0.405000  \n",
       "3  479.880006  0.000000  \n",
       "4    0.000000  2.279758  "
      ]
     },
     "execution_count": 7,
     "metadata": {},
     "output_type": "execute_result"
    }
   ],
   "source": [
    "transaction_data.head()"
   ]
  },
  {
   "cell_type": "code",
   "execution_count": null,
   "id": "9406f105",
   "metadata": {},
   "outputs": [
    {
     "data": {
      "application/vnd.microsoft.datawrangler.viewer.v0+json": {
       "columns": [
        {
         "name": "index",
         "rawType": "int64",
         "type": "integer"
        },
        {
         "name": "produto",
         "rawType": "object",
         "type": "string"
        },
        {
         "name": "categoria",
         "rawType": "object",
         "type": "string"
        },
        {
         "name": "descricao",
         "rawType": "object",
         "type": "string"
        },
        {
         "name": "tipos",
         "rawType": "object",
         "type": "string"
        },
        {
         "name": "label",
         "rawType": "object",
         "type": "string"
        },
        {
         "name": "subcategoria",
         "rawType": "object",
         "type": "string"
        },
        {
         "name": "marca",
         "rawType": "object",
         "type": "string"
        },
        {
         "name": "fabricante",
         "rawType": "object",
         "type": "string"
        }
       ],
       "ref": "2cb040ed-147a-47b0-9758-dcdd7a0171e2",
       "rows": [
        [
         "0",
         "2282334733936076502",
         "Distilled Spirits",
         "JOSEPH CARTRON CAFÉ LIQUEUR",
         "Distilled Spirits",
         "Core",
         "Liqueurs & Cordials",
         "Joseph Cartron Cafe",
         "Spiribam"
        ],
        [
         "1",
         "6091840953834683482",
         "Distilled Spirits",
         "SPRINGBANK 18 YEAR SINGLE MALT 700ML",
         "Distilled Spirits",
         "Specialty",
         "Scotch Whisky",
         "Springbank 18 Year Single Malt",
         "Pacific Edge Wine & Spirits"
        ],
        [
         "2",
         "1968645851245092408",
         "Distilled Spirits",
         "J BRANDT TRIPLE SEC 12/750ML 30PF",
         "Distilled Spirits",
         "Private Label",
         "Liqueurs & Cordials",
         "J Brandt Triple Sec",
         "Sazerac Spirits"
        ],
        [
         "3",
         "994706710729219179",
         "Draft",
         "REFORMATION CASHMERE IPA 1/4 KEG",
         "Draft",
         "In&Out",
         "Other Draft",
         "Reformation Cashmere Fresh Hop IPA",
         "Reformation Brewery"
        ],
        [
         "4",
         "9209550539540384349",
         "Non-Alcohol",
         "HELLA MOSCOW MULE 750ML",
         "Non Alcohol",
         "Core",
         "Mixers",
         "Hella Bitters Bloody Mary",
         "Hella Bitter Llc"
        ]
       ],
       "shape": {
        "columns": 8,
        "rows": 5
       }
      },
      "text/html": [
       "<div>\n",
       "<style scoped>\n",
       "    .dataframe tbody tr th:only-of-type {\n",
       "        vertical-align: middle;\n",
       "    }\n",
       "\n",
       "    .dataframe tbody tr th {\n",
       "        vertical-align: top;\n",
       "    }\n",
       "\n",
       "    .dataframe thead th {\n",
       "        text-align: right;\n",
       "    }\n",
       "</style>\n",
       "<table border=\"1\" class=\"dataframe\">\n",
       "  <thead>\n",
       "    <tr style=\"text-align: right;\">\n",
       "      <th></th>\n",
       "      <th>produto</th>\n",
       "      <th>categoria</th>\n",
       "      <th>descricao</th>\n",
       "      <th>tipos</th>\n",
       "      <th>label</th>\n",
       "      <th>subcategoria</th>\n",
       "      <th>marca</th>\n",
       "      <th>fabricante</th>\n",
       "    </tr>\n",
       "  </thead>\n",
       "  <tbody>\n",
       "    <tr>\n",
       "      <th>0</th>\n",
       "      <td>2282334733936076502</td>\n",
       "      <td>Distilled Spirits</td>\n",
       "      <td>JOSEPH CARTRON CAFÉ LIQUEUR</td>\n",
       "      <td>Distilled Spirits</td>\n",
       "      <td>Core</td>\n",
       "      <td>Liqueurs &amp; Cordials</td>\n",
       "      <td>Joseph Cartron Cafe</td>\n",
       "      <td>Spiribam</td>\n",
       "    </tr>\n",
       "    <tr>\n",
       "      <th>1</th>\n",
       "      <td>6091840953834683482</td>\n",
       "      <td>Distilled Spirits</td>\n",
       "      <td>SPRINGBANK 18 YEAR SINGLE MALT 700ML</td>\n",
       "      <td>Distilled Spirits</td>\n",
       "      <td>Specialty</td>\n",
       "      <td>Scotch Whisky</td>\n",
       "      <td>Springbank 18 Year Single Malt</td>\n",
       "      <td>Pacific Edge Wine &amp; Spirits</td>\n",
       "    </tr>\n",
       "    <tr>\n",
       "      <th>2</th>\n",
       "      <td>1968645851245092408</td>\n",
       "      <td>Distilled Spirits</td>\n",
       "      <td>J BRANDT TRIPLE SEC 12/750ML 30PF</td>\n",
       "      <td>Distilled Spirits</td>\n",
       "      <td>Private Label</td>\n",
       "      <td>Liqueurs &amp; Cordials</td>\n",
       "      <td>J Brandt Triple Sec</td>\n",
       "      <td>Sazerac Spirits</td>\n",
       "    </tr>\n",
       "    <tr>\n",
       "      <th>3</th>\n",
       "      <td>994706710729219179</td>\n",
       "      <td>Draft</td>\n",
       "      <td>REFORMATION CASHMERE IPA 1/4 KEG</td>\n",
       "      <td>Draft</td>\n",
       "      <td>In&amp;Out</td>\n",
       "      <td>Other Draft</td>\n",
       "      <td>Reformation Cashmere Fresh Hop IPA</td>\n",
       "      <td>Reformation Brewery</td>\n",
       "    </tr>\n",
       "    <tr>\n",
       "      <th>4</th>\n",
       "      <td>9209550539540384349</td>\n",
       "      <td>Non-Alcohol</td>\n",
       "      <td>HELLA MOSCOW MULE 750ML</td>\n",
       "      <td>Non Alcohol</td>\n",
       "      <td>Core</td>\n",
       "      <td>Mixers</td>\n",
       "      <td>Hella Bitters Bloody Mary</td>\n",
       "      <td>Hella Bitter Llc</td>\n",
       "    </tr>\n",
       "  </tbody>\n",
       "</table>\n",
       "</div>"
      ],
      "text/plain": [
       "               produto          categoria  \\\n",
       "0  2282334733936076502  Distilled Spirits   \n",
       "1  6091840953834683482  Distilled Spirits   \n",
       "2  1968645851245092408  Distilled Spirits   \n",
       "3   994706710729219179              Draft   \n",
       "4  9209550539540384349        Non-Alcohol   \n",
       "\n",
       "                              descricao              tipos          label  \\\n",
       "0           JOSEPH CARTRON CAFÉ LIQUEUR  Distilled Spirits           Core   \n",
       "1  SPRINGBANK 18 YEAR SINGLE MALT 700ML  Distilled Spirits      Specialty   \n",
       "2     J BRANDT TRIPLE SEC 12/750ML 30PF  Distilled Spirits  Private Label   \n",
       "3      REFORMATION CASHMERE IPA 1/4 KEG              Draft         In&Out   \n",
       "4               HELLA MOSCOW MULE 750ML        Non Alcohol           Core   \n",
       "\n",
       "          subcategoria                               marca  \\\n",
       "0  Liqueurs & Cordials                 Joseph Cartron Cafe   \n",
       "1        Scotch Whisky      Springbank 18 Year Single Malt   \n",
       "2  Liqueurs & Cordials                 J Brandt Triple Sec   \n",
       "3          Other Draft  Reformation Cashmere Fresh Hop IPA   \n",
       "4               Mixers           Hella Bitters Bloody Mary   \n",
       "\n",
       "                    fabricante  \n",
       "0                     Spiribam  \n",
       "1  Pacific Edge Wine & Spirits  \n",
       "2              Sazerac Spirits  \n",
       "3          Reformation Brewery  \n",
       "4             Hella Bitter Llc  "
      ]
     },
     "execution_count": 8,
     "metadata": {},
     "output_type": "execute_result"
    }
   ],
   "source": [
    "product_data.head()"
   ]
  },
  {
   "cell_type": "markdown",
   "id": "fe9f4e83",
   "metadata": {},
   "source": [
    "# Reorganizando os dados em pares produto-loja"
   ]
  },
  {
   "cell_type": "code",
   "execution_count": null,
   "id": "7bb1ad06",
   "metadata": {},
   "outputs": [],
   "source": [
    "\n",
    "# 1) juntar produto\n",
    "df = transaction_data.merge(\n",
    "    product_data,\n",
    "    left_on=\"internal_product_id\",\n",
    "    right_on=\"produto\",\n",
    "    how=\"left\"\n",
    ")\n",
    "\n",
    "# 2) juntar loja\n",
    "df = df.merge(\n",
    "    pdv_data,\n",
    "    left_on=\"internal_store_id\",\n",
    "    right_on=\"pdv\",\n",
    "    how=\"left\"\n",
    ")\n",
    "\n",
    "# 3) garantir que a data esteja no formato datetime\n",
    "df[\"transaction_date\"] = pd.to_datetime(df[\"transaction_date\"])\n",
    "\n",
    "# 4) pivotar: dia x par produto-loja\n",
    "full_df = (\n",
    "    df.pivot_table(\n",
    "        index=\"transaction_date\",                        # agora usa transaction_date\n",
    "        columns=[\"internal_product_id\", \"internal_store_id\"],  \n",
    "        values=\"quantity\",                               # mantenha 'quantity' se esse for o nome certo\n",
    "        aggfunc=\"sum\",\n",
    "        fill_value=0\n",
    "    )\n",
    ")\n",
    "\n",
    "# 5) deixar colunas mais legíveis: produto_loja\n",
    "full_df.columns = [f\"{p}_{l}\" for p, l in full_df.columns]\n",
    "\n",
    "# 6) garantir todas as datas do período (mesmo sem vendas)\n",
    "full_df = full_df.reindex(\n",
    "    pd.date_range(df[\"transaction_date\"].min(), df[\"transaction_date\"].max(), freq=\"D\"),\n",
    "    fill_value=0\n",
    ")\n",
    "full_df.index.name = \"data\"\n"
   ]
  },
  {
   "cell_type": "markdown",
   "id": "12f71577",
   "metadata": {},
   "source": [
    "# Transformando o Dataframe em um Dataset"
   ]
  },
  {
   "cell_type": "code",
   "execution_count": null,
   "id": "baf39687",
   "metadata": {},
   "outputs": [],
   "source": [
    "# Exemplo único e aleatório de uma série temporal\n",
    "##dataset = full_df[full_df.columns[232]].values\n",
    "\n",
    "n_data = 1000\n",
    "time = np.linspace(0, 20 * np.pi, n_data)\n",
    "\n",
    "dataset = np.sin(time) + 0.5 * np.sin(3 * time) + 0.2 * np.sin(5 * time) + 0.1 * np.random.randn(n_data)\n",
    "\n",
    "\n",
    "# Inicializando os vetores de entrada e os rótulos\n",
    "X = []\n",
    "y = []\n",
    "\n",
    "# Número total de amostras que podem ser extraídas\n",
    "n_samples = len(dataset) - input_size - output_size + 1\n",
    "\n",
    "# Extraindo janelas deslizantes\n",
    "for i in range(n_samples):\n",
    "    x_window = dataset[i:i+input_size]                   # últimos input_size dias\n",
    "    y_window = dataset[i+input_size:i+input_size+output_size]  # próximo dia\n",
    "\n",
    "    X.append(x_window)\n",
    "    y.append(y_window)\n",
    "\n",
    "# Convertendo para arrays numpy e depois para tensores PyTorch\n",
    "X = np.array(X)  # shape = [n_samples, input_size]\n",
    "y = np.array(y)  # shape = [n_samples, output_size]\n",
    "\n",
    "X = torch.tensor(X, dtype=torch.float32)  # shape = [n_samples, input_size, 1]\n",
    "\n",
    "y = torch.tensor(y, dtype=torch.float32)  # shape = [n_samples, 1]\n",
    "\n",
    "\" Definindo o Dataset e DataLoader do PyTorch \"\n",
    "class SingleSeriesDataset(Dataset):\n",
    "    def __init__(self, X, y):\n",
    "        self.X = X\n",
    "        self.y = y\n",
    "\n",
    "    def __len__(self):\n",
    "        return len(self.X)\n",
    "\n",
    "    def __getitem__(self, idx):\n",
    "        return self.X[idx], self.y[idx]\n",
    "\n",
    "dataset_full = SingleSeriesDataset(X, y)"
   ]
  },
  {
   "cell_type": "markdown",
   "id": "6a1109f2",
   "metadata": {},
   "source": [
    "# Separando os dados entre treino / validação\n",
    "\n",
    "Os dados serão separados na proporção 80% - treino / 20% validação. Para séries temporais, é usual que essa separação seja feita de forma cronológica"
   ]
  },
  {
   "cell_type": "code",
   "execution_count": null,
   "id": "78fbf17e",
   "metadata": {},
   "outputs": [
    {
     "name": "stdout",
     "output_type": "stream",
     "text": [
      "Há um total de 993 janelas e o split_point = 794, em 80%\n"
     ]
    }
   ],
   "source": [
    "# Ponto de separação entre treino e validação\n",
    "split_point = int(0.8 * len(dataset_full))\n",
    "\n",
    "# Separação cronológica das janelas\n",
    "X_train, X_test = X[:split_point], X[split_point:]\n",
    "y_train, y_test = y[:split_point], y[split_point:]\n",
    "\n",
    "\n",
    "print(f\"Há um total de {len(dataset_full)} janelas e o split_point = {split_point}, em 80%\")"
   ]
  },
  {
   "cell_type": "markdown",
   "id": "a9145c17",
   "metadata": {},
   "source": [
    "# Treinamento"
   ]
  },
  {
   "cell_type": "code",
   "execution_count": null,
   "id": "9b0c15ff",
   "metadata": {},
   "outputs": [
    {
     "name": "stdout",
     "output_type": "stream",
     "text": [
      "Epoch 1/50, Loss: 0.1757\n",
      "Epoch 2/50, Loss: 0.0444\n",
      "Epoch 3/50, Loss: 0.0173\n",
      "Epoch 4/50, Loss: 0.0168\n",
      "Epoch 5/50, Loss: 0.0180\n",
      "Epoch 6/50, Loss: 0.0211\n",
      "Epoch 7/50, Loss: 0.0162\n",
      "Epoch 8/50, Loss: 0.0172\n",
      "Epoch 9/50, Loss: 0.0209\n",
      "Epoch 10/50, Loss: 0.0190\n",
      "Epoch 11/50, Loss: 0.0170\n",
      "Epoch 12/50, Loss: 0.0198\n",
      "Epoch 13/50, Loss: 0.0179\n",
      "Epoch 14/50, Loss: 0.0190\n",
      "Epoch 15/50, Loss: 0.0164\n",
      "Epoch 16/50, Loss: 0.0161\n",
      "Epoch 17/50, Loss: 0.0173\n",
      "Epoch 18/50, Loss: 0.0191\n",
      "Epoch 19/50, Loss: 0.0220\n",
      "Epoch 20/50, Loss: 0.0156\n",
      "Epoch 21/50, Loss: 0.0159\n",
      "Epoch 22/50, Loss: 0.0167\n",
      "Epoch 23/50, Loss: 0.0158\n",
      "Epoch 24/50, Loss: 0.0187\n",
      "Epoch 25/50, Loss: 0.0193\n",
      "Epoch 26/50, Loss: 0.0171\n",
      "Epoch 27/50, Loss: 0.0155\n",
      "Epoch 28/50, Loss: 0.0168\n",
      "Epoch 29/50, Loss: 0.0161\n",
      "Epoch 30/50, Loss: 0.0155\n",
      "Epoch 31/50, Loss: 0.0173\n",
      "Epoch 32/50, Loss: 0.0171\n",
      "Epoch 33/50, Loss: 0.0178\n",
      "Epoch 34/50, Loss: 0.0152\n",
      "Epoch 35/50, Loss: 0.0149\n",
      "Epoch 36/50, Loss: 0.0155\n",
      "Epoch 37/50, Loss: 0.0160\n",
      "Epoch 38/50, Loss: 0.0165\n",
      "Epoch 39/50, Loss: 0.0157\n",
      "Epoch 40/50, Loss: 0.0146\n",
      "Epoch 41/50, Loss: 0.0171\n",
      "Epoch 42/50, Loss: 0.0173\n",
      "Epoch 43/50, Loss: 0.0160\n",
      "Epoch 44/50, Loss: 0.0146\n",
      "Epoch 45/50, Loss: 0.0145\n",
      "Epoch 46/50, Loss: 0.0159\n",
      "Epoch 47/50, Loss: 0.0147\n",
      "Epoch 48/50, Loss: 0.0161\n",
      "Epoch 49/50, Loss: 0.0140\n",
      "Epoch 50/50, Loss: 0.0159\n"
     ]
    }
   ],
   "source": [
    "# Adotando o dataset de treino\n",
    "dataset = SingleSeriesDataset(X_train, y_train)\n",
    "dataloader = DataLoader(dataset, batch_size, shuffle=False) # shuffle=False para séries tempor\n",
    "\n",
    "# Inicialização do modelo N-BEATS\n",
    "model = NBeats(input_size, hidden_size, output_size=output_size).to(device)\n",
    "\n",
    "model, criterion, optimizer = train_model_NBeats(model, learning_rate, epochs, device, dataloader)\n"
   ]
  },
  {
   "cell_type": "markdown",
   "id": "3c436ce4",
   "metadata": {},
   "source": [
    "# Validação do modelo\n",
    "\n",
    "São feitos dois testes:\n",
    "\n",
    "- **Soft test:** Modelo  tenta fazer as previsões, mas não utiliza-as nas previsões futuras, utiliza sempre os *ground truth* como input\n",
    "- **Hard test:** Modelo tenta fazer as previsões, e utiliza $y_{i-1}$ para a previsão de $y_i$"
   ]
  },
  {
   "cell_type": "code",
   "execution_count": null,
   "id": "8561181a",
   "metadata": {},
   "outputs": [
    {
     "name": "stdout",
     "output_type": "stream",
     "text": [
      "Val Loss: 0.0191\n"
     ]
    },
    {
     "ename": "NameError",
     "evalue": "name 'hard_test' is not defined",
     "output_type": "error",
     "traceback": [
      "\u001b[31m---------------------------------------------------------------------------\u001b[39m",
      "\u001b[31mNameError\u001b[39m                                 Traceback (most recent call last)",
      "\u001b[36mCell\u001b[39m\u001b[36m \u001b[39m\u001b[32mIn[56]\u001b[39m\u001b[32m, line 3\u001b[39m\n\u001b[32m      1\u001b[39m all_preds_S, all_targets_S, avg_loss_test_S = soft_test(model, dataloader, device, criterion)\n\u001b[32m----> \u001b[39m\u001b[32m3\u001b[39m all_preds_H, all_targets_H, avg_loss_test_H = \u001b[43mhard_test\u001b[49m(model, dataloader, device, output_size, criterion)\n",
      "\u001b[31mNameError\u001b[39m: name 'hard_test' is not defined"
     ]
    }
   ],
   "source": [
    "all_preds_S, all_targets_S, avg_loss_test_S = soft_test(model, dataloader, device, criterion)\n",
    "\n",
    "all_preds_H, all_targets_H, avg_loss_test_H = hard_test(model, dataloader, device, output_size, criterion)"
   ]
  },
  {
   "cell_type": "code",
   "execution_count": null,
   "id": "b4fcdc42",
   "metadata": {},
   "outputs": [
    {
     "name": "stdout",
     "output_type": "stream",
     "text": [
      "(993, 7) (993, 1) 7 1\n",
      "1000\n"
     ]
    },
    {
     "data": {
      "text/plain": [
       "[<matplotlib.lines.Line2D at 0x1a5c2cb0190>]"
      ]
     },
     "execution_count": 37,
     "metadata": {},
     "output_type": "execute_result"
    },
    {
     "data": {
      "image/png": "[encoded data removed]",
      "text/plain": [
       "<Figure size 1200x600 with 1 Axes>"
      ]
     },
     "metadata": {},
     "output_type": "display_data"
    }
   ],
   "source": [
    "n_samples = 1000\n",
    "time = np.linspace(0, 20 * np.pi, n_samples)\n",
    "\n",
    "dataset = np.sin(time) + 0.5 * np.sin(3 * time) + 0.2 * np.sin(5 * time) + 0.1 * np.random.randn(n_samples)\n",
    "\n",
    "# Inicializando os vetores de entrada e os rótulos\n",
    "X = []\n",
    "y = []\n",
    "\n",
    "# Número total de amostras que podem ser extraídas\n",
    "n_samples = len(dataset) - input_size - output_size + 1\n",
    "\n",
    "# Extraindo janelas deslizantes\n",
    "for i in range(n_samples):\n",
    "    x_window = dataset[i:i+input_size]                   # últimos input_size dias\n",
    "    y_window = dataset[i+input_size:i+input_size+output_size]  # próximo dia\n",
    "\n",
    "    X.append(x_window)\n",
    "    y.append(y_window)\n",
    "\n",
    "# Convertendo para arrays numpy e depois para tensores PyTorch\n",
    "X = np.array(X)  # shape = [n_samples, input_size]\n",
    "y = np.array(y)  # shape = [n_samples, output_size]\n",
    "\n",
    "print(X.shape, y.shape, input_size, output_size)\n",
    "print(len(dataset))\n",
    "plt.figure(figsize=(12, 6))\n",
    "plt.plot(time, dataset, label='Série Temporal Sintética')\n",
    "\n"
   ]
  },
  {
   "cell_type": "code",
   "execution_count": null,
   "id": "3978d349",
   "metadata": {},
   "outputs": [],
   "source": []
  }
 ],
 "metadata": {
  "kernelspec": {
   "display_name": "Python 3",
   "language": "python",
   "name": "python3"
  },
  "language_info": {
   "codemirror_mode": {
    "name": "ipython",
    "version": 3
   },
   "file_extension": ".py",
   "mimetype": "text/x-python",
   "name": "python",
   "nbconvert_exporter": "python",
   "pygments_lexer": "ipython3",
   "version": "3.13.7"
  }
 },
 "nbformat": 4,
 "nbformat_minor": 5
}
