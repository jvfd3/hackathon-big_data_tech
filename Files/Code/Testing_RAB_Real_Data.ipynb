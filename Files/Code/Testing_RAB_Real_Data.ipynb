{
 "cells": [
  {
   "cell_type": "markdown",
   "id": "7ac92f81",
   "metadata": {},
   "source": [
    "# Instalando bibliotecas"
   ]
  },
  {
   "cell_type": "code",
   "execution_count": 38,
   "id": "0a8f4704",
   "metadata": {},
   "outputs": [
    {
     "name": "stdout",
     "output_type": "stream",
     "text": [
      "Note: you may need to restart the kernel to use updated packages.\n",
      "Note: you may need to restart the kernel to use updated packages.\n"
     ]
    }
   ],
   "source": [
    "\"\"\" Installing libraries \"\"\"\n",
    "%pip install --quiet pandas==2.3.2 matplotlib==3.10.6 seaborn==0.13.2 scikit-learn==1.7.1 numpy==2.2.6 pyarrow==21.0.0\n",
    "%pip install --quiet torch torchvision torchaudio --index-url https://download.pytorch.org/whl/cu129"
   ]
  },
  {
   "cell_type": "markdown",
   "id": "0a3b8257",
   "metadata": {},
   "source": [
    "# Importando bibliotecas (externas e próprias)"
   ]
  },
  {
   "cell_type": "code",
   "execution_count": 39,
   "id": "566e1485",
   "metadata": {},
   "outputs": [],
   "source": [
    "\"\"\" Importing libraries \"\"\"\n",
    "\n",
    "import sys\n",
    "import os\n",
    "\n",
    "# Add the parent directory to sys.path so 'Modules' can be imported\n",
    "sys.path.append(os.path.abspath(os.path.join(os.getcwd(), '..')))\n",
    "\n",
    "import pandas as pd\n",
    "import numpy as np\n",
    "import matplotlib.pyplot as plt\n",
    "import seaborn as sns\n",
    "\n",
    "import torch\n",
    "import torch.nn as nn\n",
    "from torch.utils.data import Dataset, DataLoader\n",
    "\n",
    "# Our modules\n",
    "from Modules.evaluation.output_formatter import forecast_to_output\n",
    "from Modules.loading.plug_n_play import get_clean_data\n",
    "from Modules.loading.read_parquet import read_parquet_file \n",
    "from Modules.models.forecast import forecast_blind\n",
    "from Modules.models.make_dataset import SingleSeriesDataset, MultiSeriesDataset\n",
    "from Modules.models.NBeats import NBeatsBlock, NBeats\n",
    "from Modules.models.test import hard_test\n",
    "from Modules.models.test import soft_test\n",
    "from Modules.models.training import train_model\n",
    "from Modules.models.WMAPELoss import WMAPELoss\n",
    "from Modules.preprocessing.onehot import one_hot_encode_parquet\n"
   ]
  },
  {
   "cell_type": "markdown",
   "id": "27d7650c",
   "metadata": {},
   "source": [
    "# Definição dos hiper-parâmetros"
   ]
  },
  {
   "cell_type": "code",
   "execution_count": 37,
   "id": "9a4bbbb1",
   "metadata": {},
   "outputs": [],
   "source": [
    "\"\"\" Defining hyper-parameters \"\"\"\n",
    "\n",
    "HYPERPARAMS = {\n",
    "    # Neural Network Global Parameters\n",
    "    'input_size': 30,       # Number of past days to use as input\n",
    "    'output_size': 7,       # Number of future days to predict\n",
    "    'batch_size': 28,       # Batch size for training\n",
    "    'n_layers': 4,          # Number of layers in the N-BEATS model\n",
    "    'hidden_size': 128,     # Number of hidden units in each layer\n",
    "\n",
    "    # Training parameters\n",
    "    'learning_rate': 1e-3,  # Learning rate for the optimizer\n",
    "    'epochs': 10,          # Number of training epochs (iterations over the entire dataset)\n",
    "    'device': torch.device(\"cuda\" if torch.cuda.is_available() else \"cpu\"),  # Use GPU if available\n",
    "    'blind_horizon': 4,     # Number of days to exclude from the end of the training set for hard test\n",
    "    'split': 1,             # Proportion of data to use for training (1.0 for validation)\n",
    "    'seed': 42,             # Random seed for reproducibility\n",
    "}"
   ]
  },
  {
   "cell_type": "markdown",
   "id": "b29f16a3",
   "metadata": {},
   "source": [
    "# Importação do Dataset\n",
    "\n",
    "É interessante dividir o treino em batches (mini-conjuntos de treino). Cada batch possui o tamanho de input size, seguindo a ordem cronológica de vendas dentro daquela janela de dias. No entanto, durante o treinamento é **ESSENCIAL** que a escolha do próximo batch seja aleatória.\n",
    "\n",
    "Ex.: Inicia o treino por 21-27 jul e prevê 28, depois pula para 02-08 fev para prever 03. Esse processo deve ser repetido até todos os dados serem treinados, finalizando **01 epoch**.\n",
    "\n",
    "O número de **epochs** diz o número total de iterações do modelo com relação ao dataset inteiro.\n",
    "\n",
    "Sobre a composição da janela de input dentro de um batch, existem duas abordagens:\n",
    "\n",
    "1) Treinar em cada janela todas as séries (pense que cada par produto-loja x tempo representa uma série temporal dentro daquele período). Esse modelo é bem mais complexo pois o output deve ter o mesmo tamanho de produto-loja.\n",
    "2) Treinar vários modelos separados (considerando uma série temporal para cada modelo). Esse método é ineficiente pois o modelo nunca irá aprender os padrões entre as séries.\n",
    "3) Treinar o modelo com um par produto-loja por vez. Ou seja:\n",
    "   - O modelo realiza epochs = N iterações de treino ao longo de todo dataset\n",
    "     - Em cada epoch, passa por todas as M batches\n",
    "       - Em cada batch (que possui uma janela de tamanho input_size), atualiza os parâmetros para cada série temporal ($x_l,y_l$). Totalizando L atualizações, com L sendo o número de pares produto-loja.\n",
    "\n",
    "Ressalta-se que cada conjunto ($x_l,y_l$) representa:\n",
    "- $x_l$: série temporal do l-ésimo par produto-loja, sendo um vetor de tamanho input_size x (features + 1)\n",
    "- $y_l$: Previsão de vendas do l-ésimo par produto-loja para os próximos $output_size$ dias\n"
   ]
  },
  {
   "cell_type": "code",
   "execution_count": 40,
   "id": "aa2a1faf",
   "metadata": {},
   "outputs": [],
   "source": [
    "\"\"\" get dataset function \"\"\"\n",
    "\n",
    "def get_dataset(sample, feature, hyperparams):\n",
    "    input_size = hyperparams['input_size']\n",
    "    output_size = hyperparams['output_size']\n",
    "\n",
    "    # Inicializando os vetores de entrada e os rótulos\n",
    "    X = []\n",
    "    y = []\n",
    "\n",
    "    # Número total de amostras (janelas diferentes) que podem ser extraídas\n",
    "    # de um mesmo sample\n",
    "    num_windows = len(sample) - input_size - output_size + 1\n",
    "    print(f\"Número total de janelas extraídas: {num_windows}\")\n",
    "    print(f\"Para janelas de tamanho {input_size} e previsão de {output_size} dias à frente.\")\n",
    "    # Extraindo janelas deslizantes\n",
    "    for i in range(num_windows):\n",
    "\n",
    "        X_window = sample[i:i+input_size]             # janela de entrada\n",
    "        feature_window = feature[i:i+input_size]      # janela de entrada\n",
    "\n",
    "        X_window = np.stack([X_window,feature_window], axis=1)  # shape = (input_size, 4)\n",
    "\n",
    "        y_window = sample[i+input_size:i+input_size+output_size]  # próximos dias da série\n",
    "\n",
    "        X.append(X_window)\n",
    "        y.append(y_window)\n",
    "\n",
    "    # Convertendo para arrays numpy e depois para tensores PyTorch\n",
    "    X = np.array(X)  # shape = [num_windows, input_size, num_features]\n",
    "    y = np.array(y)  # shape = [num_windows, output_size]\n",
    "    print()\n",
    "    print(\"O vetor de entrada  antes do flatten\")\n",
    "    print(f\"tem shape (num_windows, size_window, num_features): {X.shape}\")\n",
    "\n",
    "    X = torch.tensor(X, dtype=torch.float32)  # shape = [n_samples, input_size, 1]\n",
    "\n",
    "    y = torch.tensor(y, dtype=torch.float32)  # shape = [n_samples, 1]\n",
    "\n",
    "\n",
    "    dataset_full = SingleSeriesDataset(X, y)\n",
    "    return dataset_full, X, y\n"
   ]
  },
  {
   "cell_type": "code",
   "execution_count": 41,
   "id": "fa342bb9",
   "metadata": {},
   "outputs": [],
   "source": [
    "\"\"\" Training Model \"\"\"\n",
    "\n",
    "def traininig_func(X_train, y_train, num_features, hyperparams):\n",
    "    # Adotando o dataset de treino\n",
    "    batch_size = hyperparams['batch_size']\n",
    "    input_size = hyperparams['input_size']\n",
    "    hidden_size = hyperparams['hidden_size']\n",
    "    output_size = hyperparams['output_size']\n",
    "    n_layers = hyperparams['n_layers']\n",
    "    device = hyperparams['device']\n",
    "    learning_rate = hyperparams['learning_rate']\n",
    "    epochs = hyperparams['epochs']\n",
    "    \n",
    "    num_features = num_features\n",
    "    \n",
    "    dataset = SingleSeriesDataset(X_train, y_train) \n",
    "    dataloader = DataLoader(dataset, batch_size, shuffle=False) # shuffle=False para séries temporais\n",
    "\n",
    "    # Inicialização do modelo N-BEATS (considerando X_train com num_features)\n",
    "    model = NBeats(input_size*num_features, hidden_size, output_size, n_layers).to(device)\n",
    "    model, criterion, optimizer = train_model(model, learning_rate, epochs, device, dataloader)\n",
    "    return model\n"
   ]
  },
  {
   "cell_type": "code",
   "execution_count": 42,
   "id": "c2c68833",
   "metadata": {},
   "outputs": [],
   "source": [
    "\"\"\" Training Model \"\"\"\n",
    "\n",
    "def get_blind_prediction(model, X_train, hyperparams):\n",
    "    blind_horizon = hyperparams['blind_horizon']\n",
    "    device = hyperparams['device']\n",
    "    output_size = hyperparams['output_size']\n",
    "    split = hyperparams['split']\n",
    "\n",
    "    if split != 1.0:\n",
    "        print(\"Previsão cega não realizada, pois split < 1.0\")\n",
    "        return\n",
    "\n",
    "    blind_prediction = forecast_blind(model, X_train, blind_horizon, device, output_size)\n",
    "    return blind_prediction\n",
    "    \n"
   ]
  },
  {
   "cell_type": "code",
   "execution_count": 43,
   "id": "c6d7f963",
   "metadata": {},
   "outputs": [],
   "source": [
    "\"\"\" Separando treino e validação \"\"\"\n",
    "\n",
    "def get_train_validation(dataset_full, X, y, hyperparams):\n",
    "    split = hyperparams['split']\n",
    "\n",
    "    X_test, y_test = None, None\n",
    "    X_train, y_train = None, None\n",
    "    \n",
    "    # Ponto de separação entre treino e validação (Caso seja para envio, não há validação)\n",
    "    if split < 1:\n",
    "        split_point = int(split * len(dataset_full))\n",
    "        # Separação cronológica das janelas\n",
    "        X_train, X_test = X[:split_point], X[split_point:]\n",
    "        y_train, y_test = y[:split_point], y[split_point:]\n",
    "    else:\n",
    "        X_train = X\n",
    "        y_train = y\n",
    "\n",
    "    num_features = X_train.shape[2]\n",
    "    \n",
    "    # Flatten do tensor para entrar na rede\n",
    "    X_train = X_train.view(X_train.shape[0], -1)  # shape = [num_windows_train, input_size * n_features]\n",
    "\n",
    "    if split < 1:\n",
    "        X_test  = X_test.view(X_test.shape[0], -1) # shape = [num_windows_test, input_size * n_features]\n",
    "\n",
    "    print(f\"Há um total de {len(dataset_full)} janelas e o split ocorre em {split*100:.0f}% do dataset\")\n",
    "    print(f\" O shape de X_train é {X_train.shape} e o shape de X_test é {X_test.shape}\") if split < 1 else \"\"\n",
    "    print(f\" O shape de y_train é {y_train.shape} e o shape de y_test é {y_test.shape}\") if split < 1 else \"\"\n",
    "\n",
    "    return X_train, y_train, X_test, y_test, num_features\n",
    "    "
   ]
  },
  {
   "cell_type": "code",
   "execution_count": 44,
   "id": "a06621cd",
   "metadata": {},
   "outputs": [],
   "source": [
    "\"\"\" Get Sample \"\"\"\n",
    "\n",
    "def get_sample(clean_data, col):\n",
    "    sample = clean_data[col].values\n",
    "    # sample = clean_data[sampled_col.sum()].values\n",
    "\n",
    "    plt.figure(figsize=(12, 6))\n",
    "    plt.bar(range(len(clean_data)), sample)\n",
    "    return sample\n"
   ]
  },
  {
   "cell_type": "code",
   "execution_count": 45,
   "id": "607da96b",
   "metadata": {},
   "outputs": [],
   "source": [
    "\"\"\" Create Feature and Rescale \"\"\"\n",
    "\n",
    "def create_feature_rescale(sampled): # Rescaling e sampling\n",
    "    sample = (sampled - np.min(sampled)) / (np.max(sampled) - np.min(sampled))\n",
    "    \n",
    "    feature = [sampled[t] - sampled[t-1] for t in range(1, len(sampled))]\n",
    "    feature = (feature - np.min(feature)) / (np.max(feature) - np.min(feature))\n",
    "    return sample, feature"
   ]
  },
  {
   "cell_type": "code",
   "execution_count": 46,
   "id": "87fdface",
   "metadata": {},
   "outputs": [],
   "source": [
    "\"\"\" Get Preditions \"\"\"\n",
    "\n",
    "def get_predictions(clean_data, prediction_col, hyperparams):\n",
    "    sample = get_sample(clean_data, prediction_col)\n",
    "    sample, feature = create_feature_rescale(sample)\n",
    "    dataset_full, X, y = get_dataset(sample, feature, hyperparams)\n",
    "    X_train, y_train, X_test, y_test, num_features = get_train_validation(dataset_full, X, y, hyperparams)\n",
    "    model = traininig_func(X_train, y_train, num_features, hyperparams)\n",
    "    blind_prediction = get_blind_prediction(model, X_train, hyperparams)\n",
    "    return blind_prediction \n"
   ]
  },
  {
   "cell_type": "code",
   "execution_count": 47,
   "id": "153eaa33",
   "metadata": {},
   "outputs": [],
   "source": [
    "\"\"\" Get dataframe predictions \"\"\"\n",
    "def get_dataframe_predictions(clean_data, HYPERPARAMS):\n",
    "    final_predictions = dict()\n",
    "\n",
    "    # for col in clean_data[:5]:\n",
    "    for col in clean_data.T[:5].T:\n",
    "        final_predictions[col] = get_predictions(clean_data, col, HYPERPARAMS)\n",
    "    return final_predictions"
   ]
  },
  {
   "cell_type": "code",
   "execution_count": 48,
   "id": "9f3dfb41",
   "metadata": {},
   "outputs": [
    {
     "name": "stdout",
     "output_type": "stream",
     "text": [
      "19:21:513 FILE_PATHS\n",
      "00:00:000 loaded_data\n",
      "00:04:458 numerical_table\n",
      "00:01:336 outlierless\n",
      "00:02:271 pivoted_df\n",
      "00:29:899 rescaled_df\n",
      "00:20:218 copying\n",
      "00:01:354 returning\n"
     ]
    }
   ],
   "source": [
    "\"\"\" Recebe os dados filtrados / limpos \"\"\"\n",
    "\n",
    "clean_data = get_clean_data(verbose=True)"
   ]
  },
  {
   "cell_type": "code",
   "execution_count": 49,
   "id": "4622ce60",
   "metadata": {},
   "outputs": [
    {
     "name": "stdout",
     "output_type": "stream",
     "text": [
      "Número total de janelas extraídas: 329\n",
      "Para janelas de tamanho 30 e previsão de 7 dias à frente.\n",
      "\n",
      "O vetor de entrada  antes do flatten\n",
      "tem shape (num_windows, size_window, num_features): (329, 30, 2)\n",
      "Há um total de 329 janelas e o split ocorre em 100% do dataset\n",
      "Epoch 1/10, Loss: 561680079.0089\n",
      "Epoch 2/10, Loss: 212357792.2602\n",
      "Epoch 3/10, Loss: 116804382.5597\n",
      "Epoch 4/10, Loss: 108273327.5214\n",
      "Epoch 5/10, Loss: 57306799.1930\n",
      "Epoch 6/10, Loss: 58455281.8529\n",
      "Epoch 7/10, Loss: 58147104.1820\n",
      "Epoch 8/10, Loss: 63640116.5120\n",
      "Epoch 9/10, Loss: 71560793.5179\n",
      "Epoch 10/10, Loss: 84234324.2027\n",
      "Número total de janelas extraídas: 329\n",
      "Para janelas de tamanho 30 e previsão de 7 dias à frente.\n",
      "\n",
      "O vetor de entrada  antes do flatten\n",
      "tem shape (num_windows, size_window, num_features): (329, 30, 2)\n",
      "Há um total de 329 janelas e o split ocorre em 100% do dataset\n",
      "Epoch 1/10, Loss: 421504656.1210\n",
      "Epoch 2/10, Loss: 152714215.4294\n",
      "Epoch 3/10, Loss: 73800525.0939\n",
      "Epoch 4/10, Loss: 75271079.4247\n",
      "Epoch 5/10, Loss: 66488246.0893\n",
      "Epoch 6/10, Loss: 57836538.7578\n",
      "Epoch 7/10, Loss: 77080871.0885\n",
      "Epoch 8/10, Loss: 93628779.0919\n",
      "Epoch 9/10, Loss: 80403176.7590\n",
      "Epoch 10/10, Loss: 122056777.4291\n",
      "Número total de janelas extraídas: 329\n",
      "Para janelas de tamanho 30 e previsão de 7 dias à frente.\n",
      "\n",
      "O vetor de entrada  antes do flatten\n",
      "tem shape (num_windows, size_window, num_features): (329, 30, 2)\n",
      "Há um total de 329 janelas e o split ocorre em 100% do dataset\n",
      "Epoch 1/10, Loss: 505283042.7774\n",
      "Epoch 2/10, Loss: 150761370.7676\n",
      "Epoch 3/10, Loss: 83189994.7609\n",
      "Epoch 4/10, Loss: 82799222.0935\n",
      "Epoch 5/10, Loss: 78430679.0930\n",
      "Epoch 6/10, Loss: 83416621.7626\n",
      "Epoch 7/10, Loss: 80047704.0949\n",
      "Epoch 8/10, Loss: 76417637.0935\n",
      "Epoch 9/10, Loss: 79267601.7588\n",
      "Epoch 10/10, Loss: 76418136.4304\n",
      "Número total de janelas extraídas: 329\n",
      "Para janelas de tamanho 30 e previsão de 7 dias à frente.\n",
      "\n",
      "O vetor de entrada  antes do flatten\n",
      "tem shape (num_windows, size_window, num_features): (329, 30, 2)\n",
      "Há um total de 329 janelas e o split ocorre em 100% do dataset\n",
      "Epoch 1/10, Loss: 455810141.4606\n",
      "Epoch 2/10, Loss: 139574402.7669\n",
      "Epoch 3/10, Loss: 104008609.4273\n",
      "Epoch 4/10, Loss: 82316747.0922\n",
      "Epoch 5/10, Loss: 86040938.0931\n",
      "Epoch 6/10, Loss: 70270074.7607\n",
      "Epoch 7/10, Loss: 58673713.9233\n",
      "Epoch 8/10, Loss: 44456779.4227\n",
      "Epoch 9/10, Loss: 62161035.4244\n",
      "Epoch 10/10, Loss: 59329875.4226\n",
      "Número total de janelas extraídas: 329\n",
      "Para janelas de tamanho 30 e previsão de 7 dias à frente.\n",
      "\n",
      "O vetor de entrada  antes do flatten\n",
      "tem shape (num_windows, size_window, num_features): (329, 30, 2)\n",
      "Há um total de 329 janelas e o split ocorre em 100% do dataset\n",
      "Epoch 1/10, Loss: 443690019.6516\n",
      "Epoch 2/10, Loss: 150174084.8954\n",
      "Epoch 3/10, Loss: 123071100.2374\n",
      "Epoch 4/10, Loss: 97021687.5364\n",
      "Epoch 5/10, Loss: 75756380.8830\n",
      "Epoch 6/10, Loss: 78511658.0587\n",
      "Epoch 7/10, Loss: 97934621.5469\n",
      "Epoch 8/10, Loss: 73378307.8771\n",
      "Epoch 9/10, Loss: 76462243.5553\n",
      "Epoch 10/10, Loss: 93157284.5472\n"
     ]
    },
    {
     "data": {
      "image/png": "[encoded data removed]",
      "text/plain": [
       "<Figure size 1200x600 with 1 Axes>"
      ]
     },
     "metadata": {},
     "output_type": "display_data"
    },
    {
     "data": {
      "image/png": "[encoded data removed]",
      "text/plain": [
       "<Figure size 1200x600 with 1 Axes>"
      ]
     },
     "metadata": {},
     "output_type": "display_data"
    },
    {
     "data": {
      "image/png": "[encoded data removed]",
      "text/plain": [
       "<Figure size 1200x600 with 1 Axes>"
      ]
     },
     "metadata": {},
     "output_type": "display_data"
    },
    {
     "data": {
      "image/png": "[encoded data removed]",
      "text/plain": [
       "<Figure size 1200x600 with 1 Axes>"
      ]
     },
     "metadata": {},
     "output_type": "display_data"
    },
    {
     "data": {
      "image/png": "[encoded data removed]",
      "text/plain": [
       "<Figure size 1200x600 with 1 Axes>"
      ]
     },
     "metadata": {},
     "output_type": "display_data"
    }
   ],
   "source": [
    "\"\"\" Modularizando o código de predição \"\"\"\n",
    "\n",
    "final_predictions = get_dataframe_predictions(clean_data, HYPERPARAMS)\n"
   ]
  },
  {
   "cell_type": "code",
   "execution_count": 55,
   "id": "7f31928f",
   "metadata": {},
   "outputs": [
    {
     "data": {
      "text/plain": [
       "{('1000423277513436210',\n",
       "  '1164003957453133052'): tensor([-5.1048e-03, -2.4085e-03, -8.4244e-04, -3.4523e-03,  1.2534e-02,\n",
       "         -1.3444e-03, -7.0442e-03, -5.8087e-03, -8.5704e-04,  4.2030e-03,\n",
       "         -4.3917e-03,  1.3415e-02, -2.4255e-03, -6.3349e-03, -6.0464e-03,\n",
       "         -2.0071e-03, -2.9535e-05, -4.1788e-03,  1.3132e-02,  1.4130e-04,\n",
       "         -5.7500e-03, -3.4271e-03, -2.0669e-03,  2.4513e-03, -6.5755e-03,\n",
       "          1.3404e-02, -2.6830e-03, -1.2874e-02], device='cuda:0',\n",
       "        grad_fn=<CatBackward0>),\n",
       " ('1000423277513436210',\n",
       "  '1870860275432322673'): tensor([-0.0100,  0.0002, -0.0026, -0.0099, -0.0160, -0.0047,  0.0022,  0.0083,\n",
       "         -0.0031, -0.0177, -0.0133, -0.0149, -0.0071,  0.0043, -0.0091, -0.0001,\n",
       "         -0.0049, -0.0090, -0.0153, -0.0063,  0.0020,  0.0094, -0.0084, -0.0117,\n",
       "         -0.0139, -0.0181, -0.0091,  0.0029], device='cuda:0',\n",
       "        grad_fn=<CatBackward0>),\n",
       " ('1000423277513436210',\n",
       "  '2096630570628676364'): tensor([ 0.0009,  0.0011, -0.0085,  0.0014, -0.0006, -0.0076, -0.0028, -0.0039,\n",
       "          0.0062,  0.0060, -0.0002,  0.0110, -0.0183, -0.0155,  0.0006,  0.0012,\n",
       "         -0.0063,  0.0033,  0.0008, -0.0055, -0.0067, -0.0029,  0.0074,  0.0052,\n",
       "          0.0013,  0.0072, -0.0200, -0.0125], device='cuda:0',\n",
       "        grad_fn=<CatBackward0>),\n",
       " ('1000423277513436210',\n",
       "  '217259671743916895'): tensor([ 0.0040, -0.0052,  0.0018, -0.0001, -0.0075,  0.0014, -0.0097,  0.0062,\n",
       "         -0.0078,  0.0054,  0.0061, -0.0122, -0.0004, -0.0209,  0.0022, -0.0080,\n",
       "          0.0005,  0.0002, -0.0068,  0.0021, -0.0096,  0.0050, -0.0055,  0.0031,\n",
       "          0.0056, -0.0081,  0.0025, -0.0150], device='cuda:0',\n",
       "        grad_fn=<CatBackward0>),\n",
       " ('1000423277513436210',\n",
       "  '2787787091062505567'): tensor([ 0.0015,  0.0001, -0.0018,  0.0029,  0.0020,  0.0006, -0.0025, -0.0002,\n",
       "          0.0040,  0.0008,  0.0049,  0.0018,  0.0008,  0.0021,  0.0005,  0.0016,\n",
       "         -0.0014,  0.0046,  0.0020, -0.0005, -0.0016,  0.0005,  0.0011,  0.0025,\n",
       "          0.0038,  0.0023, -0.0012,  0.0020], device='cuda:0',\n",
       "        grad_fn=<CatBackward0>)}"
      ]
     },
     "execution_count": 55,
     "metadata": {},
     "output_type": "execute_result"
    }
   ],
   "source": [
    "final_predictions"
   ]
  },
  {
   "cell_type": "code",
   "execution_count": 63,
   "id": "b33aa354",
   "metadata": {},
   "outputs": [],
   "source": [
    "def forecast_to_output_2(predictions) -> pd.DataFrame:\n",
    "    \"\"\"\n",
    "    Converte a previsão do modelo em um DataFrame formatado para submissão.\n",
    "    \n",
    "    Args:\n",
    "        prediction (torch.Tensor): Tensor de previsão com shape (num_predictions, output_size).\n",
    "        col_id (str): Identificador da coluna no formato 'produto_loja'.\n",
    "        \n",
    "    Returns:\n",
    "        pd.DataFrame: DataFrame formatado com colunas ['semana', 'pdv', 'produto', 'quantidade'].\n",
    "    \"\"\"\n",
    "    import math\n",
    "\n",
    "    df_final = pd.DataFrame(columns=['semana', 'pdv', 'produto', 'quantidade'])\n",
    "    df_final = df_final.astype({\n",
    "        'semana': 'int32',\n",
    "        'pdv': 'int32',\n",
    "        'produto': 'int32',\n",
    "        'quantidade': 'int32'\n",
    "    })\n",
    "    \n",
    "    for key, value in predictions.items():\n",
    "        product_id, store_id = key\n",
    "        values = value.detach().cpu().numpy().flatten()\n",
    "\n",
    "        weeks = []\n",
    "        for i in range(0, len(values), 7):\n",
    "            week_sum = values[i:i+7].sum()\n",
    "            weeks.append(math.ceil(week_sum))\n",
    "\n",
    "        # Crie o DataFrame final\n",
    "        df_temp = pd.DataFrame({\n",
    "            'semana': list(range(1, len(weeks) + 1)),\n",
    "            'pdv': store_id,\n",
    "            'produto': product_id,\n",
    "            'quantidade': weeks\n",
    "        })\n",
    "        # Append to df_final\n",
    "        df_final = pd.concat([df_final, df_temp], ignore_index=True)\n",
    "\n",
    "    df_final.to_csv('submission.csv', index=False, sep=';', encoding='utf-8')\n",
    "    return df_final"
   ]
  },
  {
   "cell_type": "code",
   "execution_count": 64,
   "id": "64605f97",
   "metadata": {},
   "outputs": [],
   "source": [
    "\"\"\" Output Formatting \"\"\"\n",
    "\n",
    "final_df = forecast_to_output_2(final_predictions)"
   ]
  },
  {
   "cell_type": "code",
   "execution_count": 65,
   "id": "1b0ded1c",
   "metadata": {},
   "outputs": [
    {
     "data": {
      "application/vnd.microsoft.datawrangler.viewer.v0+json": {
       "columns": [
        {
         "name": "index",
         "rawType": "int64",
         "type": "integer"
        },
        {
         "name": "semana",
         "rawType": "int64",
         "type": "integer"
        },
        {
         "name": "pdv",
         "rawType": "object",
         "type": "string"
        },
        {
         "name": "produto",
         "rawType": "object",
         "type": "string"
        },
        {
         "name": "quantidade",
         "rawType": "int64",
         "type": "integer"
        }
       ],
       "ref": "c3c85db2-1832-41bf-9d82-978bc3d981eb",
       "rows": [
        [
         "0",
         "1",
         "1164003957453133052",
         "1000423277513436210",
         "0"
        ],
        [
         "1",
         "2",
         "1164003957453133052",
         "1000423277513436210",
         "0"
        ],
        [
         "2",
         "3",
         "1164003957453133052",
         "1000423277513436210",
         "0"
        ],
        [
         "3",
         "4",
         "1164003957453133052",
         "1000423277513436210",
         "0"
        ],
        [
         "4",
         "1",
         "1870860275432322673",
         "1000423277513436210",
         "0"
        ],
        [
         "5",
         "2",
         "1870860275432322673",
         "1000423277513436210",
         "0"
        ],
        [
         "6",
         "3",
         "1870860275432322673",
         "1000423277513436210",
         "0"
        ],
        [
         "7",
         "4",
         "1870860275432322673",
         "1000423277513436210",
         "0"
        ],
        [
         "8",
         "1",
         "2096630570628676364",
         "1000423277513436210",
         "0"
        ],
        [
         "9",
         "2",
         "2096630570628676364",
         "1000423277513436210",
         "0"
        ],
        [
         "10",
         "3",
         "2096630570628676364",
         "1000423277513436210",
         "0"
        ],
        [
         "11",
         "4",
         "2096630570628676364",
         "1000423277513436210",
         "0"
        ],
        [
         "12",
         "1",
         "217259671743916895",
         "1000423277513436210",
         "0"
        ],
        [
         "13",
         "2",
         "217259671743916895",
         "1000423277513436210",
         "0"
        ],
        [
         "14",
         "3",
         "217259671743916895",
         "1000423277513436210",
         "0"
        ],
        [
         "15",
         "4",
         "217259671743916895",
         "1000423277513436210",
         "0"
        ],
        [
         "16",
         "1",
         "2787787091062505567",
         "1000423277513436210",
         "1"
        ],
        [
         "17",
         "2",
         "2787787091062505567",
         "1000423277513436210",
         "1"
        ],
        [
         "18",
         "3",
         "2787787091062505567",
         "1000423277513436210",
         "1"
        ],
        [
         "19",
         "4",
         "2787787091062505567",
         "1000423277513436210",
         "1"
        ]
       ],
       "shape": {
        "columns": 4,
        "rows": 20
       }
      },
      "text/html": [
       "<div>\n",
       "<style scoped>\n",
       "    .dataframe tbody tr th:only-of-type {\n",
       "        vertical-align: middle;\n",
       "    }\n",
       "\n",
       "    .dataframe tbody tr th {\n",
       "        vertical-align: top;\n",
       "    }\n",
       "\n",
       "    .dataframe thead th {\n",
       "        text-align: right;\n",
       "    }\n",
       "</style>\n",
       "<table border=\"1\" class=\"dataframe\">\n",
       "  <thead>\n",
       "    <tr style=\"text-align: right;\">\n",
       "      <th></th>\n",
       "      <th>semana</th>\n",
       "      <th>pdv</th>\n",
       "      <th>produto</th>\n",
       "      <th>quantidade</th>\n",
       "    </tr>\n",
       "  </thead>\n",
       "  <tbody>\n",
       "    <tr>\n",
       "      <th>0</th>\n",
       "      <td>1</td>\n",
       "      <td>1164003957453133052</td>\n",
       "      <td>1000423277513436210</td>\n",
       "      <td>0</td>\n",
       "    </tr>\n",
       "    <tr>\n",
       "      <th>1</th>\n",
       "      <td>2</td>\n",
       "      <td>1164003957453133052</td>\n",
       "      <td>1000423277513436210</td>\n",
       "      <td>0</td>\n",
       "    </tr>\n",
       "    <tr>\n",
       "      <th>2</th>\n",
       "      <td>3</td>\n",
       "      <td>1164003957453133052</td>\n",
       "      <td>1000423277513436210</td>\n",
       "      <td>0</td>\n",
       "    </tr>\n",
       "    <tr>\n",
       "      <th>3</th>\n",
       "      <td>4</td>\n",
       "      <td>1164003957453133052</td>\n",
       "      <td>1000423277513436210</td>\n",
       "      <td>0</td>\n",
       "    </tr>\n",
       "    <tr>\n",
       "      <th>4</th>\n",
       "      <td>1</td>\n",
       "      <td>1870860275432322673</td>\n",
       "      <td>1000423277513436210</td>\n",
       "      <td>0</td>\n",
       "    </tr>\n",
       "    <tr>\n",
       "      <th>5</th>\n",
       "      <td>2</td>\n",
       "      <td>1870860275432322673</td>\n",
       "      <td>1000423277513436210</td>\n",
       "      <td>0</td>\n",
       "    </tr>\n",
       "    <tr>\n",
       "      <th>6</th>\n",
       "      <td>3</td>\n",
       "      <td>1870860275432322673</td>\n",
       "      <td>1000423277513436210</td>\n",
       "      <td>0</td>\n",
       "    </tr>\n",
       "    <tr>\n",
       "      <th>7</th>\n",
       "      <td>4</td>\n",
       "      <td>1870860275432322673</td>\n",
       "      <td>1000423277513436210</td>\n",
       "      <td>0</td>\n",
       "    </tr>\n",
       "    <tr>\n",
       "      <th>8</th>\n",
       "      <td>1</td>\n",
       "      <td>2096630570628676364</td>\n",
       "      <td>1000423277513436210</td>\n",
       "      <td>0</td>\n",
       "    </tr>\n",
       "    <tr>\n",
       "      <th>9</th>\n",
       "      <td>2</td>\n",
       "      <td>2096630570628676364</td>\n",
       "      <td>1000423277513436210</td>\n",
       "      <td>0</td>\n",
       "    </tr>\n",
       "    <tr>\n",
       "      <th>10</th>\n",
       "      <td>3</td>\n",
       "      <td>2096630570628676364</td>\n",
       "      <td>1000423277513436210</td>\n",
       "      <td>0</td>\n",
       "    </tr>\n",
       "    <tr>\n",
       "      <th>11</th>\n",
       "      <td>4</td>\n",
       "      <td>2096630570628676364</td>\n",
       "      <td>1000423277513436210</td>\n",
       "      <td>0</td>\n",
       "    </tr>\n",
       "    <tr>\n",
       "      <th>12</th>\n",
       "      <td>1</td>\n",
       "      <td>217259671743916895</td>\n",
       "      <td>1000423277513436210</td>\n",
       "      <td>0</td>\n",
       "    </tr>\n",
       "    <tr>\n",
       "      <th>13</th>\n",
       "      <td>2</td>\n",
       "      <td>217259671743916895</td>\n",
       "      <td>1000423277513436210</td>\n",
       "      <td>0</td>\n",
       "    </tr>\n",
       "    <tr>\n",
       "      <th>14</th>\n",
       "      <td>3</td>\n",
       "      <td>217259671743916895</td>\n",
       "      <td>1000423277513436210</td>\n",
       "      <td>0</td>\n",
       "    </tr>\n",
       "    <tr>\n",
       "      <th>15</th>\n",
       "      <td>4</td>\n",
       "      <td>217259671743916895</td>\n",
       "      <td>1000423277513436210</td>\n",
       "      <td>0</td>\n",
       "    </tr>\n",
       "    <tr>\n",
       "      <th>16</th>\n",
       "      <td>1</td>\n",
       "      <td>2787787091062505567</td>\n",
       "      <td>1000423277513436210</td>\n",
       "      <td>1</td>\n",
       "    </tr>\n",
       "    <tr>\n",
       "      <th>17</th>\n",
       "      <td>2</td>\n",
       "      <td>2787787091062505567</td>\n",
       "      <td>1000423277513436210</td>\n",
       "      <td>1</td>\n",
       "    </tr>\n",
       "    <tr>\n",
       "      <th>18</th>\n",
       "      <td>3</td>\n",
       "      <td>2787787091062505567</td>\n",
       "      <td>1000423277513436210</td>\n",
       "      <td>1</td>\n",
       "    </tr>\n",
       "    <tr>\n",
       "      <th>19</th>\n",
       "      <td>4</td>\n",
       "      <td>2787787091062505567</td>\n",
       "      <td>1000423277513436210</td>\n",
       "      <td>1</td>\n",
       "    </tr>\n",
       "  </tbody>\n",
       "</table>\n",
       "</div>"
      ],
      "text/plain": [
       "    semana                  pdv              produto  quantidade\n",
       "0        1  1164003957453133052  1000423277513436210           0\n",
       "1        2  1164003957453133052  1000423277513436210           0\n",
       "2        3  1164003957453133052  1000423277513436210           0\n",
       "3        4  1164003957453133052  1000423277513436210           0\n",
       "4        1  1870860275432322673  1000423277513436210           0\n",
       "5        2  1870860275432322673  1000423277513436210           0\n",
       "6        3  1870860275432322673  1000423277513436210           0\n",
       "7        4  1870860275432322673  1000423277513436210           0\n",
       "8        1  2096630570628676364  1000423277513436210           0\n",
       "9        2  2096630570628676364  1000423277513436210           0\n",
       "10       3  2096630570628676364  1000423277513436210           0\n",
       "11       4  2096630570628676364  1000423277513436210           0\n",
       "12       1   217259671743916895  1000423277513436210           0\n",
       "13       2   217259671743916895  1000423277513436210           0\n",
       "14       3   217259671743916895  1000423277513436210           0\n",
       "15       4   217259671743916895  1000423277513436210           0\n",
       "16       1  2787787091062505567  1000423277513436210           1\n",
       "17       2  2787787091062505567  1000423277513436210           1\n",
       "18       3  2787787091062505567  1000423277513436210           1\n",
       "19       4  2787787091062505567  1000423277513436210           1"
      ]
     },
     "execution_count": 65,
     "metadata": {},
     "output_type": "execute_result"
    }
   ],
   "source": [
    "final_df"
   ]
  },
  {
   "cell_type": "markdown",
   "id": "d5b56034",
   "metadata": {},
   "source": [
    "# OLD"
   ]
  },
  {
   "cell_type": "markdown",
   "id": "c1afabfb",
   "metadata": {},
   "source": [
    "---"
   ]
  },
  {
   "cell_type": "code",
   "execution_count": null,
   "id": "6af9f8f0",
   "metadata": {},
   "outputs": [],
   "source": [
    "\"\"\" Sampling and plotting - OK\"\"\"\n",
    "\n",
    "sample = get_sample(clean_data, prediction_col)\n"
   ]
  },
  {
   "cell_type": "markdown",
   "id": "12f71577",
   "metadata": {},
   "source": [
    "# Transformando o Dataframe em um Dataset\n",
    "\n"
   ]
  },
  {
   "cell_type": "code",
   "execution_count": null,
   "id": "2d1b81eb",
   "metadata": {},
   "outputs": [],
   "source": [
    "\"\"\" Rescaling e sampling - OK \"\"\"\n",
    "\n",
    "sample, feature = create_feature_rescale(sample)\n"
   ]
  },
  {
   "cell_type": "code",
   "execution_count": null,
   "id": "baf39687",
   "metadata": {},
   "outputs": [],
   "source": [
    "\"\"\" get dataset \"\"\"\n",
    "\n",
    "dataset_full, X, y = get_dataset(sample, feature, hyperparams)\n"
   ]
  },
  {
   "cell_type": "markdown",
   "id": "6a1109f2",
   "metadata": {},
   "source": [
    "# Separando os dados entre treino / validação\n",
    "\n",
    "Os dados serão separados na proporção 80% - treino / 20% validação. Para séries temporais, é usual que essa separação seja feita de forma cronológica"
   ]
  },
  {
   "cell_type": "code",
   "execution_count": null,
   "id": "78fbf17e",
   "metadata": {},
   "outputs": [],
   "source": [
    "\"\"\" Separando treino e validação \"\"\"\n",
    "\n",
    "X_train, y_train, X_test, y_test, num_features = get_train_validation(dataset_full, X, y, hyperparams)\n"
   ]
  },
  {
   "cell_type": "markdown",
   "id": "a9145c17",
   "metadata": {},
   "source": [
    "# Treinamento"
   ]
  },
  {
   "cell_type": "code",
   "execution_count": null,
   "id": "9b0c15ff",
   "metadata": {},
   "outputs": [],
   "source": [
    "\"\"\" Training \"\"\"\n",
    "\n",
    "model = traininig_func(X_train, y_train, num_features, hyperparams)\n",
    "\n"
   ]
  },
  {
   "cell_type": "markdown",
   "id": "b986ff61",
   "metadata": {},
   "source": [
    "# Sanity check do modelo treinado"
   ]
  },
  {
   "cell_type": "code",
   "execution_count": null,
   "id": "d9a945c0",
   "metadata": {},
   "outputs": [],
   "source": [
    "\"\"\" Sanity Check - TO-DO\"\"\"\n",
    "\n",
    "# sanity_check_plot()\n",
    "\n",
    "# ===\n",
    "\n",
    "def sanity_check_plot(model, dataloader, device, output_size):\n",
    "    \"\"\"\n",
    "    Plota previsões vs ground truth no período de treino\n",
    "    \"\"\"\n",
    "    model.eval()\n",
    "    all_preds, all_targets = [], []\n",
    "\n",
    "    with torch.no_grad():\n",
    "        for x, y in dataloader:\n",
    "            x, y = x.to(device), y.to(device)\n",
    "\n",
    "            preds = model(x)\n",
    "            \n",
    "            # Se seu modelo retorna (batch, output_size)\n",
    "            preds = preds.cpu().numpy().flatten()\n",
    "            y = y.cpu().numpy().flatten()\n",
    "\n",
    "            all_preds.extend(preds)\n",
    "            all_targets.extend(y)\n",
    "\n",
    "    # Plot\n",
    "    plt.figure(figsize=(12, 5))\n",
    "    plt.plot(all_targets, label=\"Ground truth\", linewidth=2)\n",
    "    plt.plot(all_preds, label=\"Previsões\", linewidth=2, alpha=0.7)\n",
    "    plt.title(\"Sanity check - Previsões vs Ground Truth (treino)\")\n",
    "    plt.legend()\n",
    "    plt.show()\n",
    "\n",
    "sanity_check_plot(model, dataloader, device, output_size)"
   ]
  },
  {
   "cell_type": "code",
   "execution_count": null,
   "id": "5f9ef72d",
   "metadata": {},
   "outputs": [],
   "source": [
    "y"
   ]
  },
  {
   "cell_type": "markdown",
   "id": "3c436ce4",
   "metadata": {},
   "source": [
    "# Validação do modelo\n",
    "\n",
    "São feitos dois testes:\n",
    "\n",
    "- **Soft test:** Modelo  tenta fazer as previsões, mas não utiliza-as nas previsões futuras, utiliza sempre os *ground truth* como input\n",
    "- **Hard test:** Modelo tenta fazer as previsões, e utiliza $y_{i-1}$ para a previsão de $y_i$"
   ]
  },
  {
   "cell_type": "code",
   "execution_count": null,
   "id": "8561181a",
   "metadata": {},
   "outputs": [],
   "source": [
    "\"\"\" Model Validation - TO-DO \"\"\"\n",
    "\n",
    "# validate_model()\n",
    "\n",
    "# ===\n",
    "\n",
    "\" Validando o modelo quando o split é menor que 1\"\n",
    "if split < 1:\n",
    "    # Adotando o dataset de validação (soft)\n",
    "    dataset = SingleSeriesDataset(X_test, y_test)\n",
    "    dataloader = DataLoader(dataset, batch_size, shuffle=False) # shuffle=False para séries temporais\n",
    "\n",
    "    all_preds_S, all_targets_S, avg_loss_test_S = soft_test(model, dataloader, device, criterion)\n",
    "\n",
    "    # Validação hard - previsão cega das primeiras blind_horizon semanas\n",
    "    all_preds_H, all_targets_H, avg_loss_test_H = hard_test(model, X_train, y_train, y_test, split_point, device, criterion, blind_horizon, output_size)\n",
    "\n",
    "    \" Sanity check da validação do modelo (preds and targets)\"\n",
    "    all_preds_array = []\n",
    "    all_targets_array = []\n",
    "\n",
    "    # Convert lists to tensors before flattening\n",
    "    all_preds_tensor = torch.cat([t.unsqueeze(0) if t.dim() == 1 else t for t in all_preds_H], dim=0).flatten()\n",
    "    all_targets_tensor = torch.cat([t.unsqueeze(0) if t.dim() == 1 else t for t in all_targets_H], dim=0).flatten()\n",
    "\n",
    "    for t in all_preds_tensor:\n",
    "        all_preds_array.append(t.detach().numpy())\n",
    "    for t in all_targets_tensor:\n",
    "        all_targets_array.append(t.detach().numpy())\n",
    "\n",
    "\n",
    "    plt.figure(figsize=(12, 5))\n",
    "    plt.plot(all_targets_array, label=\"Ground truth\", linewidth=2)\n",
    "    plt.plot(all_preds_array, label=\"Previsões\", linewidth=2, alpha=0.7)\n",
    "    plt.legend()\n"
   ]
  },
  {
   "cell_type": "markdown",
   "id": "5ab971a0",
   "metadata": {},
   "source": [
    "# Previsão cega (quando split == 1)\n",
    "\n",
    "Previsão para envio para o hackathon das 4 primeiras semanas de janeiro/23. Utiliza todo o dataset como treino."
   ]
  },
  {
   "cell_type": "code",
   "execution_count": null,
   "id": "638d4e6d",
   "metadata": {},
   "outputs": [],
   "source": [
    "\"\"\" Blind prediction \"\"\"\n",
    "\n",
    "blind_prediction = get_blind_prediction(model, X_train, hyperparams)\n"
   ]
  },
  {
   "cell_type": "markdown",
   "id": "5cee228b",
   "metadata": {},
   "source": [
    "# Ponto de parada - RAB 18-09-25\n",
    "- Temporais (mais fáceis de pensar e implementar)\n",
    "- Categóricas (intrínsecas do produto ou da loja, como a categoria deles)\n",
    "- De localização (apenas se der tempo)\n",
    "\n",
    "Após termos feito isso, podemos então realizar normalização dos sinais, one hot encoding do que for viável e embedding de IDs etc"
   ]
  }
 ],
 "metadata": {
  "kernelspec": {
   "display_name": ".venv",
   "language": "python",
   "name": "python3"
  },
  "language_info": {
   "codemirror_mode": {
    "name": "ipython",
    "version": 3
   },
   "file_extension": ".py",
   "mimetype": "text/x-python",
   "name": "python",
   "nbconvert_exporter": "python",
   "pygments_lexer": "ipython3",
   "version": "3.13.7"
  }
 },
 "nbformat": 4,
 "nbformat_minor": 5
}
