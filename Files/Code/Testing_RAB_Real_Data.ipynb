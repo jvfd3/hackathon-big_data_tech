{
 "cells": [
  {
   "cell_type": "markdown",
   "id": "7ac92f81",
   "metadata": {},
   "source": [
    "# Instalando bibliotecas"
   ]
  },
  {
   "cell_type": "code",
   "execution_count": 1,
   "id": "0a8f4704",
   "metadata": {},
   "outputs": [
    {
     "name": "stdout",
     "output_type": "stream",
     "text": [
      "Requirement already satisfied: pandas==2.3.2 in c:\\users\\range\\onedrive\\área de trabalho\\mestrado\\projetinhos\\hackathon-big_data_tech\\.venv\\lib\\site-packages (2.3.2)\n",
      "Requirement already satisfied: matplotlib==3.10.6 in c:\\users\\range\\onedrive\\área de trabalho\\mestrado\\projetinhos\\hackathon-big_data_tech\\.venv\\lib\\site-packages (3.10.6)\n",
      "Requirement already satisfied: seaborn==0.13.2 in c:\\users\\range\\onedrive\\área de trabalho\\mestrado\\projetinhos\\hackathon-big_data_tech\\.venv\\lib\\site-packages (0.13.2)\n",
      "Requirement already satisfied: scikit-learn==1.7.1 in c:\\users\\range\\onedrive\\área de trabalho\\mestrado\\projetinhos\\hackathon-big_data_tech\\.venv\\lib\\site-packages (1.7.1)\n",
      "Requirement already satisfied: numpy==2.2.6 in c:\\users\\range\\onedrive\\área de trabalho\\mestrado\\projetinhos\\hackathon-big_data_tech\\.venv\\lib\\site-packages (2.2.6)\n",
      "Requirement already satisfied: pyarrow==21.0.0 in c:\\users\\range\\onedrive\\área de trabalho\\mestrado\\projetinhos\\hackathon-big_data_tech\\.venv\\lib\\site-packages (21.0.0)\n",
      "Requirement already satisfied: python-dateutil>=2.8.2 in c:\\users\\range\\onedrive\\área de trabalho\\mestrado\\projetinhos\\hackathon-big_data_tech\\.venv\\lib\\site-packages (from pandas==2.3.2) (2.9.0.post0)\n",
      "Requirement already satisfied: pytz>=2020.1 in c:\\users\\range\\onedrive\\área de trabalho\\mestrado\\projetinhos\\hackathon-big_data_tech\\.venv\\lib\\site-packages (from pandas==2.3.2) (2025.2)\n",
      "Requirement already satisfied: tzdata>=2022.7 in c:\\users\\range\\onedrive\\área de trabalho\\mestrado\\projetinhos\\hackathon-big_data_tech\\.venv\\lib\\site-packages (from pandas==2.3.2) (2025.2)\n",
      "Requirement already satisfied: contourpy>=1.0.1 in c:\\users\\range\\onedrive\\área de trabalho\\mestrado\\projetinhos\\hackathon-big_data_tech\\.venv\\lib\\site-packages (from matplotlib==3.10.6) (1.3.3)\n",
      "Requirement already satisfied: cycler>=0.10 in c:\\users\\range\\onedrive\\área de trabalho\\mestrado\\projetinhos\\hackathon-big_data_tech\\.venv\\lib\\site-packages (from matplotlib==3.10.6) (0.12.1)\n",
      "Requirement already satisfied: fonttools>=4.22.0 in c:\\users\\range\\onedrive\\área de trabalho\\mestrado\\projetinhos\\hackathon-big_data_tech\\.venv\\lib\\site-packages (from matplotlib==3.10.6) (4.60.0)\n",
      "Requirement already satisfied: kiwisolver>=1.3.1 in c:\\users\\range\\onedrive\\área de trabalho\\mestrado\\projetinhos\\hackathon-big_data_tech\\.venv\\lib\\site-packages (from matplotlib==3.10.6) (1.4.9)\n",
      "Requirement already satisfied: packaging>=20.0 in c:\\users\\range\\onedrive\\área de trabalho\\mestrado\\projetinhos\\hackathon-big_data_tech\\.venv\\lib\\site-packages (from matplotlib==3.10.6) (25.0)\n",
      "Requirement already satisfied: pillow>=8 in c:\\users\\range\\onedrive\\área de trabalho\\mestrado\\projetinhos\\hackathon-big_data_tech\\.venv\\lib\\site-packages (from matplotlib==3.10.6) (11.3.0)\n",
      "Requirement already satisfied: pyparsing>=2.3.1 in c:\\users\\range\\onedrive\\área de trabalho\\mestrado\\projetinhos\\hackathon-big_data_tech\\.venv\\lib\\site-packages (from matplotlib==3.10.6) (3.2.4)\n",
      "Requirement already satisfied: scipy>=1.8.0 in c:\\users\\range\\onedrive\\área de trabalho\\mestrado\\projetinhos\\hackathon-big_data_tech\\.venv\\lib\\site-packages (from scikit-learn==1.7.1) (1.16.2)\n",
      "Requirement already satisfied: joblib>=1.2.0 in c:\\users\\range\\onedrive\\área de trabalho\\mestrado\\projetinhos\\hackathon-big_data_tech\\.venv\\lib\\site-packages (from scikit-learn==1.7.1) (1.5.2)\n",
      "Requirement already satisfied: threadpoolctl>=3.1.0 in c:\\users\\range\\onedrive\\área de trabalho\\mestrado\\projetinhos\\hackathon-big_data_tech\\.venv\\lib\\site-packages (from scikit-learn==1.7.1) (3.6.0)\n",
      "Requirement already satisfied: six>=1.5 in c:\\users\\range\\onedrive\\área de trabalho\\mestrado\\projetinhos\\hackathon-big_data_tech\\.venv\\lib\\site-packages (from python-dateutil>=2.8.2->pandas==2.3.2) (1.17.0)\n",
      "Note: you may need to restart the kernel to use updated packages.\n",
      "Looking in indexes: https://download.pytorch.org/whl/cu129\n",
      "Requirement already satisfied: torch in c:\\users\\range\\onedrive\\área de trabalho\\mestrado\\projetinhos\\hackathon-big_data_tech\\.venv\\lib\\site-packages (2.8.0+cu129)\n",
      "Requirement already satisfied: torchvision in c:\\users\\range\\onedrive\\área de trabalho\\mestrado\\projetinhos\\hackathon-big_data_tech\\.venv\\lib\\site-packages (0.23.0+cu129)\n",
      "Requirement already satisfied: torchaudio in c:\\users\\range\\onedrive\\área de trabalho\\mestrado\\projetinhos\\hackathon-big_data_tech\\.venv\\lib\\site-packages (2.8.0+cu129)\n",
      "Requirement already satisfied: filelock in c:\\users\\range\\onedrive\\área de trabalho\\mestrado\\projetinhos\\hackathon-big_data_tech\\.venv\\lib\\site-packages (from torch) (3.19.1)\n",
      "Requirement already satisfied: typing-extensions>=4.10.0 in c:\\users\\range\\onedrive\\área de trabalho\\mestrado\\projetinhos\\hackathon-big_data_tech\\.venv\\lib\\site-packages (from torch) (4.15.0)\n",
      "Requirement already satisfied: sympy>=1.13.3 in c:\\users\\range\\onedrive\\área de trabalho\\mestrado\\projetinhos\\hackathon-big_data_tech\\.venv\\lib\\site-packages (from torch) (1.14.0)\n",
      "Requirement already satisfied: networkx in c:\\users\\range\\onedrive\\área de trabalho\\mestrado\\projetinhos\\hackathon-big_data_tech\\.venv\\lib\\site-packages (from torch) (3.5)\n",
      "Requirement already satisfied: jinja2 in c:\\users\\range\\onedrive\\área de trabalho\\mestrado\\projetinhos\\hackathon-big_data_tech\\.venv\\lib\\site-packages (from torch) (3.1.6)\n",
      "Requirement already satisfied: fsspec in c:\\users\\range\\onedrive\\área de trabalho\\mestrado\\projetinhos\\hackathon-big_data_tech\\.venv\\lib\\site-packages (from torch) (2025.9.0)\n",
      "Requirement already satisfied: setuptools in c:\\users\\range\\onedrive\\área de trabalho\\mestrado\\projetinhos\\hackathon-big_data_tech\\.venv\\lib\\site-packages (from torch) (80.9.0)\n",
      "Requirement already satisfied: numpy in c:\\users\\range\\onedrive\\área de trabalho\\mestrado\\projetinhos\\hackathon-big_data_tech\\.venv\\lib\\site-packages (from torchvision) (2.2.6)\n",
      "Requirement already satisfied: pillow!=8.3.*,>=5.3.0 in c:\\users\\range\\onedrive\\área de trabalho\\mestrado\\projetinhos\\hackathon-big_data_tech\\.venv\\lib\\site-packages (from torchvision) (11.3.0)\n",
      "Requirement already satisfied: mpmath<1.4,>=1.1.0 in c:\\users\\range\\onedrive\\área de trabalho\\mestrado\\projetinhos\\hackathon-big_data_tech\\.venv\\lib\\site-packages (from sympy>=1.13.3->torch) (1.3.0)\n",
      "Requirement already satisfied: MarkupSafe>=2.0 in c:\\users\\range\\onedrive\\área de trabalho\\mestrado\\projetinhos\\hackathon-big_data_tech\\.venv\\lib\\site-packages (from jinja2->torch) (3.0.2)\n",
      "Note: you may need to restart the kernel to use updated packages.\n"
     ]
    }
   ],
   "source": [
    "\"\"\" Installing libraries \"\"\"\n",
    "%pip install pandas==2.3.2 matplotlib==3.10.6 seaborn==0.13.2 scikit-learn==1.7.1 numpy==2.2.6 pyarrow==21.0.0\n",
    "%pip install torch torchvision torchaudio --index-url https://download.pytorch.org/whl/cu129"
   ]
  },
  {
   "cell_type": "markdown",
   "id": "0a3b8257",
   "metadata": {},
   "source": [
    "# Importando bibliotecas (externas e próprias)"
   ]
  },
  {
   "cell_type": "code",
   "execution_count": 2,
   "id": "566e1485",
   "metadata": {},
   "outputs": [],
   "source": [
    "\"\"\" Importing libraries \"\"\"\n",
    "\n",
    "import sys\n",
    "import os\n",
    "\n",
    "# Add the parent directory to sys.path so 'Modules' can be imported\n",
    "sys.path.append(os.path.abspath(os.path.join(os.getcwd(), '..')))\n",
    "\n",
    "import pandas as pd\n",
    "import numpy as np\n",
    "import matplotlib.pyplot as plt\n",
    "import seaborn as sns\n",
    "\n",
    "import torch\n",
    "import torch.nn as nn\n",
    "from torch.utils.data import Dataset, DataLoader\n",
    "\n",
    "# Our modules\n",
    "from Modules.loading.read_parquet import read_parquet_file \n",
    "from Modules.preprocessing.onehot import one_hot_encode_parquet\n",
    "from Modules.models.make_dataset import SingleSeriesDataset, MultiSeriesDataset\n",
    "from Modules.models.NBeats import NBeatsBlock, NBeats\n",
    "from Modules.models.WMAPELoss import WMAPELoss\n",
    "from Modules.models.training import train_model\n",
    "from Modules.models.test import soft_test\n",
    "from Modules.models.test import hard_test\n",
    "from Modules.models.forecast import forecast_blind\n",
    "from Modules.loading.plug_n_play import get_clean_data"
   ]
  },
  {
   "cell_type": "markdown",
   "id": "27d7650c",
   "metadata": {},
   "source": [
    "# Definição dos hiper-parâmetros"
   ]
  },
  {
   "cell_type": "code",
   "execution_count": 3,
   "id": "9a4bbbb1",
   "metadata": {},
   "outputs": [
    {
     "data": {
      "text/plain": [
       "device(type='cuda')"
      ]
     },
     "execution_count": 3,
     "metadata": {},
     "output_type": "execute_result"
    }
   ],
   "source": [
    "\"\"\" Defining hyper-parameters \"\"\"\n",
    "# Neural Network Global Parameters\n",
    "input_size = 30  # Number of past days to use as input\n",
    "output_size = 7  # Number of future days to predict\n",
    "batch_size = 28  # Batch size for training\n",
    "\n",
    "n_layers = 4  # Number of layers in the N-BEATS model\n",
    "hidden_size = 128  # Number of hidden units in each layer\n",
    "\n",
    "# Training parameters\n",
    "learning_rate = 1e-3 # Learning rate for the optimizer\n",
    "epochs = 100  # Number of training epochs (iterations over the entire dataset)\n",
    "device = torch.device(\"cuda\" if torch.cuda.is_available() else \"cpu\")  # Use GPU if available\n",
    "blind_horizon = 4  # Number of days to exclude from the end of the training set for hard test\n",
    "split = 1 # Proportion of data to use for training (1.0 for validation)\n",
    "seed = 42 # Random seed for reproducibility\n",
    "\n",
    "device"
   ]
  },
  {
   "cell_type": "markdown",
   "id": "b29f16a3",
   "metadata": {},
   "source": [
    "# Importação do Dataset\n",
    "\n",
    "É interessante dividir o treino em batches (mini-conjuntos de treino). Cada batch possui o tamanho de input size, seguindo a ordem cronológica de vendas dentro daquela janela de dias. No entanto, durante o treinamento é **ESSENCIAL** que a escolha do próximo batch seja aleatória.\n",
    "\n",
    "Ex.: Inicia o treino por 21-27 jul e prevê 28, depois pula para 02-08 fev para prever 03. Esse processo deve ser repetido até todos os dados serem treinados, finalizando **01 epoch**.\n",
    "\n",
    "O número de **epochs** diz o número total de iterações do modelo com relação ao dataset inteiro.\n",
    "\n",
    "Sobre a composição da janela de input dentro de um batch, existem duas abordagens:\n",
    "\n",
    "1) Treinar em cada janela todas as séries (pense que cada par produto-loja x tempo representa uma série temporal dentro daquele período). Esse modelo é bem mais complexo pois o output deve ter o mesmo tamanho de produto-loja.\n",
    "2) Treinar vários modelos separados (considerando uma série temporal para cada modelo). Esse método é ineficiente pois o modelo nunca irá aprender os padrões entre as séries.\n",
    "3) Treinar o modelo com um par produto-loja por vez. Ou seja:\n",
    "   - O modelo realiza epochs = N iterações de treino ao longo de todo dataset\n",
    "     - Em cada epoch, passa por todas as M batches\n",
    "       - Em cada batch (que possui uma janela de tamanho input_size), atualiza os parâmetros para cada série temporal ($x_l,y_l$). Totalizando L atualizações, com L sendo o número de pares produto-loja.\n",
    "\n",
    "Ressalta-se que cada conjunto ($x_l,y_l$) representa:\n",
    "- $x_l$: série temporal do l-ésimo par produto-loja, sendo um vetor de tamanho input_size x (features + 1)\n",
    "- $y_l$: Previsão de vendas do l-ésimo par produto-loja para os próximos $output_size$ dias\n"
   ]
  },
  {
   "cell_type": "code",
   "execution_count": null,
   "id": "6388577d",
   "metadata": {},
   "outputs": [],
   "source": [
    "# Recebe os dados filtrados / limpos\n",
    "clean_data = get_clean_data(verbose=True)"
   ]
  },
  {
   "cell_type": "code",
   "execution_count": 17,
   "id": "6af9f8f0",
   "metadata": {},
   "outputs": [
    {
     "data": {
      "text/plain": [
       "<BarContainer object of 365 artists>"
      ]
     },
     "execution_count": 17,
     "metadata": {},
     "output_type": "execute_result"
    },
    {
     "data": {
      "image/png": "[encoded data removed]",
      "text/plain": [
       "<Figure size 1200x600 with 1 Axes>"
      ]
     },
     "metadata": {},
     "output_type": "display_data"
    }
   ],
   "source": [
    "# Teste de uma série qualquer\n",
    "sum_df = clean_data.sum().sort_values(ascending=True)\n",
    "test_sample = clean_data[sum_df.index[-4555]].values\n",
    "\n",
    "plt.figure(figsize=(12, 6))\n",
    "plt.bar(range(len(clean_data)), test_sample)"
   ]
  },
  {
   "cell_type": "markdown",
   "id": "12f71577",
   "metadata": {},
   "source": [
    "# Transformando o Dataframe em um Dataset\n",
    "\n"
   ]
  },
  {
   "cell_type": "code",
   "execution_count": 18,
   "id": "2d1b81eb",
   "metadata": {},
   "outputs": [],
   "source": [
    "# Admissão de um sample para teste univariado\n",
    "sample = test_sample\n",
    "\n",
    "# Criação de um feature básico, de diferença entre dados consecutivos \n",
    "feature_1 = [sample[t] - sample[t-1] for t in range(1, len(sample))]\n",
    "\n",
    "# Normalização dos dados para a faixa [0, 1] - MÉTODO SIMPLES, PESQUISAR OUTROS\n",
    "sample = (test_sample - np.min(test_sample)) / (np.max(test_sample) - np.min(test_sample))\n",
    "feature_1 = (feature_1 - np.min(feature_1)) / (np.max(feature_1) - np.min(feature_1))\n",
    "\n"
   ]
  },
  {
   "cell_type": "code",
   "execution_count": 19,
   "id": "baf39687",
   "metadata": {},
   "outputs": [
    {
     "name": "stdout",
     "output_type": "stream",
     "text": [
      "Número total de janelas extraídas: 329\n",
      "Para janelas de tamanho 30 e previsão de 7 dias à frente.\n",
      "\n",
      "O vetor de entrada  antes do flatten\n",
      "tem shape (num_windows, size_window, num_features): (329, 30, 2)\n"
     ]
    }
   ],
   "source": [
    "# Inicializando os vetores de entrada e os rótulos\n",
    "X = []\n",
    "y = []\n",
    "\n",
    "# Número total de amostras (janelas diferentes) que podem ser extraídas\n",
    "# de um mesmo sample\n",
    "num_windows = len(sample) - input_size - output_size + 1\n",
    "print(f\"Número total de janelas extraídas: {num_windows}\")\n",
    "print(f\"Para janelas de tamanho {input_size} e previsão de {output_size} dias à frente.\")\n",
    "# Extraindo janelas deslizantes\n",
    "for i in range(num_windows):\n",
    "\n",
    "    X_window = sample[i:i+input_size]             # janela de entrada\n",
    "    feature_1_window = feature_1[i:i+input_size]      # janela de entrada\n",
    "\n",
    "    X_window = np.stack([X_window,feature_1_window], axis=1)  # shape = (input_size, 4)\n",
    "\n",
    "    y_window = sample[i+input_size:i+input_size+output_size]  # próximos dias da série\n",
    "\n",
    "    X.append(X_window)\n",
    "    y.append(y_window)\n",
    "\n",
    "# Convertendo para arrays numpy e depois para tensores PyTorch\n",
    "X = np.array(X)  # shape = [num_windows, input_size, num_features]\n",
    "y = np.array(y)  # shape = [num_windows, output_size]\n",
    "print()\n",
    "print(\"O vetor de entrada  antes do flatten\")\n",
    "print(f\"tem shape (num_windows, size_window, num_features): {X.shape}\")\n",
    "\n",
    "X = torch.tensor(X, dtype=torch.float32)  # shape = [n_samples, input_size, 1]\n",
    "\n",
    "y = torch.tensor(y, dtype=torch.float32)  # shape = [n_samples, 1]\n",
    "\n",
    "\n",
    "dataset_full = SingleSeriesDataset(X, y)\n"
   ]
  },
  {
   "cell_type": "markdown",
   "id": "6a1109f2",
   "metadata": {},
   "source": [
    "# Separando os dados entre treino / validação\n",
    "\n",
    "Os dados serão separados na proporção 80% - treino / 20% validação. Para séries temporais, é usual que essa separação seja feita de forma cronológica"
   ]
  },
  {
   "cell_type": "code",
   "execution_count": 21,
   "id": "78fbf17e",
   "metadata": {},
   "outputs": [
    {
     "name": "stdout",
     "output_type": "stream",
     "text": [
      "Há um total de 329 janelas e o split ocorre em 100% do dataset\n"
     ]
    },
    {
     "data": {
      "text/plain": [
       "''"
      ]
     },
     "execution_count": 21,
     "metadata": {},
     "output_type": "execute_result"
    }
   ],
   "source": [
    "# Ponto de separação entre treino e validação (Caso seja para envio, não há validação)\n",
    "if split < 1:\n",
    "    split_point = int(split * len(dataset_full))\n",
    "    # Separação cronológica das janelas\n",
    "    X_train, X_test = X[:split_point], X[split_point:]\n",
    "    y_train, y_test = y[:split_point], y[split_point:]\n",
    "else:\n",
    "    X_train = X\n",
    "    y_train = y\n",
    "\n",
    "num_features = X_train.shape[2]\n",
    "\n",
    "# Flatten do tensor para entrar na rede\n",
    "X_train = X_train.view(X_train.shape[0], -1)  # shape = [num_windows_train, input_size * n_features]\n",
    "\n",
    "if split < 1:\n",
    "    X_test  = X_test.view(X_test.shape[0], -1) # shape = [num_windows_test, input_size * n_features]\n",
    "\n",
    "print(f\"Há um total de {len(dataset_full)} janelas e o split ocorre em {split*100:.0f}% do dataset\")\n",
    "print(f\" O shape de X_train é {X_train.shape} e o shape de X_test é {X_test.shape}\") if split < 1 else \"\"\n",
    "print(f\" O shape de y_train é {y_train.shape} e o shape de y_test é {y_test.shape}\") if split < 1 else \"\""
   ]
  },
  {
   "cell_type": "markdown",
   "id": "a9145c17",
   "metadata": {},
   "source": [
    "# Treinamento"
   ]
  },
  {
   "cell_type": "code",
   "execution_count": 22,
   "id": "9b0c15ff",
   "metadata": {},
   "outputs": [
    {
     "name": "stdout",
     "output_type": "stream",
     "text": [
      "Epoch 1/100, Loss: 1.3800\n",
      "Epoch 2/100, Loss: 1.1064\n",
      "Epoch 3/100, Loss: 1.0654\n",
      "Epoch 4/100, Loss: 1.0429\n",
      "Epoch 5/100, Loss: 1.0374\n",
      "Epoch 6/100, Loss: 1.0600\n",
      "Epoch 7/100, Loss: 1.0839\n",
      "Epoch 8/100, Loss: 1.0263\n",
      "Epoch 9/100, Loss: 1.0331\n",
      "Epoch 10/100, Loss: 1.0203\n",
      "Epoch 11/100, Loss: 1.0181\n",
      "Epoch 12/100, Loss: 1.0031\n",
      "Epoch 13/100, Loss: 0.9918\n",
      "Epoch 14/100, Loss: 0.9915\n",
      "Epoch 15/100, Loss: 0.9950\n",
      "Epoch 16/100, Loss: 0.9812\n",
      "Epoch 17/100, Loss: 0.9459\n",
      "Epoch 18/100, Loss: 0.9017\n",
      "Epoch 19/100, Loss: 0.8648\n",
      "Epoch 20/100, Loss: 0.8453\n",
      "Epoch 21/100, Loss: 0.8268\n",
      "Epoch 22/100, Loss: 0.8221\n",
      "Epoch 23/100, Loss: 0.8199\n",
      "Epoch 24/100, Loss: 0.7645\n",
      "Epoch 25/100, Loss: 0.7390\n",
      "Epoch 26/100, Loss: 0.7746\n",
      "Epoch 27/100, Loss: 0.7293\n",
      "Epoch 28/100, Loss: 0.7686\n",
      "Epoch 29/100, Loss: 0.7418\n",
      "Epoch 30/100, Loss: 0.7004\n",
      "Epoch 31/100, Loss: 0.6995\n",
      "Epoch 32/100, Loss: 0.6731\n",
      "Epoch 33/100, Loss: 0.6578\n",
      "Epoch 34/100, Loss: 0.6348\n",
      "Epoch 35/100, Loss: 0.6539\n",
      "Epoch 36/100, Loss: 0.6549\n",
      "Epoch 37/100, Loss: 0.6584\n",
      "Epoch 38/100, Loss: 0.6432\n",
      "Epoch 39/100, Loss: 0.6343\n",
      "Epoch 40/100, Loss: 0.6255\n",
      "Epoch 41/100, Loss: 0.6584\n",
      "Epoch 42/100, Loss: 0.6455\n",
      "Epoch 43/100, Loss: 0.6168\n",
      "Epoch 44/100, Loss: 0.6380\n",
      "Epoch 45/100, Loss: 0.6187\n",
      "Epoch 46/100, Loss: 0.6372\n",
      "Epoch 47/100, Loss: 0.6599\n",
      "Epoch 48/100, Loss: 0.6693\n",
      "Epoch 49/100, Loss: 0.6216\n",
      "Epoch 50/100, Loss: 0.5768\n",
      "Epoch 51/100, Loss: 0.5652\n",
      "Epoch 52/100, Loss: 0.6004\n",
      "Epoch 53/100, Loss: 0.6021\n",
      "Epoch 54/100, Loss: 0.5939\n",
      "Epoch 55/100, Loss: 0.6211\n",
      "Epoch 56/100, Loss: 0.5939\n",
      "Epoch 57/100, Loss: 0.5605\n",
      "Epoch 58/100, Loss: 0.5443\n",
      "Epoch 59/100, Loss: 0.5417\n",
      "Epoch 60/100, Loss: 0.5713\n",
      "Epoch 61/100, Loss: 0.5516\n",
      "Epoch 62/100, Loss: 0.5659\n",
      "Epoch 63/100, Loss: 0.5746\n",
      "Epoch 64/100, Loss: 0.5720\n",
      "Epoch 65/100, Loss: 0.5195\n",
      "Epoch 66/100, Loss: 0.5296\n",
      "Epoch 67/100, Loss: 0.5454\n",
      "Epoch 68/100, Loss: 0.5120\n",
      "Epoch 69/100, Loss: 0.5241\n",
      "Epoch 70/100, Loss: 0.5375\n",
      "Epoch 71/100, Loss: 0.4778\n",
      "Epoch 72/100, Loss: 0.5071\n",
      "Epoch 73/100, Loss: 0.4815\n",
      "Epoch 74/100, Loss: 0.4935\n",
      "Epoch 75/100, Loss: 0.4813\n",
      "Epoch 76/100, Loss: 0.4927\n",
      "Epoch 77/100, Loss: 0.5057\n",
      "Epoch 78/100, Loss: 0.4894\n",
      "Epoch 79/100, Loss: 0.4801\n",
      "Epoch 80/100, Loss: 0.4792\n",
      "Epoch 81/100, Loss: 0.4931\n",
      "Epoch 82/100, Loss: 0.4493\n",
      "Epoch 83/100, Loss: 0.4543\n",
      "Epoch 84/100, Loss: 0.4723\n",
      "Epoch 85/100, Loss: 0.4600\n",
      "Epoch 86/100, Loss: 0.4604\n",
      "Epoch 87/100, Loss: 0.4498\n",
      "Epoch 88/100, Loss: 0.4170\n",
      "Epoch 89/100, Loss: 0.4171\n",
      "Epoch 90/100, Loss: 0.4325\n",
      "Epoch 91/100, Loss: 0.4300\n",
      "Epoch 92/100, Loss: 0.4280\n",
      "Epoch 93/100, Loss: 0.4465\n",
      "Epoch 94/100, Loss: 0.4271\n",
      "Epoch 95/100, Loss: 0.4197\n",
      "Epoch 96/100, Loss: 0.4406\n",
      "Epoch 97/100, Loss: 0.4008\n",
      "Epoch 98/100, Loss: 0.4252\n",
      "Epoch 99/100, Loss: 0.4099\n",
      "Epoch 100/100, Loss: 0.4298\n"
     ]
    }
   ],
   "source": [
    "# Adotando o dataset de treino\n",
    "dataset = SingleSeriesDataset(X_train, y_train)\n",
    "dataloader = DataLoader(dataset, batch_size, shuffle=False) # shuffle=False para séries temporais\n",
    "\n",
    "# Inicialização do modelo N-BEATS (considerando X_train com num_features)\n",
    "model = NBeats(input_size * num_features, hidden_size, output_size, n_layers).to(device)\n",
    "\n",
    "model, criterion, optimizer = train_model(model, learning_rate, epochs, device, dataloader)\n",
    "\n",
    "\n"
   ]
  },
  {
   "cell_type": "markdown",
   "id": "b986ff61",
   "metadata": {},
   "source": [
    "# Sanity check do modelo treinado"
   ]
  },
  {
   "cell_type": "code",
   "execution_count": 23,
   "id": "d9a945c0",
   "metadata": {},
   "outputs": [
    {
     "data": {
      "image/png": "[encoded data removed]",
      "text/plain": [
       "<Figure size 1200x500 with 1 Axes>"
      ]
     },
     "metadata": {},
     "output_type": "display_data"
    }
   ],
   "source": [
    "def sanity_check_plot(model, dataloader, device, output_size):\n",
    "    \"\"\"\n",
    "    Plota previsões vs ground truth no período de treino\n",
    "    \"\"\"\n",
    "    model.eval()\n",
    "    all_preds, all_targets = [], []\n",
    "\n",
    "    with torch.no_grad():\n",
    "        for x, y in dataloader:\n",
    "            x, y = x.to(device), y.to(device)\n",
    "\n",
    "            preds = model(x)\n",
    "            \n",
    "            # Se seu modelo retorna (batch, output_size)\n",
    "            preds = preds.cpu().numpy().flatten()\n",
    "            y = y.cpu().numpy().flatten()\n",
    "\n",
    "            all_preds.extend(preds)\n",
    "            all_targets.extend(y)\n",
    "\n",
    "    # Plot\n",
    "    plt.figure(figsize=(12, 5))\n",
    "    plt.plot(all_targets, label=\"Ground truth\", linewidth=2)\n",
    "    plt.plot(all_preds, label=\"Previsões\", linewidth=2, alpha=0.7)\n",
    "    plt.title(\"Sanity check - Previsões vs Ground Truth (treino)\")\n",
    "    plt.legend()\n",
    "    plt.show()\n",
    "\n",
    "sanity_check_plot(model, dataloader, device, output_size)"
   ]
  },
  {
   "cell_type": "code",
   "execution_count": 24,
   "id": "5f9ef72d",
   "metadata": {},
   "outputs": [
    {
     "data": {
      "text/plain": [
       "tensor([[0.0000, 0.0000, 0.5714,  ..., 0.0000, 0.0000, 0.0000],\n",
       "        [0.0000, 0.5714, 0.0000,  ..., 0.0000, 0.0000, 0.0000],\n",
       "        [0.5714, 0.0000, 0.0000,  ..., 0.0000, 0.0000, 0.0000],\n",
       "        ...,\n",
       "        [0.0000, 0.0000, 0.0000,  ..., 0.0000, 0.0000, 0.0000],\n",
       "        [0.0000, 0.0000, 0.0000,  ..., 0.0000, 0.0000, 0.0000],\n",
       "        [0.0000, 0.0000, 0.0000,  ..., 0.0000, 0.0000, 0.0000]])"
      ]
     },
     "execution_count": 24,
     "metadata": {},
     "output_type": "execute_result"
    }
   ],
   "source": [
    "y"
   ]
  },
  {
   "cell_type": "markdown",
   "id": "3c436ce4",
   "metadata": {},
   "source": [
    "# Validação do modelo\n",
    "\n",
    "São feitos dois testes:\n",
    "\n",
    "- **Soft test:** Modelo  tenta fazer as previsões, mas não utiliza-as nas previsões futuras, utiliza sempre os *ground truth* como input\n",
    "- **Hard test:** Modelo tenta fazer as previsões, e utiliza $y_{i-1}$ para a previsão de $y_i$"
   ]
  },
  {
   "cell_type": "code",
   "execution_count": 25,
   "id": "8561181a",
   "metadata": {},
   "outputs": [],
   "source": [
    "\" Validando o modelo quando o split é menor que 1\"\n",
    "if split < 1:\n",
    "    # Adotando o dataset de validação (soft)\n",
    "    dataset = SingleSeriesDataset(X_test, y_test)\n",
    "    dataloader = DataLoader(dataset, batch_size, shuffle=False) # shuffle=False para séries temporais\n",
    "\n",
    "    all_preds_S, all_targets_S, avg_loss_test_S = soft_test(model, dataloader, device, criterion)\n",
    "\n",
    "    # Validação hard - previsão cega das primeiras blind_horizon semanas\n",
    "    all_preds_H, all_targets_H, avg_loss_test_H = hard_test(model, X_train, y_train, y_test, split_point, device, criterion, blind_horizon, output_size)\n",
    "\n",
    "    \" Sanity check da validação do modelo (preds and targets)\"\n",
    "    all_preds_array = []\n",
    "    all_targets_array = []\n",
    "\n",
    "    # Convert lists to tensors before flattening\n",
    "    all_preds_tensor = torch.cat([t.unsqueeze(0) if t.dim() == 1 else t for t in all_preds_H], dim=0).flatten()\n",
    "    all_targets_tensor = torch.cat([t.unsqueeze(0) if t.dim() == 1 else t for t in all_targets_H], dim=0).flatten()\n",
    "\n",
    "    for t in all_preds_tensor:\n",
    "        all_preds_array.append(t.detach().numpy())\n",
    "    for t in all_targets_tensor:\n",
    "        all_targets_array.append(t.detach().numpy())\n",
    "\n",
    "\n",
    "    plt.figure(figsize=(12, 5))\n",
    "    plt.plot(all_targets_array, label=\"Ground truth\", linewidth=2)\n",
    "    plt.plot(all_preds_array, label=\"Previsões\", linewidth=2, alpha=0.7)\n",
    "    plt.legend()\n"
   ]
  },
  {
   "cell_type": "markdown",
   "id": "5ab971a0",
   "metadata": {},
   "source": [
    "# Previsão cega (quando split == 1)\n",
    "\n",
    "Previsão para envio para o hackathon das 4 primeiras semanas de janeiro/23. Utiliza todo o dataset como treino."
   ]
  },
  {
   "cell_type": "code",
   "execution_count": 27,
   "id": "638d4e6d",
   "metadata": {},
   "outputs": [
    {
     "name": "stdout",
     "output_type": "stream",
     "text": [
      "tensor([ 0.0024,  0.0092, -0.0012, -0.0016,  0.0014, -0.0021, -0.0004, -0.0025,\n",
      "         0.2118,  0.0401,  0.0377,  0.1844,  0.0098,  0.0790,  0.0015,  0.0059,\n",
      "        -0.0030,  0.0059,  0.1468, -0.0054,  0.0019, -0.0015,  0.2664,  0.0550,\n",
      "         0.1145,  0.0330,  0.0365,  0.0620], device='cuda:0',\n",
      "       grad_fn=<CatBackward0>)\n",
      "[np.float32(0.002386975), np.float32(0.009212166), np.float32(-0.0012094434), np.float32(-0.0015816074), np.float32(0.001359716), np.float32(-0.0021474883), np.float32(-0.00039004534), np.float32(-0.002509688), np.float32(0.21180053), np.float32(0.04014391), np.float32(0.037696693), np.float32(0.1844126), np.float32(0.0098460615), np.float32(0.079024024), np.float32(0.0014537759), np.float32(0.005875945), np.float32(-0.0029849187), np.float32(0.0058517195), np.float32(0.14681554), np.float32(-0.0053649023), np.float32(0.0018941183), np.float32(-0.001522419), np.float32(0.26642227), np.float32(0.05500493), np.float32(0.11451477), np.float32(0.033028148), np.float32(0.036496162), np.float32(0.062020235)]\n"
     ]
    }
   ],
   "source": [
    "preds_blind = forecast_blind(model, X_train, blind_horizon, device, output_size) if split == 1.0 else print(\"Previsão cega não realizada, pois split < 1.0\")\n",
    "print(preds_blind)\n",
    "\n",
    "preview_next_year = [i for i in preds_blind.detach().cpu().numpy()]\n",
    "print(preview_next_year)"
   ]
  },
  {
   "cell_type": "markdown",
   "id": "5cee228b",
   "metadata": {},
   "source": [
    "# Ponto de parada - RAB 18-09-25\n",
    "- Temporais (mais fáceis de pensar e implementar)\n",
    "- Categóricas (intrínsecas do produto ou da loja, como a categoria deles)\n",
    "- De localização (apenas se der tempo)\n",
    "\n",
    "Após termos feito isso, podemos então realizar normalização dos sinais, one hot encoding do que for viável e embedding de IDs etc"
   ]
  }
 ],
 "metadata": {
  "kernelspec": {
   "display_name": ".venv",
   "language": "python",
   "name": "python3"
  },
  "language_info": {
   "codemirror_mode": {
    "name": "ipython",
    "version": 3
   },
   "file_extension": ".py",
   "mimetype": "text/x-python",
   "name": "python",
   "nbconvert_exporter": "python",
   "pygments_lexer": "ipython3",
   "version": "3.13.7"
  }
 },
 "nbformat": 4,
 "nbformat_minor": 5
}
