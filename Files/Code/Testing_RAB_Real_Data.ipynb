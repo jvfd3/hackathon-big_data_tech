{
 "cells": [
  {
   "cell_type": "markdown",
   "id": "7ac92f81",
   "metadata": {},
   "source": [
    "# Instalando bibliotecas"
   ]
  },
  {
   "cell_type": "code",
   "execution_count": null,
   "id": "0a8f4704",
   "metadata": {},
   "outputs": [],
   "source": [
    "\"\"\" Installing libraries \"\"\"\n",
    "\n",
    "# %pip install --quiet pandas==2.3.2 matplotlib==3.10.6 seaborn==0.13.2 scikit-learn==1.7.1 numpy==2.2.6 pyarrow==21.0.0\n",
    "# %pip install --quiet torch torchvision torchaudio --index-url https://download.pytorch.org/whl/cu129"
   ]
  },
  {
   "cell_type": "markdown",
   "id": "0a3b8257",
   "metadata": {},
   "source": [
    "# Importando bibliotecas (externas e próprias)"
   ]
  },
  {
   "cell_type": "code",
   "execution_count": null,
   "id": "566e1485",
   "metadata": {},
   "outputs": [],
   "source": [
    "\"\"\" Importing libraries \"\"\"\n",
    "\n",
    "# Add the parent directory to sys.path so 'Modules' can be imported\n",
    "\n",
    "# Our modules\n",
    "from Modules.loading.plug_n_play import get_clean_data\n",
    "from Modules.hyperparams import get_hyperparams\n",
    "from Modules.models.predictions import get_dataframe_predictions\n",
    "from Modules.evaluation.output_formatter import forecast_to_output"
   ]
  },
  {
   "cell_type": "markdown",
   "id": "b29f16a3",
   "metadata": {},
   "source": [
    "# Importação do Dataset\n",
    "\n",
    "É interessante dividir o treino em batches (mini-conjuntos de treino). Cada batch possui o tamanho de input size, seguindo a ordem cronológica de vendas dentro daquela janela de dias. No entanto, durante o treinamento é **ESSENCIAL** que a escolha do próximo batch seja aleatória.\n",
    "\n",
    "Ex.: Inicia o treino por 21-27 jul e prevê 28, depois pula para 02-08 fev para prever 03. Esse processo deve ser repetido até todos os dados serem treinados, finalizando **01 epoch**.\n",
    "\n",
    "O número de **epochs** diz o número total de iterações do modelo com relação ao dataset inteiro.\n",
    "\n",
    "Sobre a composição da janela de input dentro de um batch, existem duas abordagens:\n",
    "\n",
    "1) Treinar em cada janela todas as séries (pense que cada par produto-loja x tempo representa uma série temporal dentro daquele período). Esse modelo é bem mais complexo pois o output deve ter o mesmo tamanho de produto-loja.\n",
    "2) Treinar vários modelos separados (considerando uma série temporal para cada modelo). Esse método é ineficiente pois o modelo nunca irá aprender os padrões entre as séries.\n",
    "3) Treinar o modelo com um par produto-loja por vez. Ou seja:\n",
    "   - O modelo realiza epochs = N iterações de treino ao longo de todo dataset\n",
    "     - Em cada epoch, passa por todas as M batches\n",
    "       - Em cada batch (que possui uma janela de tamanho input_size), atualiza os parâmetros para cada série temporal ($x_l,y_l$). Totalizando L atualizações, com L sendo o número de pares produto-loja.\n",
    "\n",
    "Ressalta-se que cada conjunto ($x_l,y_l$) representa:\n",
    "- $x_l$: série temporal do l-ésimo par produto-loja, sendo um vetor de tamanho input_size x (features + 1)\n",
    "- $y_l$: Previsão de vendas do l-ésimo par produto-loja para os próximos $output\\_size$ dias\n"
   ]
  },
  {
   "cell_type": "code",
   "execution_count": null,
   "id": "9a4bbbb1",
   "metadata": {},
   "outputs": [],
   "source": [
    "HYPERPARAMS = get_hyperparams() # Defining hyper-parameters\n",
    "clean_data = get_clean_data(HYPERPARAMS) # Recebe os dados filtrados / limpos\n",
    "final_predictions = get_dataframe_predictions(clean_data, HYPERPARAMS) # Modularizando o código de predição\n",
    "final_df = forecast_to_output(final_predictions) # Output Formatting"
   ]
  }
 ],
 "metadata": {
  "kernelspec": {
   "display_name": ".venv",
   "language": "python",
   "name": "python3"
  },
  "language_info": {
   "codemirror_mode": {
    "name": "ipython",
    "version": 3
   },
   "file_extension": ".py",
   "mimetype": "text/x-python",
   "name": "python",
   "nbconvert_exporter": "python",
   "pygments_lexer": "ipython3",
   "version": "3.13.7"
  }
 },
 "nbformat": 4,
 "nbformat_minor": 5
}
