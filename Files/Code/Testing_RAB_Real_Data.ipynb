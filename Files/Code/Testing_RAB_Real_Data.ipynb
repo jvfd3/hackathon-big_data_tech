{
 "cells": [
  {
   "cell_type": "markdown",
   "id": "7ac92f81",
   "metadata": {},
   "source": [
    "# Instalando bibliotecas"
   ]
  },
  {
   "cell_type": "code",
   "execution_count": 1,
   "id": "0a8f4704",
   "metadata": {},
   "outputs": [
    {
     "name": "stdout",
     "output_type": "stream",
     "text": [
      "Note: you may need to restart the kernel to use updated packages.\n",
      "Note: you may need to restart the kernel to use updated packages.\n"
     ]
    }
   ],
   "source": [
    "\"\"\" Installing libraries \"\"\"\n",
    "\n",
    "%pip install --quiet pandas==2.3.2 matplotlib==3.10.6 seaborn==0.13.2 scikit-learn==1.7.1 numpy==2.2.6 pyarrow==21.0.0\n",
    "%pip install --quiet torch torchvision torchaudio --index-url https://download.pytorch.org/whl/cu129"
   ]
  },
  {
   "cell_type": "markdown",
   "id": "0a3b8257",
   "metadata": {},
   "source": [
    "# Importando bibliotecas (externas e próprias)"
   ]
  },
  {
   "cell_type": "code",
   "execution_count": null,
   "id": "566e1485",
   "metadata": {},
   "outputs": [],
   "source": [
    "\"\"\" Importing libraries \"\"\"\n",
    "\n",
    "# Add the parent directory to sys.path so 'Modules' can be imported\n",
    "\n",
    "# Our modules\n",
    "from Modules.loading.plug_n_play import get_clean_data\n",
    "from Modules.hyperparams import get_hyperparams\n",
    "from Modules.models.predictions import get_dataframe_predictions\n",
    "from Modules.evaluation.output_formatter import forecast_to_output"
   ]
  },
  {
   "cell_type": "markdown",
   "id": "b29f16a3",
   "metadata": {},
   "source": [
    "# Importação do Dataset\n",
    "\n",
    "É interessante dividir o treino em batches (mini-conjuntos de treino). Cada batch possui o tamanho de input size, seguindo a ordem cronológica de vendas dentro daquela janela de dias. No entanto, durante o treinamento é **ESSENCIAL** que a escolha do próximo batch seja aleatória.\n",
    "\n",
    "Ex.: Inicia o treino por 21-27 jul e prevê 28, depois pula para 02-08 fev para prever 03. Esse processo deve ser repetido até todos os dados serem treinados, finalizando **01 epoch**.\n",
    "\n",
    "O número de **epochs** diz o número total de iterações do modelo com relação ao dataset inteiro.\n",
    "\n",
    "Sobre a composição da janela de input dentro de um batch, existem duas abordagens:\n",
    "\n",
    "1) Treinar em cada janela todas as séries (pense que cada par produto-loja x tempo representa uma série temporal dentro daquele período). Esse modelo é bem mais complexo pois o output deve ter o mesmo tamanho de produto-loja.\n",
    "2) Treinar vários modelos separados (considerando uma série temporal para cada modelo). Esse método é ineficiente pois o modelo nunca irá aprender os padrões entre as séries.\n",
    "3) Treinar o modelo com um par produto-loja por vez. Ou seja:\n",
    "   - O modelo realiza epochs = N iterações de treino ao longo de todo dataset\n",
    "     - Em cada epoch, passa por todas as M batches\n",
    "       - Em cada batch (que possui uma janela de tamanho input_size), atualiza os parâmetros para cada série temporal ($x_l,y_l$). Totalizando L atualizações, com L sendo o número de pares produto-loja.\n",
    "\n",
    "Ressalta-se que cada conjunto ($x_l,y_l$) representa:\n",
    "- $x_l$: série temporal do l-ésimo par produto-loja, sendo um vetor de tamanho input_size x (features + 1)\n",
    "- $y_l$: Previsão de vendas do l-ésimo par produto-loja para os próximos $output_size$ dias\n"
   ]
  },
  {
   "cell_type": "code",
   "execution_count": 7,
   "id": "9a4bbbb1",
   "metadata": {},
   "outputs": [
    {
     "name": "stdout",
     "output_type": "stream",
     "text": [
      "02:21:790 FILE_PATHS\n",
      "00:00:000 loaded_data\n",
      "00:04:100 numerical_table\n",
      "00:00:858 outlierless\n",
      "00:01:145 pivoted_df\n",
      "00:21:531 returning\n",
      "Número total de janelas extraídas: 329\n",
      "Para janelas de tamanho 30 e previsão de 7 dias à frente.\n",
      "\n",
      "O vetor de entrada  antes do flatten\n",
      "tem shape (num_windows, size_window, num_features): (329, 30, 2)\n",
      "Há um total de 329 janelas e o split ocorre em 100% do dataset\n",
      "Epoch 1/10, Loss: 428304581.6688\n",
      "Epoch 2/10, Loss: 230921409.5702\n",
      "Epoch 3/10, Loss: 208477969.5521\n",
      "Epoch 4/10, Loss: 128291248.8900\n",
      "Epoch 5/10, Loss: 150745508.2111\n",
      "Epoch 6/10, Loss: 122828653.5504\n",
      "Epoch 7/10, Loss: 91211416.8633\n",
      "Epoch 8/10, Loss: 85584205.5329\n",
      "Epoch 9/10, Loss: 96615603.5239\n",
      "Epoch 10/10, Loss: 81769158.8551\n",
      "Número total de janelas extraídas: 329\n",
      "Para janelas de tamanho 30 e previsão de 7 dias à frente.\n",
      "\n",
      "O vetor de entrada  antes do flatten\n",
      "tem shape (num_windows, size_window, num_features): (329, 30, 2)\n",
      "Há um total de 329 janelas e o split ocorre em 100% do dataset\n",
      "Epoch 1/10, Loss: 680923477.5042\n",
      "Epoch 2/10, Loss: 223992158.7696\n",
      "Epoch 3/10, Loss: 121888317.0975\n",
      "Epoch 4/10, Loss: 75044351.4259\n",
      "Epoch 5/10, Loss: 78978117.0946\n",
      "Epoch 6/10, Loss: 68495359.4238\n",
      "Epoch 7/10, Loss: 65163206.4234\n",
      "Epoch 8/10, Loss: 73686477.7577\n",
      "Epoch 9/10, Loss: 76639579.4282\n",
      "Epoch 10/10, Loss: 77879596.0876\n",
      "Número total de janelas extraídas: 329\n",
      "Para janelas de tamanho 30 e previsão de 7 dias à frente.\n",
      "\n",
      "O vetor de entrada  antes do flatten\n",
      "tem shape (num_windows, size_window, num_features): (329, 30, 2)\n",
      "Há um total de 329 janelas e o split ocorre em 100% do dataset\n",
      "Epoch 1/10, Loss: 414469622.7913\n",
      "Epoch 2/10, Loss: 133853886.0971\n",
      "Epoch 3/10, Loss: 101190567.4244\n",
      "Epoch 4/10, Loss: 81345913.7620\n",
      "Epoch 5/10, Loss: 69786797.7605\n",
      "Epoch 6/10, Loss: 67279704.0897\n",
      "Epoch 7/10, Loss: 75859797.7577\n",
      "Epoch 8/10, Loss: 60286868.4215\n",
      "Epoch 9/10, Loss: 61017648.0898\n",
      "Epoch 10/10, Loss: 67501878.4248\n",
      "Número total de janelas extraídas: 329\n",
      "Para janelas de tamanho 30 e previsão de 7 dias à frente.\n",
      "\n",
      "O vetor de entrada  antes do flatten\n",
      "tem shape (num_windows, size_window, num_features): (329, 30, 2)\n",
      "Há um total de 329 janelas e o split ocorre em 100% do dataset\n",
      "Epoch 1/10, Loss: 602703392.1325\n",
      "Epoch 2/10, Loss: 175619868.7663\n",
      "Epoch 3/10, Loss: 127885547.4322\n",
      "Epoch 4/10, Loss: 133692909.1075\n",
      "Epoch 5/10, Loss: 122736268.7591\n",
      "Epoch 6/10, Loss: 79373038.7559\n",
      "Epoch 7/10, Loss: 69310188.0924\n",
      "Epoch 8/10, Loss: 79430625.9228\n",
      "Epoch 9/10, Loss: 66512638.4250\n",
      "Epoch 10/10, Loss: 76565971.4253\n",
      "Número total de janelas extraídas: 329\n",
      "Para janelas de tamanho 30 e previsão de 7 dias à frente.\n",
      "\n",
      "O vetor de entrada  antes do flatten\n",
      "tem shape (num_windows, size_window, num_features): (329, 30, 2)\n",
      "Há um total de 329 janelas e o split ocorre em 100% do dataset\n",
      "Epoch 1/10, Loss: 538246856.3348\n",
      "Epoch 2/10, Loss: 176170092.2743\n",
      "Epoch 3/10, Loss: 131458392.2354\n",
      "Epoch 4/10, Loss: 91179770.5478\n",
      "Epoch 5/10, Loss: 89598136.2160\n",
      "Epoch 6/10, Loss: 83702061.5483\n",
      "Epoch 7/10, Loss: 74268523.8796\n",
      "Epoch 8/10, Loss: 106761050.8966\n",
      "Epoch 9/10, Loss: 98070757.5458\n",
      "Epoch 10/10, Loss: 90604559.5494\n"
     ]
    }
   ],
   "source": [
    "HYPERPARAMS = get_hyperparams() # Defining hyper-parameters\n",
    "clean_data = get_clean_data(verbose=True) # Recebe os dados filtrados / limpos\n",
    "final_predictions = get_dataframe_predictions(clean_data, HYPERPARAMS) # Modularizando o código de predição\n",
    "final_df = forecast_to_output(final_predictions) # Output Formatting"
   ]
  }
 ],
 "metadata": {
  "kernelspec": {
   "display_name": "Python 3",
   "language": "python",
   "name": "python3"
  },
  "language_info": {
   "codemirror_mode": {
    "name": "ipython",
    "version": 3
   },
   "file_extension": ".py",
   "mimetype": "text/x-python",
   "name": "python",
   "nbconvert_exporter": "python",
   "pygments_lexer": "ipython3",
   "version": "3.12.10"
  }
 },
 "nbformat": 4,
 "nbformat_minor": 5
}
