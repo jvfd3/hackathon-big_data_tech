{
 "cells": [
  {
   "cell_type": "code",
   "execution_count": 3,
   "id": "2eb73b91",
   "metadata": {},
   "outputs": [
    {
     "name": "stdout",
     "output_type": "stream",
     "text": [
      "Collecting pyarrow\n",
      "  Downloading pyarrow-21.0.0-cp39-cp39-win_amd64.whl (26.2 MB)\n",
      "Installing collected packages: pyarrow\n",
      "Successfully installed pyarrow-21.0.0\n",
      "Note: you may need to restart the kernel to use updated packages.\n"
     ]
    }
   ],
   "source": [
    "pip install pyarrow"
   ]
  },
  {
   "cell_type": "code",
   "execution_count": 2,
   "id": "b9583414",
   "metadata": {},
   "outputs": [
    {
     "name": "stdout",
     "output_type": "stream",
     "text": [
      "Arquivos Parquet disponíveis:\n",
      "part-00000-tid-2779033056155408584-f6316110-4c9a-4061-ae48-69b77c7c8c36-4-1-c000.snappy.parquet\n",
      "part-00000-tid-5196563791502273604-c90d3a24-52f2-4955-b4ec-fb143aae74d8-4-1-c000.snappy.parquet\n",
      "part-00000-tid-7173294866425216458-eae53fbf-d19e-4130-ba74-78f96b9675f1-4-1-c000.snappy.parquet\n",
      "\n",
      "Colunas no arquivo: ['pdv', 'premise', 'categoria_pdv', 'zipcode']\n",
      "\n",
      "Primeiras linhas:\n",
      "                   pdv      premise categoria_pdv  zipcode\n",
      "0  2204965430669363375   On Premise  Mexican Rest    30741\n",
      "1  5211957289528622910   On Premise   Hotel/Motel    80011\n",
      "2  9024493554530757353  Off Premise   Convenience    80751\n",
      "3  8659197371382902429   On Premise    Restaurant    80439\n",
      "4  1400854873763881130   On Premise    Restaurant    30093\n"
     ]
    }
   ],
   "source": [
    "import pandas as pd\n",
    "import os\n",
    "\n",
    "# Diretório dos arquivos\n",
    "directory = r\"C:\\Users\\milen\\OneDrive\\Documentos\\Doutorado\\Hackathon-2025\\hackathon-big_data_tech\\Files\\Data\\hackathon_2025_templates\"\n",
    "\n",
    "# Listar arquivos Parquet\n",
    "parquet_files = [f for f in os.listdir(directory) if f.endswith('.parquet')]\n",
    "print(\"Arquivos Parquet disponíveis:\")\n",
    "for file in parquet_files:\n",
    "    print(file)\n",
    "\n",
    "# Carregar o primeiro arquivo para inspecionar\n",
    "file_path = os.path.join(directory, parquet_files[0])\n",
    "df = pd.read_parquet(file_path)\n",
    "print(\"\\nColunas no arquivo:\", df.columns.tolist())\n",
    "print(\"\\nPrimeiras linhas:\")\n",
    "print(df.head())"
   ]
  },
  {
   "cell_type": "code",
   "execution_count": 3,
   "id": "692998ce",
   "metadata": {},
   "outputs": [
    {
     "name": "stdout",
     "output_type": "stream",
     "text": [
      "Arquivos Parquet disponíveis:\n",
      "part-00000-tid-2779033056155408584-f6316110-4c9a-4061-ae48-69b77c7c8c36-4-1-c000.snappy.parquet\n",
      "part-00000-tid-5196563791502273604-c90d3a24-52f2-4955-b4ec-fb143aae74d8-4-1-c000.snappy.parquet\n",
      "part-00000-tid-7173294866425216458-eae53fbf-d19e-4130-ba74-78f96b9675f1-4-1-c000.snappy.parquet\n",
      "\n",
      "Colunas no DataFrame:\n",
      "['pdv', 'premise', 'categoria_pdv', 'zipcode']\n",
      "\n",
      "Valores únicos na coluna 'premise':\n",
      "['On Premise' 'Off Premise']\n",
      "\n",
      "Contagem de valores na coluna 'premise_encoded':\n",
      "1    8216\n",
      "0    6203\n",
      "Name: premise_encoded, dtype: int64\n",
      "\n",
      "Arquivo salvo em: C:\\Users\\milen\\OneDrive\\Documentos\\Doutorado\\Hackathon-2025\\hackathon-big_data_tech\\Files\\Data\\hackathon_2025_templates\\pdvs_premise_encoded.parquet\n",
      "\n",
      "Primeiras linhas com a transformação aplicada:\n",
      "                   pdv      premise  premise_encoded\n",
      "0  2204965430669363375   on premise                1\n",
      "1  5211957289528622910   on premise                1\n",
      "2  9024493554530757353  off premise                0\n",
      "3  8659197371382902429   on premise                1\n",
      "4  1400854873763881130   on premise                1\n"
     ]
    }
   ],
   "source": [
    "import pandas as pd\n",
    "import os\n",
    "\n",
    "# Diretório onde os arquivos estão armazenados\n",
    "directory = r\"C:\\Users\\milen\\OneDrive\\Documentos\\Doutorado\\Hackathon-2025\\hackathon-big_data_tech\\Files\\Data\\hackathon_2025_templates\"\n",
    "\n",
    "# Listar arquivos Parquet\n",
    "parquet_files = [f for f in os.listdir(directory) if f.endswith('.parquet')]\n",
    "print(\"Arquivos Parquet disponíveis:\")\n",
    "for file in parquet_files:\n",
    "    print(file)\n",
    "\n",
    "# Carregar o arquivo que contém a coluna 'premise' (provavelmente o primeiro)\n",
    "file_path = os.path.join(directory, parquet_files[0])\n",
    "df_pdvs = pd.read_parquet(file_path)\n",
    "\n",
    "print(\"\\nColunas no DataFrame:\")\n",
    "print(df_pdvs.columns.tolist())\n",
    "\n",
    "print(\"\\nValores únicos na coluna 'premise':\")\n",
    "print(df_pdvs['premise'].unique())\n",
    "\n",
    "# Normalizar a coluna 'premise' (remover espaços e converter para minúsculas)\n",
    "df_pdvs['premise'] = df_pdvs['premise'].astype(str).str.strip().str.lower()\n",
    "\n",
    "# Mapear categorias para 0 ou 1\n",
    "df_pdvs['premise_encoded'] = df_pdvs['premise'].map({\n",
    "    'off premise': 0,    # Off Premise → 0\n",
    "    'on premise': 1      # On Premise → 1\n",
    "})\n",
    "\n",
    "# Para quaisquer outros valores, definir como 0 (off premise) por padrão\n",
    "df_pdvs['premise_encoded'] = df_pdvs['premise_encoded'].fillna(0).astype(int)\n",
    "\n",
    "# Verificar resultados\n",
    "print(\"\\nContagem de valores na coluna 'premise_encoded':\")\n",
    "print(df_pdvs['premise_encoded'].value_counts())\n",
    "\n",
    "# Salvar o arquivo modificado\n",
    "output_path = os.path.join(directory, \"pdvs_premise_encoded.parquet\")\n",
    "df_pdvs.to_parquet(output_path, index=False)\n",
    "print(f\"\\nArquivo salvo em: {output_path}\")\n",
    "\n",
    "# Mostrar algumas linhas com a transformação\n",
    "print(\"\\nPrimeiras linhas com a transformação aplicada:\")\n",
    "print(df_pdvs[['pdv', 'premise', 'premise_encoded']].head())"
   ]
  },
  {
   "cell_type": "code",
   "execution_count": null,
   "id": "1fbe9374",
   "metadata": {},
   "outputs": [],
   "source": []
  }
 ],
 "metadata": {
  "kernelspec": {
   "display_name": "Python 3 (ipykernel)",
   "language": "python",
   "name": "python3"
  },
  "language_info": {
   "codemirror_mode": {
    "name": "ipython",
    "version": 3
   },
   "file_extension": ".py",
   "mimetype": "text/x-python",
   "name": "python",
   "nbconvert_exporter": "python",
   "pygments_lexer": "ipython3",
   "version": "3.9.12"
  }
 },
 "nbformat": 4,
 "nbformat_minor": 5
}
