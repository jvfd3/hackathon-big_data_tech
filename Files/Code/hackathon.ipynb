{
 "cells": [
  {
   "cell_type": "code",
   "execution_count": 1,
   "id": "34070e89",
   "metadata": {},
   "outputs": [
    {
     "name": "stdout",
     "output_type": "stream",
     "text": [
      "Note: you may need to restart the kernel to use updated packages.\n"
     ]
    }
   ],
   "source": [
    "\"\"\" Installing libraries \"\"\"\n",
    "# %pip install pandas==2.3.2 matplotlib==3.10.6 seaborn==0.13.2 scikit-learn==1.7.1 numpy==2.2.6 pyarrow==21.0.0 torch==2.8.0\n",
    "%pip install --quiet pandas==2.3.2 matplotlib==3.10.6 seaborn==0.13.2 scikit-learn==1.7.1 numpy==2.2.6 pyarrow==21.0.0 torch==2.8.0\n"
   ]
  },
  {
   "cell_type": "code",
   "execution_count": 2,
   "id": "2c5686f3",
   "metadata": {},
   "outputs": [],
   "source": [
    "\"\"\" Importing libraries \"\"\"\n",
    "\n",
    "import pandas as pd\n",
    "import numpy as np\n",
    "import matplotlib.pyplot as plt\n",
    "import seaborn as sns"
   ]
  },
  {
   "cell_type": "code",
   "execution_count": 3,
   "id": "0708b61c",
   "metadata": {},
   "outputs": [],
   "source": [
    "\"\"\" Importing our modules \"\"\"\n",
    "\n",
    "from Modules.loading.read_parquet import read_parquet_file\n",
    "from Modules.preprocessing.onehot import one_hot_encode_parquet\n",
    "from Modules.preprocessing.removing_categorical_tables import get_numerical_table\n",
    "from Modules.preprocessing.removing_outliers import remove_outliers_iqr\n"
   ]
  },
  {
   "cell_type": "code",
   "execution_count": 4,
   "id": "2d346803",
   "metadata": {},
   "outputs": [],
   "source": [
    "\"\"\" Setting up the constants \"\"\"\n",
    "\n",
    "DATA_PATH = \"../Data/hackathon_2025_templates/part-00000-tid-\"\n",
    "\n",
    "FILE_HASH = [\n",
    "    \"2779033056155408584-f6316110-4c9a-4061-ae48-69b77c7c8c36\", # LOJAS\n",
    "    \"5196563791502273604-c90d3a24-52f2-4955-b4ec-fb143aae74d8\", # TRANSAÇÕES\n",
    "    \"7173294866425216458-eae53fbf-d19e-4130-ba74-78f96b9675f1\", # PRODUTOS\n",
    "]\n",
    "\n",
    "SUFIX = \"-4-1-c000.snappy.parquet\"\n",
    "\n",
    "FILE_NAMES = [DATA_PATH + hash + SUFIX for hash in FILE_HASH]\n"
   ]
  },
  {
   "cell_type": "code",
   "execution_count": 5,
   "id": "5f50c182",
   "metadata": {},
   "outputs": [],
   "source": [
    "\"\"\" Loading the data \"\"\"\n",
    "\n",
    "# for file in FILE_NAMES:\n",
    "loaded_data = {\n",
    "    # \"lojas\": read_parquet_file(FILE_NAMES[0]),\n",
    "    \"transacoes\": read_parquet_file(FILE_NAMES[1]),\n",
    "    # \"produtos\": read_parquet_file(FILE_NAMES[2]),\n",
    "}\n"
   ]
  },
  {
   "cell_type": "code",
   "execution_count": 6,
   "id": "4b40e194",
   "metadata": {},
   "outputs": [],
   "source": [
    "numerical_table = get_numerical_table(loaded_data)"
   ]
  },
  {
   "cell_type": "code",
   "execution_count": 7,
   "id": "810e2b44",
   "metadata": {},
   "outputs": [
    {
     "data": {
      "application/vnd.microsoft.datawrangler.viewer.v0+json": {
       "columns": [
        {
         "name": "index",
         "rawType": "int64",
         "type": "integer"
        },
        {
         "name": "internal_store_id",
         "rawType": "object",
         "type": "string"
        },
        {
         "name": "internal_product_id",
         "rawType": "object",
         "type": "string"
        },
        {
         "name": "transaction_date",
         "rawType": "object",
         "type": "unknown"
        },
        {
         "name": "quantity",
         "rawType": "int64",
         "type": "integer"
        }
       ],
       "ref": "0140de4b-7941-4cfd-9e9a-9c8189b1ec63",
       "rows": [
        [
         "0",
         "7384367747233276219",
         "328903483604537190",
         "2022-07-13",
         "1"
        ],
        [
         "1",
         "3536908514005606262",
         "5418855670645487653",
         "2022-03-21",
         "6"
        ],
        [
         "2",
         "3138231730993449825",
         "1087005562675741887",
         "2022-09-06",
         "3"
        ],
        [
         "3",
         "3681167389484217654",
         "1401422983880045188",
         "2022-09-11",
         "129"
        ],
        [
         "4",
         "7762413312337359369",
         "6614994347738381720",
         "2022-02-18",
         "1"
        ],
        [
         "5",
         "5871504315270136638",
         "3553055402616033444",
         "2022-09-11",
         "48"
        ],
        [
         "6",
         "1027356552181929439",
         "576514643033029430",
         "2022-10-04",
         "7"
        ],
        [
         "7",
         "6652651222667566690",
         "2811937796518769916",
         "2022-09-11",
         "45"
        ],
        [
         "8",
         "7752780566579715772",
         "5418855670645487653",
         "2022-06-21",
         "12"
        ],
        [
         "9",
         "5339226423887032797",
         "2126695985526201979",
         "2022-10-06",
         "1"
        ],
        [
         "10",
         "2030805528203126173",
         "1364548354607636823",
         "2022-09-11",
         "159"
        ],
        [
         "11",
         "4441969626842003596",
         "7890016101383296727",
         "2022-06-14",
         "2"
        ],
        [
         "12",
         "6825966060938407713",
         "9149212002603716850",
         "2022-05-25",
         "3"
        ],
        [
         "13",
         "5538851823321709722",
         "6189453893821323891",
         "2022-04-26",
         "1"
        ],
        [
         "14",
         "6048416005624338210",
         "6836551149114885197",
         "2022-09-11",
         "14"
        ],
        [
         "15",
         "7326702549624585340",
         "3212701144500706568",
         "2022-09-11",
         "234"
        ],
        [
         "16",
         "3498870796978043924",
         "3798478397326482162",
         "2022-10-08",
         "6"
        ],
        [
         "17",
         "1352149944478766692",
         "6504514533420270914",
         "2022-09-11",
         "139"
        ],
        [
         "18",
         "7273396990747199250",
         "8428134947453125445",
         "2022-09-09",
         "2"
        ],
        [
         "19",
         "3055440461869670230",
         "1938760505411922162",
         "2022-09-11",
         "1"
        ],
        [
         "20",
         "1742391344777898088",
         "6504514533420270914",
         "2022-09-11",
         "79"
        ],
        [
         "21",
         "1941130180040269548",
         "4451855961536069898",
         "2022-04-04",
         "1"
        ],
        [
         "22",
         "1231249042028950977",
         "6509066495341489493",
         "2022-04-11",
         "2"
        ],
        [
         "23",
         "5264954619540741368",
         "7118126768094669047",
         "2022-04-14",
         "1"
        ],
        [
         "24",
         "3276179170055393809",
         "4098058333001424920",
         "2022-10-28",
         "1"
        ],
        [
         "25",
         "2590383687346983926",
         "4353552881410365573",
         "2022-10-11",
         "7"
        ],
        [
         "26",
         "6387217470101968506",
         "4040509988492387426",
         "2022-06-20",
         "10"
        ],
        [
         "27",
         "3091021743091218455",
         "4451855961536069898",
         "2022-09-19",
         "1"
        ],
        [
         "28",
         "7304610110590090748",
         "3262679882836704514",
         "2022-05-23",
         "7"
        ],
        [
         "29",
         "3263251545387522830",
         "1075723522393863647",
         "2022-08-19",
         "2"
        ],
        [
         "30",
         "7800014922884865069",
         "4648419153136508177",
         "2022-09-11",
         "48"
        ],
        [
         "31",
         "4918018293904727738",
         "7852170368684115755",
         "2022-10-25",
         "3"
        ],
        [
         "32",
         "8732425569704638802",
         "347520348779130794",
         "2022-04-19",
         "1"
        ],
        [
         "33",
         "2513127956900781486",
         "8625590539951587748",
         "2022-12-09",
         "2"
        ],
        [
         "34",
         "2212298273303379303",
         "7029448080469668619",
         "2022-08-04",
         "0"
        ],
        [
         "35",
         "1452084132703368034",
         "4364537037583110812",
         "2022-08-18",
         "2"
        ],
        [
         "36",
         "7025799242509249431",
         "6614994347738381720",
         "2022-10-13",
         "1"
        ],
        [
         "37",
         "5562320693736387733",
         "462590651648123928",
         "2022-05-17",
         "1"
        ],
        [
         "38",
         "7273396990747199250",
         "2958115939110601639",
         "2022-09-09",
         "2"
        ],
        [
         "39",
         "977866030640085189",
         "1288112997726060694",
         "2022-02-03",
         "1"
        ],
        [
         "40",
         "3727083652831479605",
         "3379576219453733902",
         "2022-12-15",
         "-1"
        ],
        [
         "41",
         "6918696291908819885",
         "4974205226846185245",
         "2022-09-07",
         "4"
        ],
        [
         "42",
         "2453368883555736388",
         "145852603040678098",
         "2022-04-01",
         "1"
        ],
        [
         "43",
         "6746379407450925261",
         "9036639434778896273",
         "2022-10-26",
         "1"
        ],
        [
         "44",
         "4304226119364518876",
         "6909820406326293828",
         "2022-12-27",
         "300"
        ],
        [
         "45",
         "7927668288934185134",
         "6719658691829190571",
         "2022-08-18",
         "10"
        ],
        [
         "46",
         "6220754862538348142",
         "4938000164057550340",
         "2022-09-11",
         "168"
        ],
        [
         "47",
         "5487958169877144382",
         "7667301933073269195",
         "2022-09-11",
         "303"
        ],
        [
         "48",
         "207177751226006775",
         "7358461294896036674",
         "2022-11-30",
         "2"
        ],
        [
         "49",
         "7200116106667687476",
         "2332258305086273987",
         "2022-09-01",
         "1"
        ]
       ],
       "shape": {
        "columns": 4,
        "rows": 6560698
       }
      },
      "text/html": [
       "<div>\n",
       "<style scoped>\n",
       "    .dataframe tbody tr th:only-of-type {\n",
       "        vertical-align: middle;\n",
       "    }\n",
       "\n",
       "    .dataframe tbody tr th {\n",
       "        vertical-align: top;\n",
       "    }\n",
       "\n",
       "    .dataframe thead th {\n",
       "        text-align: right;\n",
       "    }\n",
       "</style>\n",
       "<table border=\"1\" class=\"dataframe\">\n",
       "  <thead>\n",
       "    <tr style=\"text-align: right;\">\n",
       "      <th></th>\n",
       "      <th>internal_store_id</th>\n",
       "      <th>internal_product_id</th>\n",
       "      <th>transaction_date</th>\n",
       "      <th>quantity</th>\n",
       "    </tr>\n",
       "  </thead>\n",
       "  <tbody>\n",
       "    <tr>\n",
       "      <th>0</th>\n",
       "      <td>7384367747233276219</td>\n",
       "      <td>328903483604537190</td>\n",
       "      <td>2022-07-13</td>\n",
       "      <td>1</td>\n",
       "    </tr>\n",
       "    <tr>\n",
       "      <th>1</th>\n",
       "      <td>3536908514005606262</td>\n",
       "      <td>5418855670645487653</td>\n",
       "      <td>2022-03-21</td>\n",
       "      <td>6</td>\n",
       "    </tr>\n",
       "    <tr>\n",
       "      <th>2</th>\n",
       "      <td>3138231730993449825</td>\n",
       "      <td>1087005562675741887</td>\n",
       "      <td>2022-09-06</td>\n",
       "      <td>3</td>\n",
       "    </tr>\n",
       "    <tr>\n",
       "      <th>3</th>\n",
       "      <td>3681167389484217654</td>\n",
       "      <td>1401422983880045188</td>\n",
       "      <td>2022-09-11</td>\n",
       "      <td>129</td>\n",
       "    </tr>\n",
       "    <tr>\n",
       "      <th>4</th>\n",
       "      <td>7762413312337359369</td>\n",
       "      <td>6614994347738381720</td>\n",
       "      <td>2022-02-18</td>\n",
       "      <td>1</td>\n",
       "    </tr>\n",
       "    <tr>\n",
       "      <th>...</th>\n",
       "      <td>...</td>\n",
       "      <td>...</td>\n",
       "      <td>...</td>\n",
       "      <td>...</td>\n",
       "    </tr>\n",
       "    <tr>\n",
       "      <th>6560693</th>\n",
       "      <td>1439579822593789678</td>\n",
       "      <td>2523145330235258825</td>\n",
       "      <td>2022-12-06</td>\n",
       "      <td>3</td>\n",
       "    </tr>\n",
       "    <tr>\n",
       "      <th>6560694</th>\n",
       "      <td>2357589266242432199</td>\n",
       "      <td>3148628429396585683</td>\n",
       "      <td>2022-05-20</td>\n",
       "      <td>1</td>\n",
       "    </tr>\n",
       "    <tr>\n",
       "      <th>6560695</th>\n",
       "      <td>7245187752757348055</td>\n",
       "      <td>6668439675743950745</td>\n",
       "      <td>2022-08-17</td>\n",
       "      <td>1</td>\n",
       "    </tr>\n",
       "    <tr>\n",
       "      <th>6560696</th>\n",
       "      <td>8952609383990245450</td>\n",
       "      <td>3894706280449257667</td>\n",
       "      <td>2022-02-03</td>\n",
       "      <td>4</td>\n",
       "    </tr>\n",
       "    <tr>\n",
       "      <th>6560697</th>\n",
       "      <td>815150310325179165</td>\n",
       "      <td>3479075165556992938</td>\n",
       "      <td>2022-11-30</td>\n",
       "      <td>2</td>\n",
       "    </tr>\n",
       "  </tbody>\n",
       "</table>\n",
       "<p>6560698 rows × 4 columns</p>\n",
       "</div>"
      ],
      "text/plain": [
       "           internal_store_id  internal_product_id transaction_date  quantity\n",
       "0        7384367747233276219   328903483604537190       2022-07-13         1\n",
       "1        3536908514005606262  5418855670645487653       2022-03-21         6\n",
       "2        3138231730993449825  1087005562675741887       2022-09-06         3\n",
       "3        3681167389484217654  1401422983880045188       2022-09-11       129\n",
       "4        7762413312337359369  6614994347738381720       2022-02-18         1\n",
       "...                      ...                  ...              ...       ...\n",
       "6560693  1439579822593789678  2523145330235258825       2022-12-06         3\n",
       "6560694  2357589266242432199  3148628429396585683       2022-05-20         1\n",
       "6560695  7245187752757348055  6668439675743950745       2022-08-17         1\n",
       "6560696  8952609383990245450  3894706280449257667       2022-02-03         4\n",
       "6560697   815150310325179165  3479075165556992938       2022-11-30         2\n",
       "\n",
       "[6560698 rows x 4 columns]"
      ]
     },
     "execution_count": 7,
     "metadata": {},
     "output_type": "execute_result"
    }
   ],
   "source": [
    "numerical_table"
   ]
  },
  {
   "cell_type": "code",
   "execution_count": 33,
   "id": "dbb97d21",
   "metadata": {},
   "outputs": [],
   "source": [
    "pivoted_df = numerical_table.copy()\n",
    "\n",
    "# 3) garantir que a data esteja no formato datetime\n",
    "pivoted_df[\"transaction_date\"] = pd.to_datetime(pivoted_df[\"transaction_date\"])\n",
    "\n",
    "# 4) pivotar: dia x par produto-loja\n",
    "full_df = (\n",
    "    pivoted_df.pivot_table(\n",
    "        index=\"transaction_date\",                        # agora usa transaction_date\n",
    "        columns=[\"internal_product_id\", \"internal_store_id\"],  \n",
    "        values=\"quantity\",                               # mantenha 'quantity' se esse for o nome certo\n",
    "        aggfunc=\"sum\",\n",
    "        fill_value=0\n",
    "    )\n",
    ")"
   ]
  },
  {
   "cell_type": "code",
   "execution_count": 8,
   "id": "c311a150",
   "metadata": {},
   "outputs": [],
   "source": [
    "def l_single_remove_outliers_iqr(df, column):\n",
    "    Q1 = df[column].quantile(0.25)\n",
    "    Q3 = df[column].quantile(0.75)\n",
    "    IQR = Q3 - Q1\n",
    "    lower_bound = Q1 - 1.5 * IQR\n",
    "    upper_bound = Q3 + 1.5 * IQR\n",
    "    # Keep only rows within the bounds\n",
    "    df_clean = df[(df[column] >= lower_bound) & (df[column] <= upper_bound)]\n",
    "    return df_clean\n",
    "\n",
    "def l_remove_outliers_iqr(df, columns):\n",
    "    for col in columns:\n",
    "        df = l_single_remove_outlier_iqr(df, col)\n",
    "\n",
    "\n",
    "def plot_graphs(df, column='quantity', title='', buckets=1000):\n",
    "    # 2. Plot the distribution before removing outliers\n",
    "    plt.figure(figsize=(8, 4))\n",
    "    sns.histplot(df[column], bins=buckets, kde=True)\n",
    "    plt.title(title)\n",
    "    plt.show()"
   ]
  },
  {
   "cell_type": "code",
   "execution_count": 9,
   "id": "afa5876b",
   "metadata": {},
   "outputs": [
    {
     "data": {
      "image/png": "[encoded data removed]",
      "text/plain": [
       "<Figure size 800x400 with 1 Axes>"
      ]
     },
     "metadata": {},
     "output_type": "display_data"
    }
   ],
   "source": [
    "\"\"\" Cleaning the data \"\"\"\n",
    "\n",
    "cleaned_data = numerical_table.copy()\n",
    "\n",
    "# 1. Sort the DataFrame by 'quantity'\n",
    "df_sorted = cleaned_data.sort_values('quantity')\n",
    "plot_graphs(df_sorted, 'quantity', 'Before Outlier Removal')\n"
   ]
  },
  {
   "cell_type": "code",
   "execution_count": 10,
   "id": "47b697e4",
   "metadata": {},
   "outputs": [
    {
     "data": {
      "image/png": "[encoded data removed]",
      "text/plain": [
       "<Figure size 800x400 with 1 Axes>"
      ]
     },
     "metadata": {},
     "output_type": "display_data"
    },
    {
     "data": {
      "application/vnd.microsoft.datawrangler.viewer.v0+json": {
       "columns": [
        {
         "name": "index",
         "rawType": "int64",
         "type": "integer"
        },
        {
         "name": "internal_store_id",
         "rawType": "object",
         "type": "string"
        },
        {
         "name": "internal_product_id",
         "rawType": "object",
         "type": "string"
        },
        {
         "name": "transaction_date",
         "rawType": "object",
         "type": "unknown"
        },
        {
         "name": "quantity",
         "rawType": "int64",
         "type": "integer"
        }
       ],
       "ref": "8ccec37e-44b0-4c8f-b4be-d62204ba3132",
       "rows": [
        [
         "162174",
         "1340332798477535467",
         "4132331673431899392",
         "2022-09-11",
         "24922"
        ],
        [
         "486280",
         "6434414063399492998",
         "7660365129551200715",
         "2022-09-11",
         "32424"
        ],
        [
         "644024",
         "1365839146278641704",
         "6608102981224815905",
         "2022-09-11",
         "94230"
        ],
        [
         "963774",
         "6434414063399492998",
         "3652281557572916499",
         "2022-09-11",
         "32070"
        ],
        [
         "1927546",
         "3788165798747794145",
         "7660365129551200715",
         "2022-09-11",
         "21744"
        ],
        [
         "1928998",
         "4804165151893923520",
         "3652281557572916499",
         "2022-09-11",
         "27252"
        ],
        [
         "2887028",
         "3788165798747794145",
         "3652281557572916499",
         "2022-09-11",
         "21288"
        ],
        [
         "2888332",
         "5658815032567467999",
         "3652281557572916499",
         "2022-09-11",
         "22354"
        ],
        [
         "3049296",
         "4804165151893923520",
         "7660365129551200715",
         "2022-09-11",
         "21648"
        ],
        [
         "4490770",
         "5658815032567467999",
         "7660365129551200715",
         "2022-09-11",
         "28820"
        ],
        [
         "4977444",
         "1365839146278641704",
         "1564721138677191237",
         "2022-09-11",
         "29780"
        ]
       ],
       "shape": {
        "columns": 4,
        "rows": 11
       }
      },
      "text/html": [
       "<div>\n",
       "<style scoped>\n",
       "    .dataframe tbody tr th:only-of-type {\n",
       "        vertical-align: middle;\n",
       "    }\n",
       "\n",
       "    .dataframe tbody tr th {\n",
       "        vertical-align: top;\n",
       "    }\n",
       "\n",
       "    .dataframe thead th {\n",
       "        text-align: right;\n",
       "    }\n",
       "</style>\n",
       "<table border=\"1\" class=\"dataframe\">\n",
       "  <thead>\n",
       "    <tr style=\"text-align: right;\">\n",
       "      <th></th>\n",
       "      <th>internal_store_id</th>\n",
       "      <th>internal_product_id</th>\n",
       "      <th>transaction_date</th>\n",
       "      <th>quantity</th>\n",
       "    </tr>\n",
       "  </thead>\n",
       "  <tbody>\n",
       "    <tr>\n",
       "      <th>162174</th>\n",
       "      <td>1340332798477535467</td>\n",
       "      <td>4132331673431899392</td>\n",
       "      <td>2022-09-11</td>\n",
       "      <td>24922</td>\n",
       "    </tr>\n",
       "    <tr>\n",
       "      <th>486280</th>\n",
       "      <td>6434414063399492998</td>\n",
       "      <td>7660365129551200715</td>\n",
       "      <td>2022-09-11</td>\n",
       "      <td>32424</td>\n",
       "    </tr>\n",
       "    <tr>\n",
       "      <th>644024</th>\n",
       "      <td>1365839146278641704</td>\n",
       "      <td>6608102981224815905</td>\n",
       "      <td>2022-09-11</td>\n",
       "      <td>94230</td>\n",
       "    </tr>\n",
       "    <tr>\n",
       "      <th>963774</th>\n",
       "      <td>6434414063399492998</td>\n",
       "      <td>3652281557572916499</td>\n",
       "      <td>2022-09-11</td>\n",
       "      <td>32070</td>\n",
       "    </tr>\n",
       "    <tr>\n",
       "      <th>1927546</th>\n",
       "      <td>3788165798747794145</td>\n",
       "      <td>7660365129551200715</td>\n",
       "      <td>2022-09-11</td>\n",
       "      <td>21744</td>\n",
       "    </tr>\n",
       "    <tr>\n",
       "      <th>1928998</th>\n",
       "      <td>4804165151893923520</td>\n",
       "      <td>3652281557572916499</td>\n",
       "      <td>2022-09-11</td>\n",
       "      <td>27252</td>\n",
       "    </tr>\n",
       "    <tr>\n",
       "      <th>2887028</th>\n",
       "      <td>3788165798747794145</td>\n",
       "      <td>3652281557572916499</td>\n",
       "      <td>2022-09-11</td>\n",
       "      <td>21288</td>\n",
       "    </tr>\n",
       "    <tr>\n",
       "      <th>2888332</th>\n",
       "      <td>5658815032567467999</td>\n",
       "      <td>3652281557572916499</td>\n",
       "      <td>2022-09-11</td>\n",
       "      <td>22354</td>\n",
       "    </tr>\n",
       "    <tr>\n",
       "      <th>3049296</th>\n",
       "      <td>4804165151893923520</td>\n",
       "      <td>7660365129551200715</td>\n",
       "      <td>2022-09-11</td>\n",
       "      <td>21648</td>\n",
       "    </tr>\n",
       "    <tr>\n",
       "      <th>4490770</th>\n",
       "      <td>5658815032567467999</td>\n",
       "      <td>7660365129551200715</td>\n",
       "      <td>2022-09-11</td>\n",
       "      <td>28820</td>\n",
       "    </tr>\n",
       "    <tr>\n",
       "      <th>4977444</th>\n",
       "      <td>1365839146278641704</td>\n",
       "      <td>1564721138677191237</td>\n",
       "      <td>2022-09-11</td>\n",
       "      <td>29780</td>\n",
       "    </tr>\n",
       "  </tbody>\n",
       "</table>\n",
       "</div>"
      ],
      "text/plain": [
       "           internal_store_id  internal_product_id transaction_date  quantity\n",
       "162174   1340332798477535467  4132331673431899392       2022-09-11     24922\n",
       "486280   6434414063399492998  7660365129551200715       2022-09-11     32424\n",
       "644024   1365839146278641704  6608102981224815905       2022-09-11     94230\n",
       "963774   6434414063399492998  3652281557572916499       2022-09-11     32070\n",
       "1927546  3788165798747794145  7660365129551200715       2022-09-11     21744\n",
       "1928998  4804165151893923520  3652281557572916499       2022-09-11     27252\n",
       "2887028  3788165798747794145  3652281557572916499       2022-09-11     21288\n",
       "2888332  5658815032567467999  3652281557572916499       2022-09-11     22354\n",
       "3049296  4804165151893923520  7660365129551200715       2022-09-11     21648\n",
       "4490770  5658815032567467999  7660365129551200715       2022-09-11     28820\n",
       "4977444  1365839146278641704  1564721138677191237       2022-09-11     29780"
      ]
     },
     "execution_count": 10,
     "metadata": {},
     "output_type": "execute_result"
    }
   ],
   "source": [
    "# Select all values from the 'quantity' column that are greater than 20k\n",
    "big_outliers = cleaned_data[cleaned_data['quantity'] >= 20000]\n",
    "plot_graphs(big_outliers, 'quantity', 'Big Outliers', 20)\n",
    "big_outliers"
   ]
  },
  {
   "cell_type": "code",
   "execution_count": 11,
   "id": "eb23fcf1",
   "metadata": {},
   "outputs": [
    {
     "data": {
      "image/png": "[encoded data removed]",
      "text/plain": [
       "<Figure size 800x400 with 1 Axes>"
      ]
     },
     "metadata": {},
     "output_type": "display_data"
    },
    {
     "data": {
      "application/vnd.microsoft.datawrangler.viewer.v0+json": {
       "columns": [
        {
         "name": "index",
         "rawType": "int64",
         "type": "integer"
        },
        {
         "name": "internal_store_id",
         "rawType": "object",
         "type": "string"
        },
        {
         "name": "internal_product_id",
         "rawType": "object",
         "type": "string"
        },
        {
         "name": "transaction_date",
         "rawType": "object",
         "type": "unknown"
        },
        {
         "name": "quantity",
         "rawType": "int64",
         "type": "integer"
        }
       ],
       "ref": "8508730a-be99-415e-bc27-6c233674a0f0",
       "rows": [
        [
         "1132",
         "4882947442884300565",
         "3620674245436818138",
         "2022-09-11",
         "3086"
        ],
        [
         "3959",
         "6567641125465858007",
         "6639182541769323770",
         "2022-09-11",
         "3525"
        ],
        [
         "6758",
         "2720921832183866690",
         "3620674245436818138",
         "2022-09-11",
         "6221"
        ],
        [
         "8441",
         "8484980400903988433",
         "379454763001947803",
         "2022-09-11",
         "3336"
        ],
        [
         "9881",
         "9171644843739559005",
         "3403023748159892753",
         "2022-09-11",
         "3964"
        ],
        [
         "11472",
         "5667711384597938917",
         "1566422632394266453",
         "2022-09-11",
         "4704"
        ],
        [
         "12106",
         "4157702416085941711",
         "6334750440340409713",
         "2022-09-11",
         "3742"
        ],
        [
         "160544",
         "5078031889455971197",
         "3654799619916051085",
         "2022-09-11",
         "3431"
        ],
        [
         "162174",
         "1340332798477535467",
         "4132331673431899392",
         "2022-09-11",
         "24922"
        ],
        [
         "162213",
         "6347081136908478660",
         "8858481261686678385",
         "2022-09-11",
         "3790"
        ],
        [
         "167769",
         "4887614177306822155",
         "3654799619916051085",
         "2022-09-11",
         "3684"
        ],
        [
         "168789",
         "4003964282058636604",
         "3620674245436818138",
         "2022-09-11",
         "4883"
        ],
        [
         "169364",
         "4304226119364518876",
         "8961542818471010617",
         "2022-09-11",
         "5711"
        ],
        [
         "169515",
         "6337402841339348330",
         "3620674245436818138",
         "2022-09-11",
         "4439"
        ],
        [
         "170317",
         "8666297561981718301",
         "2866058112054092230",
         "2022-09-11",
         "3832"
        ],
        [
         "172525",
         "7425761496820623182",
         "2569360430329928370",
         "2022-09-11",
         "3118"
        ],
        [
         "320399",
         "1231663066366869659",
         "8961542818471010617",
         "2022-09-11",
         "3495"
        ],
        [
         "320833",
         "2615389183782675154",
         "4500561597898984528",
         "2022-09-11",
         "3450"
        ],
        [
         "324495",
         "2885903432017122279",
         "3620674245436818138",
         "2022-09-11",
         "3372"
        ],
        [
         "326096",
         "8723723113467008071",
         "2427215902003685075",
         "2022-09-11",
         "5383"
        ],
        [
         "327177",
         "6491855528940268514",
         "8961542818471010617",
         "2022-09-11",
         "7328"
        ],
        [
         "328042",
         "2760496222437994581",
         "8961542818471010617",
         "2022-09-11",
         "4560"
        ],
        [
         "328550",
         "4611839017668538014",
         "6334750440340409713",
         "2022-09-11",
         "3240"
        ],
        [
         "328776",
         "3025867614395044464",
         "4655343393186360847",
         "2022-09-11",
         "5490"
        ],
        [
         "329560",
         "2964137090837374331",
         "3738823555271200555",
         "2022-09-11",
         "4800"
        ],
        [
         "330452",
         "6680507469355623908",
         "7712658751322313118",
         "2022-09-11",
         "3273"
        ],
        [
         "331777",
         "5446145936653475705",
         "1690125846152117227",
         "2022-09-11",
         "3624"
        ],
        [
         "332288",
         "3610445762986160609",
         "2427215902003685075",
         "2022-09-11",
         "6825"
        ],
        [
         "480808",
         "4003964282058636604",
         "4500561597898984528",
         "2022-09-11",
         "8014"
        ],
        [
         "481967",
         "4277475414219561824",
         "8961542818471010617",
         "2022-09-11",
         "5568"
        ],
        [
         "482565",
         "8747412848654777581",
         "7712658751322313118",
         "2022-09-11",
         "4548"
        ],
        [
         "483149",
         "1255606010600483474",
         "1027530245429186199",
         "2022-09-11",
         "3012"
        ],
        [
         "483595",
         "391594066389427723",
         "1690125846152117227",
         "2022-09-11",
         "3180"
        ],
        [
         "484600",
         "7195906766187577140",
         "3620674245436818138",
         "2022-09-11",
         "6512"
        ],
        [
         "486251",
         "4515955501500404069",
         "3620674245436818138",
         "2022-09-11",
         "6139"
        ],
        [
         "486280",
         "6434414063399492998",
         "7660365129551200715",
         "2022-09-11",
         "32424"
        ],
        [
         "490400",
         "6719639652661068730",
         "2995245061726159069",
         "2022-09-11",
         "3528"
        ],
        [
         "641995",
         "5141220246725658308",
         "1365813714550729758",
         "2022-09-11",
         "3264"
        ],
        [
         "642751",
         "5130630496972372280",
         "4500561597898984528",
         "2022-09-11",
         "4248"
        ],
        [
         "644024",
         "1365839146278641704",
         "6608102981224815905",
         "2022-09-11",
         "94230"
        ],
        [
         "649452",
         "4314878666078038958",
         "3212701144500706568",
         "2022-09-11",
         "3354"
        ],
        [
         "651108",
         "262903528935521676",
         "3654799619916051085",
         "2022-09-11",
         "4811"
        ],
        [
         "652558",
         "3788285082714203084",
         "7712658751322313118",
         "2022-09-11",
         "4709"
        ],
        [
         "654408",
         "4833501839882625849",
         "3639677497546401990",
         "2022-09-11",
         "3280"
        ],
        [
         "803402",
         "3530681531276578070",
         "8856119268328366400",
         "2022-09-11",
         "4308"
        ],
        [
         "807440",
         "7116874875063620194",
         "7712658751322313118",
         "2022-09-11",
         "5759"
        ],
        [
         "809514",
         "7425761496820623182",
         "8752906129044353959",
         "2022-09-11",
         "3166"
        ],
        [
         "811299",
         "1931438203858195291",
         "1690125846152117227",
         "2022-09-11",
         "3408"
        ],
        [
         "816818",
         "869999112733902020",
         "2394950933694010774",
         "2022-09-11",
         "3312"
        ],
        [
         "962223",
         "1639337659225408014",
         "7723484071811439958",
         "2022-09-11",
         "3587"
        ]
       ],
       "shape": {
        "columns": 4,
        "rows": 399
       }
      },
      "text/html": [
       "<div>\n",
       "<style scoped>\n",
       "    .dataframe tbody tr th:only-of-type {\n",
       "        vertical-align: middle;\n",
       "    }\n",
       "\n",
       "    .dataframe tbody tr th {\n",
       "        vertical-align: top;\n",
       "    }\n",
       "\n",
       "    .dataframe thead th {\n",
       "        text-align: right;\n",
       "    }\n",
       "</style>\n",
       "<table border=\"1\" class=\"dataframe\">\n",
       "  <thead>\n",
       "    <tr style=\"text-align: right;\">\n",
       "      <th></th>\n",
       "      <th>internal_store_id</th>\n",
       "      <th>internal_product_id</th>\n",
       "      <th>transaction_date</th>\n",
       "      <th>quantity</th>\n",
       "    </tr>\n",
       "  </thead>\n",
       "  <tbody>\n",
       "    <tr>\n",
       "      <th>1132</th>\n",
       "      <td>4882947442884300565</td>\n",
       "      <td>3620674245436818138</td>\n",
       "      <td>2022-09-11</td>\n",
       "      <td>3086</td>\n",
       "    </tr>\n",
       "    <tr>\n",
       "      <th>3959</th>\n",
       "      <td>6567641125465858007</td>\n",
       "      <td>6639182541769323770</td>\n",
       "      <td>2022-09-11</td>\n",
       "      <td>3525</td>\n",
       "    </tr>\n",
       "    <tr>\n",
       "      <th>6758</th>\n",
       "      <td>2720921832183866690</td>\n",
       "      <td>3620674245436818138</td>\n",
       "      <td>2022-09-11</td>\n",
       "      <td>6221</td>\n",
       "    </tr>\n",
       "    <tr>\n",
       "      <th>8441</th>\n",
       "      <td>8484980400903988433</td>\n",
       "      <td>379454763001947803</td>\n",
       "      <td>2022-09-11</td>\n",
       "      <td>3336</td>\n",
       "    </tr>\n",
       "    <tr>\n",
       "      <th>9881</th>\n",
       "      <td>9171644843739559005</td>\n",
       "      <td>3403023748159892753</td>\n",
       "      <td>2022-09-11</td>\n",
       "      <td>3964</td>\n",
       "    </tr>\n",
       "    <tr>\n",
       "      <th>...</th>\n",
       "      <td>...</td>\n",
       "      <td>...</td>\n",
       "      <td>...</td>\n",
       "      <td>...</td>\n",
       "    </tr>\n",
       "    <tr>\n",
       "      <th>6410055</th>\n",
       "      <td>7485443215246301632</td>\n",
       "      <td>1365813714550729758</td>\n",
       "      <td>2022-09-11</td>\n",
       "      <td>3024</td>\n",
       "    </tr>\n",
       "    <tr>\n",
       "      <th>6410806</th>\n",
       "      <td>539790426272889140</td>\n",
       "      <td>3620674245436818138</td>\n",
       "      <td>2022-09-11</td>\n",
       "      <td>4212</td>\n",
       "    </tr>\n",
       "    <tr>\n",
       "      <th>6412084</th>\n",
       "      <td>5322800571181846563</td>\n",
       "      <td>3654799619916051085</td>\n",
       "      <td>2022-09-11</td>\n",
       "      <td>6369</td>\n",
       "    </tr>\n",
       "    <tr>\n",
       "      <th>6412433</th>\n",
       "      <td>9171644843739559005</td>\n",
       "      <td>3212701144500706568</td>\n",
       "      <td>2022-09-11</td>\n",
       "      <td>3208</td>\n",
       "    </tr>\n",
       "    <tr>\n",
       "      <th>6415763</th>\n",
       "      <td>3873119628739921549</td>\n",
       "      <td>3968076782240786250</td>\n",
       "      <td>2022-09-11</td>\n",
       "      <td>4248</td>\n",
       "    </tr>\n",
       "  </tbody>\n",
       "</table>\n",
       "<p>399 rows × 4 columns</p>\n",
       "</div>"
      ],
      "text/plain": [
       "           internal_store_id  internal_product_id transaction_date  quantity\n",
       "1132     4882947442884300565  3620674245436818138       2022-09-11      3086\n",
       "3959     6567641125465858007  6639182541769323770       2022-09-11      3525\n",
       "6758     2720921832183866690  3620674245436818138       2022-09-11      6221\n",
       "8441     8484980400903988433   379454763001947803       2022-09-11      3336\n",
       "9881     9171644843739559005  3403023748159892753       2022-09-11      3964\n",
       "...                      ...                  ...              ...       ...\n",
       "6410055  7485443215246301632  1365813714550729758       2022-09-11      3024\n",
       "6410806   539790426272889140  3620674245436818138       2022-09-11      4212\n",
       "6412084  5322800571181846563  3654799619916051085       2022-09-11      6369\n",
       "6412433  9171644843739559005  3212701144500706568       2022-09-11      3208\n",
       "6415763  3873119628739921549  3968076782240786250       2022-09-11      4248\n",
       "\n",
       "[399 rows x 4 columns]"
      ]
     },
     "execution_count": 11,
     "metadata": {},
     "output_type": "execute_result"
    }
   ],
   "source": [
    "# Select all values from the 'quantity' column that are greater than 20k\n",
    "bigger_outliers = cleaned_data[cleaned_data['quantity'] >= 3000]\n",
    "plot_graphs(bigger_outliers, 'quantity', 'Big Outliers', 20)\n",
    "bigger_outliers"
   ]
  },
  {
   "cell_type": "code",
   "execution_count": 12,
   "id": "25b2465b",
   "metadata": {},
   "outputs": [
    {
     "data": {
      "image/png": "[encoded data removed]",
      "text/plain": [
       "<Figure size 800x400 with 1 Axes>"
      ]
     },
     "metadata": {},
     "output_type": "display_data"
    },
    {
     "data": {
      "application/vnd.microsoft.datawrangler.viewer.v0+json": {
       "columns": [
        {
         "name": "quantity",
         "rawType": "int64",
         "type": "integer"
        },
        {
         "name": "count",
         "rawType": "int64",
         "type": "integer"
        }
       ],
       "ref": "a71ff256-bec5-4daf-800b-ed2e4421be67",
       "rows": [
        [
         "-120",
         "25"
        ],
        [
         "-144",
         "10"
        ],
        [
         "-216",
         "4"
        ],
        [
         "-150",
         "4"
        ],
        [
         "-131",
         "3"
        ],
        [
         "-112",
         "3"
        ],
        [
         "-116",
         "3"
        ],
        [
         "-180",
         "3"
        ],
        [
         "-132",
         "3"
        ],
        [
         "-128",
         "3"
        ],
        [
         "-147",
         "3"
        ],
        [
         "-101",
         "3"
        ],
        [
         "-200",
         "2"
        ],
        [
         "-110",
         "2"
        ],
        [
         "-220",
         "2"
        ],
        [
         "-156",
         "2"
        ],
        [
         "-168",
         "2"
        ],
        [
         "-108",
         "2"
        ],
        [
         "-111",
         "2"
        ],
        [
         "-102",
         "2"
        ],
        [
         "-322",
         "2"
        ],
        [
         "-104",
         "1"
        ],
        [
         "-124",
         "1"
        ],
        [
         "-109",
         "1"
        ],
        [
         "-160",
         "1"
        ],
        [
         "-197",
         "1"
        ],
        [
         "-1200",
         "1"
        ],
        [
         "-123",
         "1"
        ],
        [
         "-484",
         "1"
        ],
        [
         "-136",
         "1"
        ],
        [
         "-678",
         "1"
        ],
        [
         "-153",
         "1"
        ],
        [
         "-261",
         "1"
        ],
        [
         "-237",
         "1"
        ],
        [
         "-285",
         "1"
        ],
        [
         "-189",
         "1"
        ],
        [
         "-106",
         "1"
        ],
        [
         "-122",
         "1"
        ],
        [
         "-363",
         "1"
        ],
        [
         "-589",
         "1"
        ],
        [
         "-1530",
         "1"
        ],
        [
         "-1381",
         "1"
        ],
        [
         "-456",
         "1"
        ],
        [
         "-138",
         "1"
        ],
        [
         "-233",
         "1"
        ],
        [
         "-107",
         "1"
        ],
        [
         "-119",
         "1"
        ],
        [
         "-290",
         "1"
        ],
        [
         "-287",
         "1"
        ],
        [
         "-270",
         "1"
        ]
       ],
       "shape": {
        "columns": 1,
        "rows": 83
       }
      },
      "text/plain": [
       "quantity\n",
       "-120    25\n",
       "-144    10\n",
       "-216     4\n",
       "-150     4\n",
       "-131     3\n",
       "        ..\n",
       "-170     1\n",
       "-234     1\n",
       "-137     1\n",
       "-289     1\n",
       "-392     1\n",
       "Name: count, Length: 83, dtype: int64"
      ]
     },
     "execution_count": 12,
     "metadata": {},
     "output_type": "execute_result"
    }
   ],
   "source": [
    "\"\"\" Small outliers \"\"\"\n",
    "small_outliers = cleaned_data[cleaned_data['quantity'] < -100]\n",
    "\n",
    "plot_graphs(small_outliers, 'quantity', 'Small Outliers', 40)\n",
    "# small_outliers\n",
    "\n",
    "small_outliers['quantity'].value_counts()"
   ]
  },
  {
   "cell_type": "code",
   "execution_count": 13,
   "id": "0272678d",
   "metadata": {},
   "outputs": [
    {
     "data": {
      "image/png": "[encoded data removed]",
      "text/plain": [
       "<Figure size 800x400 with 1 Axes>"
      ]
     },
     "metadata": {},
     "output_type": "display_data"
    },
    {
     "data": {
      "application/vnd.microsoft.datawrangler.viewer.v0+json": {
       "columns": [
        {
         "name": "index",
         "rawType": "int64",
         "type": "integer"
        },
        {
         "name": "internal_store_id",
         "rawType": "object",
         "type": "string"
        },
        {
         "name": "internal_product_id",
         "rawType": "object",
         "type": "string"
        },
        {
         "name": "transaction_date",
         "rawType": "object",
         "type": "unknown"
        },
        {
         "name": "quantity",
         "rawType": "int64",
         "type": "integer"
        }
       ],
       "ref": "0d1c4fb9-fc64-44b8-bbbf-6d39bcf42cf0",
       "rows": [
        [
         "0",
         "7384367747233276219",
         "328903483604537190",
         "2022-07-13",
         "1"
        ],
        [
         "1",
         "3536908514005606262",
         "5418855670645487653",
         "2022-03-21",
         "6"
        ],
        [
         "2",
         "3138231730993449825",
         "1087005562675741887",
         "2022-09-06",
         "3"
        ],
        [
         "3",
         "3681167389484217654",
         "1401422983880045188",
         "2022-09-11",
         "129"
        ],
        [
         "4",
         "7762413312337359369",
         "6614994347738381720",
         "2022-02-18",
         "1"
        ],
        [
         "5",
         "5871504315270136638",
         "3553055402616033444",
         "2022-09-11",
         "48"
        ],
        [
         "6",
         "1027356552181929439",
         "576514643033029430",
         "2022-10-04",
         "7"
        ],
        [
         "7",
         "6652651222667566690",
         "2811937796518769916",
         "2022-09-11",
         "45"
        ],
        [
         "8",
         "7752780566579715772",
         "5418855670645487653",
         "2022-06-21",
         "12"
        ],
        [
         "9",
         "5339226423887032797",
         "2126695985526201979",
         "2022-10-06",
         "1"
        ],
        [
         "10",
         "2030805528203126173",
         "1364548354607636823",
         "2022-09-11",
         "159"
        ],
        [
         "11",
         "4441969626842003596",
         "7890016101383296727",
         "2022-06-14",
         "2"
        ],
        [
         "12",
         "6825966060938407713",
         "9149212002603716850",
         "2022-05-25",
         "3"
        ],
        [
         "13",
         "5538851823321709722",
         "6189453893821323891",
         "2022-04-26",
         "1"
        ],
        [
         "14",
         "6048416005624338210",
         "6836551149114885197",
         "2022-09-11",
         "14"
        ],
        [
         "15",
         "7326702549624585340",
         "3212701144500706568",
         "2022-09-11",
         "234"
        ],
        [
         "16",
         "3498870796978043924",
         "3798478397326482162",
         "2022-10-08",
         "6"
        ],
        [
         "17",
         "1352149944478766692",
         "6504514533420270914",
         "2022-09-11",
         "139"
        ],
        [
         "18",
         "7273396990747199250",
         "8428134947453125445",
         "2022-09-09",
         "2"
        ],
        [
         "19",
         "3055440461869670230",
         "1938760505411922162",
         "2022-09-11",
         "1"
        ],
        [
         "20",
         "1742391344777898088",
         "6504514533420270914",
         "2022-09-11",
         "79"
        ],
        [
         "21",
         "1941130180040269548",
         "4451855961536069898",
         "2022-04-04",
         "1"
        ],
        [
         "22",
         "1231249042028950977",
         "6509066495341489493",
         "2022-04-11",
         "2"
        ],
        [
         "23",
         "5264954619540741368",
         "7118126768094669047",
         "2022-04-14",
         "1"
        ],
        [
         "24",
         "3276179170055393809",
         "4098058333001424920",
         "2022-10-28",
         "1"
        ],
        [
         "25",
         "2590383687346983926",
         "4353552881410365573",
         "2022-10-11",
         "7"
        ],
        [
         "26",
         "6387217470101968506",
         "4040509988492387426",
         "2022-06-20",
         "10"
        ],
        [
         "27",
         "3091021743091218455",
         "4451855961536069898",
         "2022-09-19",
         "1"
        ],
        [
         "28",
         "7304610110590090748",
         "3262679882836704514",
         "2022-05-23",
         "7"
        ],
        [
         "29",
         "3263251545387522830",
         "1075723522393863647",
         "2022-08-19",
         "2"
        ],
        [
         "30",
         "7800014922884865069",
         "4648419153136508177",
         "2022-09-11",
         "48"
        ],
        [
         "31",
         "4918018293904727738",
         "7852170368684115755",
         "2022-10-25",
         "3"
        ],
        [
         "32",
         "8732425569704638802",
         "347520348779130794",
         "2022-04-19",
         "1"
        ],
        [
         "33",
         "2513127956900781486",
         "8625590539951587748",
         "2022-12-09",
         "2"
        ],
        [
         "34",
         "2212298273303379303",
         "7029448080469668619",
         "2022-08-04",
         "0"
        ],
        [
         "35",
         "1452084132703368034",
         "4364537037583110812",
         "2022-08-18",
         "2"
        ],
        [
         "36",
         "7025799242509249431",
         "6614994347738381720",
         "2022-10-13",
         "1"
        ],
        [
         "37",
         "5562320693736387733",
         "462590651648123928",
         "2022-05-17",
         "1"
        ],
        [
         "38",
         "7273396990747199250",
         "2958115939110601639",
         "2022-09-09",
         "2"
        ],
        [
         "39",
         "977866030640085189",
         "1288112997726060694",
         "2022-02-03",
         "1"
        ],
        [
         "40",
         "3727083652831479605",
         "3379576219453733902",
         "2022-12-15",
         "-1"
        ],
        [
         "41",
         "6918696291908819885",
         "4974205226846185245",
         "2022-09-07",
         "4"
        ],
        [
         "42",
         "2453368883555736388",
         "145852603040678098",
         "2022-04-01",
         "1"
        ],
        [
         "43",
         "6746379407450925261",
         "9036639434778896273",
         "2022-10-26",
         "1"
        ],
        [
         "44",
         "4304226119364518876",
         "6909820406326293828",
         "2022-12-27",
         "300"
        ],
        [
         "45",
         "7927668288934185134",
         "6719658691829190571",
         "2022-08-18",
         "10"
        ],
        [
         "46",
         "6220754862538348142",
         "4938000164057550340",
         "2022-09-11",
         "168"
        ],
        [
         "47",
         "5487958169877144382",
         "7667301933073269195",
         "2022-09-11",
         "303"
        ],
        [
         "48",
         "207177751226006775",
         "7358461294896036674",
         "2022-11-30",
         "2"
        ],
        [
         "49",
         "7200116106667687476",
         "2332258305086273987",
         "2022-09-01",
         "1"
        ]
       ],
       "shape": {
        "columns": 4,
        "rows": 6560536
       }
      },
      "text/html": [
       "<div>\n",
       "<style scoped>\n",
       "    .dataframe tbody tr th:only-of-type {\n",
       "        vertical-align: middle;\n",
       "    }\n",
       "\n",
       "    .dataframe tbody tr th {\n",
       "        vertical-align: top;\n",
       "    }\n",
       "\n",
       "    .dataframe thead th {\n",
       "        text-align: right;\n",
       "    }\n",
       "</style>\n",
       "<table border=\"1\" class=\"dataframe\">\n",
       "  <thead>\n",
       "    <tr style=\"text-align: right;\">\n",
       "      <th></th>\n",
       "      <th>internal_store_id</th>\n",
       "      <th>internal_product_id</th>\n",
       "      <th>transaction_date</th>\n",
       "      <th>quantity</th>\n",
       "    </tr>\n",
       "  </thead>\n",
       "  <tbody>\n",
       "    <tr>\n",
       "      <th>0</th>\n",
       "      <td>7384367747233276219</td>\n",
       "      <td>328903483604537190</td>\n",
       "      <td>2022-07-13</td>\n",
       "      <td>1</td>\n",
       "    </tr>\n",
       "    <tr>\n",
       "      <th>1</th>\n",
       "      <td>3536908514005606262</td>\n",
       "      <td>5418855670645487653</td>\n",
       "      <td>2022-03-21</td>\n",
       "      <td>6</td>\n",
       "    </tr>\n",
       "    <tr>\n",
       "      <th>2</th>\n",
       "      <td>3138231730993449825</td>\n",
       "      <td>1087005562675741887</td>\n",
       "      <td>2022-09-06</td>\n",
       "      <td>3</td>\n",
       "    </tr>\n",
       "    <tr>\n",
       "      <th>3</th>\n",
       "      <td>3681167389484217654</td>\n",
       "      <td>1401422983880045188</td>\n",
       "      <td>2022-09-11</td>\n",
       "      <td>129</td>\n",
       "    </tr>\n",
       "    <tr>\n",
       "      <th>4</th>\n",
       "      <td>7762413312337359369</td>\n",
       "      <td>6614994347738381720</td>\n",
       "      <td>2022-02-18</td>\n",
       "      <td>1</td>\n",
       "    </tr>\n",
       "    <tr>\n",
       "      <th>...</th>\n",
       "      <td>...</td>\n",
       "      <td>...</td>\n",
       "      <td>...</td>\n",
       "      <td>...</td>\n",
       "    </tr>\n",
       "    <tr>\n",
       "      <th>6560693</th>\n",
       "      <td>1439579822593789678</td>\n",
       "      <td>2523145330235258825</td>\n",
       "      <td>2022-12-06</td>\n",
       "      <td>3</td>\n",
       "    </tr>\n",
       "    <tr>\n",
       "      <th>6560694</th>\n",
       "      <td>2357589266242432199</td>\n",
       "      <td>3148628429396585683</td>\n",
       "      <td>2022-05-20</td>\n",
       "      <td>1</td>\n",
       "    </tr>\n",
       "    <tr>\n",
       "      <th>6560695</th>\n",
       "      <td>7245187752757348055</td>\n",
       "      <td>6668439675743950745</td>\n",
       "      <td>2022-08-17</td>\n",
       "      <td>1</td>\n",
       "    </tr>\n",
       "    <tr>\n",
       "      <th>6560696</th>\n",
       "      <td>8952609383990245450</td>\n",
       "      <td>3894706280449257667</td>\n",
       "      <td>2022-02-03</td>\n",
       "      <td>4</td>\n",
       "    </tr>\n",
       "    <tr>\n",
       "      <th>6560697</th>\n",
       "      <td>815150310325179165</td>\n",
       "      <td>3479075165556992938</td>\n",
       "      <td>2022-11-30</td>\n",
       "      <td>2</td>\n",
       "    </tr>\n",
       "  </tbody>\n",
       "</table>\n",
       "<p>6560536 rows × 4 columns</p>\n",
       "</div>"
      ],
      "text/plain": [
       "           internal_store_id  internal_product_id transaction_date  quantity\n",
       "0        7384367747233276219   328903483604537190       2022-07-13         1\n",
       "1        3536908514005606262  5418855670645487653       2022-03-21         6\n",
       "2        3138231730993449825  1087005562675741887       2022-09-06         3\n",
       "3        3681167389484217654  1401422983880045188       2022-09-11       129\n",
       "4        7762413312337359369  6614994347738381720       2022-02-18         1\n",
       "...                      ...                  ...              ...       ...\n",
       "6560693  1439579822593789678  2523145330235258825       2022-12-06         3\n",
       "6560694  2357589266242432199  3148628429396585683       2022-05-20         1\n",
       "6560695  7245187752757348055  6668439675743950745       2022-08-17         1\n",
       "6560696  8952609383990245450  3894706280449257667       2022-02-03         4\n",
       "6560697   815150310325179165  3479075165556992938       2022-11-30         2\n",
       "\n",
       "[6560536 rows x 4 columns]"
      ]
     },
     "execution_count": 13,
     "metadata": {},
     "output_type": "execute_result"
    }
   ],
   "source": [
    "# Get all values from -100 to 20k\n",
    "\n",
    "brute_outlierless = cleaned_data[(cleaned_data['quantity'] > -100) & (cleaned_data['quantity'] < 20000)]\n",
    "plot_graphs(brute_outlierless, 'quantity', 'Brute Outlier Removal', 100)\n",
    "brute_outlierless"
   ]
  },
  {
   "cell_type": "code",
   "execution_count": 14,
   "id": "82a17262",
   "metadata": {},
   "outputs": [
    {
     "data": {
      "image/png": "[encoded data removed]",
      "text/plain": [
       "<Figure size 800x400 with 1 Axes>"
      ]
     },
     "metadata": {},
     "output_type": "display_data"
    },
    {
     "data": {
      "application/vnd.microsoft.datawrangler.viewer.v0+json": {
       "columns": [
        {
         "name": "index",
         "rawType": "int64",
         "type": "integer"
        },
        {
         "name": "internal_store_id",
         "rawType": "object",
         "type": "string"
        },
        {
         "name": "internal_product_id",
         "rawType": "object",
         "type": "string"
        },
        {
         "name": "transaction_date",
         "rawType": "object",
         "type": "unknown"
        },
        {
         "name": "quantity",
         "rawType": "int64",
         "type": "integer"
        }
       ],
       "ref": "ec075be2-e67b-42f6-a23b-a32b0f5c01ee",
       "rows": [
        [
         "0",
         "7384367747233276219",
         "328903483604537190",
         "2022-07-13",
         "1"
        ],
        [
         "1",
         "3536908514005606262",
         "5418855670645487653",
         "2022-03-21",
         "6"
        ],
        [
         "2",
         "3138231730993449825",
         "1087005562675741887",
         "2022-09-06",
         "3"
        ],
        [
         "3",
         "3681167389484217654",
         "1401422983880045188",
         "2022-09-11",
         "129"
        ],
        [
         "4",
         "7762413312337359369",
         "6614994347738381720",
         "2022-02-18",
         "1"
        ],
        [
         "5",
         "5871504315270136638",
         "3553055402616033444",
         "2022-09-11",
         "48"
        ],
        [
         "6",
         "1027356552181929439",
         "576514643033029430",
         "2022-10-04",
         "7"
        ],
        [
         "7",
         "6652651222667566690",
         "2811937796518769916",
         "2022-09-11",
         "45"
        ],
        [
         "8",
         "7752780566579715772",
         "5418855670645487653",
         "2022-06-21",
         "12"
        ],
        [
         "9",
         "5339226423887032797",
         "2126695985526201979",
         "2022-10-06",
         "1"
        ],
        [
         "10",
         "2030805528203126173",
         "1364548354607636823",
         "2022-09-11",
         "159"
        ],
        [
         "11",
         "4441969626842003596",
         "7890016101383296727",
         "2022-06-14",
         "2"
        ],
        [
         "12",
         "6825966060938407713",
         "9149212002603716850",
         "2022-05-25",
         "3"
        ],
        [
         "13",
         "5538851823321709722",
         "6189453893821323891",
         "2022-04-26",
         "1"
        ],
        [
         "14",
         "6048416005624338210",
         "6836551149114885197",
         "2022-09-11",
         "14"
        ],
        [
         "15",
         "7326702549624585340",
         "3212701144500706568",
         "2022-09-11",
         "234"
        ],
        [
         "16",
         "3498870796978043924",
         "3798478397326482162",
         "2022-10-08",
         "6"
        ],
        [
         "17",
         "1352149944478766692",
         "6504514533420270914",
         "2022-09-11",
         "139"
        ],
        [
         "18",
         "7273396990747199250",
         "8428134947453125445",
         "2022-09-09",
         "2"
        ],
        [
         "19",
         "3055440461869670230",
         "1938760505411922162",
         "2022-09-11",
         "1"
        ],
        [
         "20",
         "1742391344777898088",
         "6504514533420270914",
         "2022-09-11",
         "79"
        ],
        [
         "21",
         "1941130180040269548",
         "4451855961536069898",
         "2022-04-04",
         "1"
        ],
        [
         "22",
         "1231249042028950977",
         "6509066495341489493",
         "2022-04-11",
         "2"
        ],
        [
         "23",
         "5264954619540741368",
         "7118126768094669047",
         "2022-04-14",
         "1"
        ],
        [
         "24",
         "3276179170055393809",
         "4098058333001424920",
         "2022-10-28",
         "1"
        ],
        [
         "25",
         "2590383687346983926",
         "4353552881410365573",
         "2022-10-11",
         "7"
        ],
        [
         "26",
         "6387217470101968506",
         "4040509988492387426",
         "2022-06-20",
         "10"
        ],
        [
         "27",
         "3091021743091218455",
         "4451855961536069898",
         "2022-09-19",
         "1"
        ],
        [
         "28",
         "7304610110590090748",
         "3262679882836704514",
         "2022-05-23",
         "7"
        ],
        [
         "29",
         "3263251545387522830",
         "1075723522393863647",
         "2022-08-19",
         "2"
        ],
        [
         "30",
         "7800014922884865069",
         "4648419153136508177",
         "2022-09-11",
         "48"
        ],
        [
         "31",
         "4918018293904727738",
         "7852170368684115755",
         "2022-10-25",
         "3"
        ],
        [
         "32",
         "8732425569704638802",
         "347520348779130794",
         "2022-04-19",
         "1"
        ],
        [
         "33",
         "2513127956900781486",
         "8625590539951587748",
         "2022-12-09",
         "2"
        ],
        [
         "34",
         "2212298273303379303",
         "7029448080469668619",
         "2022-08-04",
         "0"
        ],
        [
         "35",
         "1452084132703368034",
         "4364537037583110812",
         "2022-08-18",
         "2"
        ],
        [
         "36",
         "7025799242509249431",
         "6614994347738381720",
         "2022-10-13",
         "1"
        ],
        [
         "37",
         "5562320693736387733",
         "462590651648123928",
         "2022-05-17",
         "1"
        ],
        [
         "38",
         "7273396990747199250",
         "2958115939110601639",
         "2022-09-09",
         "2"
        ],
        [
         "39",
         "977866030640085189",
         "1288112997726060694",
         "2022-02-03",
         "1"
        ],
        [
         "40",
         "3727083652831479605",
         "3379576219453733902",
         "2022-12-15",
         "-1"
        ],
        [
         "41",
         "6918696291908819885",
         "4974205226846185245",
         "2022-09-07",
         "4"
        ],
        [
         "42",
         "2453368883555736388",
         "145852603040678098",
         "2022-04-01",
         "1"
        ],
        [
         "43",
         "6746379407450925261",
         "9036639434778896273",
         "2022-10-26",
         "1"
        ],
        [
         "44",
         "4304226119364518876",
         "6909820406326293828",
         "2022-12-27",
         "300"
        ],
        [
         "45",
         "7927668288934185134",
         "6719658691829190571",
         "2022-08-18",
         "10"
        ],
        [
         "46",
         "6220754862538348142",
         "4938000164057550340",
         "2022-09-11",
         "168"
        ],
        [
         "47",
         "5487958169877144382",
         "7667301933073269195",
         "2022-09-11",
         "303"
        ],
        [
         "48",
         "207177751226006775",
         "7358461294896036674",
         "2022-11-30",
         "2"
        ],
        [
         "49",
         "7200116106667687476",
         "2332258305086273987",
         "2022-09-01",
         "1"
        ]
       ],
       "shape": {
        "columns": 4,
        "rows": 6556940
       }
      },
      "text/html": [
       "<div>\n",
       "<style scoped>\n",
       "    .dataframe tbody tr th:only-of-type {\n",
       "        vertical-align: middle;\n",
       "    }\n",
       "\n",
       "    .dataframe tbody tr th {\n",
       "        vertical-align: top;\n",
       "    }\n",
       "\n",
       "    .dataframe thead th {\n",
       "        text-align: right;\n",
       "    }\n",
       "</style>\n",
       "<table border=\"1\" class=\"dataframe\">\n",
       "  <thead>\n",
       "    <tr style=\"text-align: right;\">\n",
       "      <th></th>\n",
       "      <th>internal_store_id</th>\n",
       "      <th>internal_product_id</th>\n",
       "      <th>transaction_date</th>\n",
       "      <th>quantity</th>\n",
       "    </tr>\n",
       "  </thead>\n",
       "  <tbody>\n",
       "    <tr>\n",
       "      <th>0</th>\n",
       "      <td>7384367747233276219</td>\n",
       "      <td>328903483604537190</td>\n",
       "      <td>2022-07-13</td>\n",
       "      <td>1</td>\n",
       "    </tr>\n",
       "    <tr>\n",
       "      <th>1</th>\n",
       "      <td>3536908514005606262</td>\n",
       "      <td>5418855670645487653</td>\n",
       "      <td>2022-03-21</td>\n",
       "      <td>6</td>\n",
       "    </tr>\n",
       "    <tr>\n",
       "      <th>2</th>\n",
       "      <td>3138231730993449825</td>\n",
       "      <td>1087005562675741887</td>\n",
       "      <td>2022-09-06</td>\n",
       "      <td>3</td>\n",
       "    </tr>\n",
       "    <tr>\n",
       "      <th>3</th>\n",
       "      <td>3681167389484217654</td>\n",
       "      <td>1401422983880045188</td>\n",
       "      <td>2022-09-11</td>\n",
       "      <td>129</td>\n",
       "    </tr>\n",
       "    <tr>\n",
       "      <th>4</th>\n",
       "      <td>7762413312337359369</td>\n",
       "      <td>6614994347738381720</td>\n",
       "      <td>2022-02-18</td>\n",
       "      <td>1</td>\n",
       "    </tr>\n",
       "    <tr>\n",
       "      <th>...</th>\n",
       "      <td>...</td>\n",
       "      <td>...</td>\n",
       "      <td>...</td>\n",
       "      <td>...</td>\n",
       "    </tr>\n",
       "    <tr>\n",
       "      <th>6560693</th>\n",
       "      <td>1439579822593789678</td>\n",
       "      <td>2523145330235258825</td>\n",
       "      <td>2022-12-06</td>\n",
       "      <td>3</td>\n",
       "    </tr>\n",
       "    <tr>\n",
       "      <th>6560694</th>\n",
       "      <td>2357589266242432199</td>\n",
       "      <td>3148628429396585683</td>\n",
       "      <td>2022-05-20</td>\n",
       "      <td>1</td>\n",
       "    </tr>\n",
       "    <tr>\n",
       "      <th>6560695</th>\n",
       "      <td>7245187752757348055</td>\n",
       "      <td>6668439675743950745</td>\n",
       "      <td>2022-08-17</td>\n",
       "      <td>1</td>\n",
       "    </tr>\n",
       "    <tr>\n",
       "      <th>6560696</th>\n",
       "      <td>8952609383990245450</td>\n",
       "      <td>3894706280449257667</td>\n",
       "      <td>2022-02-03</td>\n",
       "      <td>4</td>\n",
       "    </tr>\n",
       "    <tr>\n",
       "      <th>6560697</th>\n",
       "      <td>815150310325179165</td>\n",
       "      <td>3479075165556992938</td>\n",
       "      <td>2022-11-30</td>\n",
       "      <td>2</td>\n",
       "    </tr>\n",
       "  </tbody>\n",
       "</table>\n",
       "<p>6556940 rows × 4 columns</p>\n",
       "</div>"
      ],
      "text/plain": [
       "           internal_store_id  internal_product_id transaction_date  quantity\n",
       "0        7384367747233276219   328903483604537190       2022-07-13         1\n",
       "1        3536908514005606262  5418855670645487653       2022-03-21         6\n",
       "2        3138231730993449825  1087005562675741887       2022-09-06         3\n",
       "3        3681167389484217654  1401422983880045188       2022-09-11       129\n",
       "4        7762413312337359369  6614994347738381720       2022-02-18         1\n",
       "...                      ...                  ...              ...       ...\n",
       "6560693  1439579822593789678  2523145330235258825       2022-12-06         3\n",
       "6560694  2357589266242432199  3148628429396585683       2022-05-20         1\n",
       "6560695  7245187752757348055  6668439675743950745       2022-08-17         1\n",
       "6560696  8952609383990245450  3894706280449257667       2022-02-03         4\n",
       "6560697   815150310325179165  3479075165556992938       2022-11-30         2\n",
       "\n",
       "[6556940 rows x 4 columns]"
      ]
     },
     "execution_count": 14,
     "metadata": {},
     "output_type": "execute_result"
    }
   ],
   "source": [
    "# Get all values from -100 to 20k\n",
    "\n",
    "bruter_outlierless = cleaned_data[(cleaned_data['quantity'] > -100) & (cleaned_data['quantity'] < 1000)]\n",
    "plot_graphs(bruter_outlierless, 'quantity', 'Brute Outlier Removal', 100)\n",
    "bruter_outlierless"
   ]
  },
  {
   "cell_type": "code",
   "execution_count": 15,
   "id": "f9e30ea6",
   "metadata": {},
   "outputs": [
    {
     "name": "stdout",
     "output_type": "stream",
     "text": [
      "lower_bound: -12.5 ; upper_bound: 23.5\n"
     ]
    },
    {
     "data": {
      "image/png": "[encoded data removed]",
      "text/plain": [
       "<Figure size 800x400 with 1 Axes>"
      ]
     },
     "metadata": {},
     "output_type": "display_data"
    },
    {
     "data": {
      "application/vnd.microsoft.datawrangler.viewer.v0+json": {
       "columns": [
        {
         "name": "index",
         "rawType": "int64",
         "type": "integer"
        },
        {
         "name": "internal_store_id",
         "rawType": "object",
         "type": "string"
        },
        {
         "name": "internal_product_id",
         "rawType": "object",
         "type": "string"
        },
        {
         "name": "transaction_date",
         "rawType": "object",
         "type": "unknown"
        },
        {
         "name": "quantity",
         "rawType": "int64",
         "type": "integer"
        }
       ],
       "ref": "ce840a31-5f9a-453b-9641-2ca56fad9a25",
       "rows": [
        [
         "4863893",
         "916927572359668482",
         "8649875144776229933",
         "2022-06-06",
         "-12"
        ],
        [
         "152135",
         "8294871217390043140",
         "2729570553257656610",
         "2022-11-21",
         "-12"
        ],
        [
         "4015086",
         "1797309951298679721",
         "8856119268328366400",
         "2022-12-29",
         "-12"
        ],
        [
         "4162231",
         "88472223614755218",
         "4424971686529367537",
         "2022-02-02",
         "-12"
        ],
        [
         "4163294",
         "6653292867682231433",
         "792466371771826966",
         "2022-10-07",
         "-12"
        ],
        [
         "2587110",
         "838351919980811721",
         "5460549899196232319",
         "2022-06-20",
         "-12"
        ],
        [
         "390331",
         "1025452701614693895",
         "2110428608875420168",
         "2022-11-09",
         "-12"
        ],
        [
         "134333",
         "3324688892372083079",
         "6504514533420270914",
         "2022-12-14",
         "-12"
        ],
        [
         "3746600",
         "1509764385709038838",
         "2374660842974945941",
         "2022-02-03",
         "-12"
        ],
        [
         "5193879",
         "6627070136046289218",
         "3120010398672158305",
         "2022-06-01",
         "-12"
        ],
        [
         "2873771",
         "7533127490227986089",
         "2336058810092164071",
         "2022-10-27",
         "-12"
        ],
        [
         "3394366",
         "6766665263827669741",
         "4745793101979611202",
         "2022-07-28",
         "-12"
        ],
        [
         "3900278",
         "127347501332157130",
         "1631840193237651547",
         "2022-09-21",
         "-12"
        ],
        [
         "1554029",
         "7366853685985846137",
         "6167999006619049816",
         "2022-08-24",
         "-12"
        ],
        [
         "3902812",
         "273891762641281920",
         "7465450428413505061",
         "2022-11-30",
         "-12"
        ],
        [
         "2421882",
         "1706085754201326457",
         "7921603722710442932",
         "2022-12-30",
         "-12"
        ],
        [
         "3640186",
         "2542822639970401384",
         "4636234569784264819",
         "2022-11-18",
         "-12"
        ],
        [
         "303840",
         "6630030975138917787",
         "3351624256405719595",
         "2022-11-17",
         "-12"
        ],
        [
         "3294878",
         "2158711847228543468",
         "989257876109573037",
         "2022-12-14",
         "-12"
        ],
        [
         "2212047",
         "4865375278876097230",
         "1657665165780983454",
         "2022-07-21",
         "-12"
        ],
        [
         "4720122",
         "7508866696679644291",
         "6840857811635521318",
         "2022-09-11",
         "-12"
        ],
        [
         "4159712",
         "7745651583683591327",
         "4098058333001424920",
         "2022-02-09",
         "-12"
        ],
        [
         "4160094",
         "8659604208857243808",
         "7431487353670755453",
         "2022-12-15",
         "-12"
        ],
        [
         "4720082",
         "2720921832183866690",
         "3120321292717805677",
         "2022-10-21",
         "-12"
        ],
        [
         "1108793",
         "527740677152139330",
         "5570025890172941603",
         "2022-11-16",
         "-12"
        ],
        [
         "147518",
         "1837535563480575445",
         "7265003541925224487",
         "2022-12-29",
         "-12"
        ],
        [
         "1103504",
         "2885903432017122279",
         "526851023372603116",
         "2022-10-14",
         "-12"
        ],
        [
         "2903007",
         "3075751624443537084",
         "1944422037756595483",
         "2022-10-20",
         "-12"
        ],
        [
         "6062290",
         "8394360353559575290",
         "1160694262343569779",
         "2022-11-09",
         "-12"
        ],
        [
         "1358625",
         "2632069112690336009",
         "6720337609735661987",
         "2022-10-26",
         "-12"
        ],
        [
         "6063325",
         "4635502639442534535",
         "6382931101323540518",
         "2022-11-23",
         "-12"
        ],
        [
         "3400862",
         "916927572359668482",
         "7750675342657152455",
         "2022-10-31",
         "-12"
        ],
        [
         "307847",
         "296583611650240147",
         "2214487088938125259",
         "2022-09-29",
         "-12"
        ],
        [
         "4627488",
         "8684745077511310801",
         "2525510189893188235",
         "2022-11-08",
         "-12"
        ],
        [
         "179575",
         "382999164907502088",
         "784556679610979772",
         "2022-11-14",
         "-12"
        ],
        [
         "3040549",
         "7035339551709310250",
         "750924402474426828",
         "2022-05-17",
         "-12"
        ],
        [
         "2544529",
         "1589257404274611072",
         "762288620578200961",
         "2022-06-29",
         "-12"
        ],
        [
         "4093506",
         "3123006863984190941",
         "4559913789024695697",
         "2022-07-10",
         "-12"
        ],
        [
         "5515084",
         "7133483833568269649",
         "6677543772441358928",
         "2022-06-16",
         "-12"
        ],
        [
         "5459230",
         "730727034597117873",
         "5369346040196673982",
         "2022-11-07",
         "-12"
        ],
        [
         "5651861",
         "3905734230927868166",
         "8512843591173314209",
         "2022-05-17",
         "-12"
        ],
        [
         "2493081",
         "2615389183782675154",
         "4771520654859799078",
         "2022-12-15",
         "-12"
        ],
        [
         "2494335",
         "7612244650266891682",
         "2866058112054092230",
         "2022-11-03",
         "-12"
        ],
        [
         "2214598",
         "2195893158783903699",
         "1152772499033912340",
         "2022-07-14",
         "-12"
        ],
        [
         "4580579",
         "2613772498008290074",
         "1040821147398770520",
         "2022-02-18",
         "-12"
        ],
        [
         "2987894",
         "648123487702354206",
         "5353866824820311906",
         "2022-05-11",
         "-12"
        ],
        [
         "1825959",
         "4545615777996743967",
         "9145542970994664509",
         "2022-12-06",
         "-12"
        ],
        [
         "5195570",
         "3126845330528127279",
         "6285742314072193468",
         "2022-12-14",
         "-12"
        ],
        [
         "2342701",
         "8766010699300851184",
         "7183343709894914430",
         "2022-10-19",
         "-12"
        ],
        [
         "2345084",
         "4635502639442534535",
         "6527285013637594781",
         "2022-11-23",
         "-12"
        ]
       ],
       "shape": {
        "columns": 4,
        "rows": 6264460
       }
      },
      "text/html": [
       "<div>\n",
       "<style scoped>\n",
       "    .dataframe tbody tr th:only-of-type {\n",
       "        vertical-align: middle;\n",
       "    }\n",
       "\n",
       "    .dataframe tbody tr th {\n",
       "        vertical-align: top;\n",
       "    }\n",
       "\n",
       "    .dataframe thead th {\n",
       "        text-align: right;\n",
       "    }\n",
       "</style>\n",
       "<table border=\"1\" class=\"dataframe\">\n",
       "  <thead>\n",
       "    <tr style=\"text-align: right;\">\n",
       "      <th></th>\n",
       "      <th>internal_store_id</th>\n",
       "      <th>internal_product_id</th>\n",
       "      <th>transaction_date</th>\n",
       "      <th>quantity</th>\n",
       "    </tr>\n",
       "  </thead>\n",
       "  <tbody>\n",
       "    <tr>\n",
       "      <th>4863893</th>\n",
       "      <td>916927572359668482</td>\n",
       "      <td>8649875144776229933</td>\n",
       "      <td>2022-06-06</td>\n",
       "      <td>-12</td>\n",
       "    </tr>\n",
       "    <tr>\n",
       "      <th>152135</th>\n",
       "      <td>8294871217390043140</td>\n",
       "      <td>2729570553257656610</td>\n",
       "      <td>2022-11-21</td>\n",
       "      <td>-12</td>\n",
       "    </tr>\n",
       "    <tr>\n",
       "      <th>4015086</th>\n",
       "      <td>1797309951298679721</td>\n",
       "      <td>8856119268328366400</td>\n",
       "      <td>2022-12-29</td>\n",
       "      <td>-12</td>\n",
       "    </tr>\n",
       "    <tr>\n",
       "      <th>4162231</th>\n",
       "      <td>88472223614755218</td>\n",
       "      <td>4424971686529367537</td>\n",
       "      <td>2022-02-02</td>\n",
       "      <td>-12</td>\n",
       "    </tr>\n",
       "    <tr>\n",
       "      <th>4163294</th>\n",
       "      <td>6653292867682231433</td>\n",
       "      <td>792466371771826966</td>\n",
       "      <td>2022-10-07</td>\n",
       "      <td>-12</td>\n",
       "    </tr>\n",
       "    <tr>\n",
       "      <th>...</th>\n",
       "      <td>...</td>\n",
       "      <td>...</td>\n",
       "      <td>...</td>\n",
       "      <td>...</td>\n",
       "    </tr>\n",
       "    <tr>\n",
       "      <th>4345893</th>\n",
       "      <td>6533382908843835688</td>\n",
       "      <td>1120490062981954254</td>\n",
       "      <td>2022-05-10</td>\n",
       "      <td>23</td>\n",
       "    </tr>\n",
       "    <tr>\n",
       "      <th>6154122</th>\n",
       "      <td>5553952637533339294</td>\n",
       "      <td>8275181357437864705</td>\n",
       "      <td>2022-11-03</td>\n",
       "      <td>23</td>\n",
       "    </tr>\n",
       "    <tr>\n",
       "      <th>2620501</th>\n",
       "      <td>2170229172447965480</td>\n",
       "      <td>1355221146658254593</td>\n",
       "      <td>2022-08-05</td>\n",
       "      <td>23</td>\n",
       "    </tr>\n",
       "    <tr>\n",
       "      <th>2435495</th>\n",
       "      <td>990571711439878263</td>\n",
       "      <td>1860061817666925715</td>\n",
       "      <td>2022-02-09</td>\n",
       "      <td>23</td>\n",
       "    </tr>\n",
       "    <tr>\n",
       "      <th>369277</th>\n",
       "      <td>1483897277499495670</td>\n",
       "      <td>7852170368684115755</td>\n",
       "      <td>2022-09-21</td>\n",
       "      <td>23</td>\n",
       "    </tr>\n",
       "  </tbody>\n",
       "</table>\n",
       "<p>6264460 rows × 4 columns</p>\n",
       "</div>"
      ],
      "text/plain": [
       "           internal_store_id  internal_product_id transaction_date  quantity\n",
       "4863893   916927572359668482  8649875144776229933       2022-06-06       -12\n",
       "152135   8294871217390043140  2729570553257656610       2022-11-21       -12\n",
       "4015086  1797309951298679721  8856119268328366400       2022-12-29       -12\n",
       "4162231    88472223614755218  4424971686529367537       2022-02-02       -12\n",
       "4163294  6653292867682231433   792466371771826966       2022-10-07       -12\n",
       "...                      ...                  ...              ...       ...\n",
       "4345893  6533382908843835688  1120490062981954254       2022-05-10        23\n",
       "6154122  5553952637533339294  8275181357437864705       2022-11-03        23\n",
       "2620501  2170229172447965480  1355221146658254593       2022-08-05        23\n",
       "2435495   990571711439878263  1860061817666925715       2022-02-09        23\n",
       "369277   1483897277499495670  7852170368684115755       2022-09-21        23\n",
       "\n",
       "[6264460 rows x 4 columns]"
      ]
     },
     "execution_count": 15,
     "metadata": {},
     "output_type": "execute_result"
    }
   ],
   "source": [
    "\n",
    "# 3. Remove outliers using IQR\n",
    "Q1 = df_sorted['quantity'].quantile(0.1)\n",
    "Q3 = df_sorted['quantity'].quantile(0.9)\n",
    "IQR = Q3 - Q1\n",
    "lower_bound = Q1 - 1.5 * IQR\n",
    "upper_bound = Q3 + 1.5 * IQR\n",
    "iqr_outlierless = df_sorted[(df_sorted['quantity'] >= lower_bound) & (df_sorted['quantity'] <= upper_bound)]\n",
    "\n",
    "print('lower_bound:', lower_bound, '; upper_bound:', upper_bound)\n",
    "plot_graphs(iqr_outlierless, 'quantity', 'After Outlier Removal', buckets=10)\n",
    "iqr_outlierless"
   ]
  },
  {
   "cell_type": "code",
   "execution_count": 16,
   "id": "0441dade",
   "metadata": {},
   "outputs": [
    {
     "data": {
      "application/vnd.microsoft.datawrangler.viewer.v0+json": {
       "columns": [
        {
         "name": "index",
         "rawType": "int64",
         "type": "integer"
        },
        {
         "name": "internal_store_id",
         "rawType": "object",
         "type": "string"
        },
        {
         "name": "internal_product_id",
         "rawType": "object",
         "type": "string"
        },
        {
         "name": "transaction_date",
         "rawType": "object",
         "type": "unknown"
        },
        {
         "name": "quantity",
         "rawType": "int64",
         "type": "integer"
        }
       ],
       "ref": "5669568a-7402-48d9-b44a-8d983c777a31",
       "rows": [
        [
         "0",
         "7384367747233276219",
         "328903483604537190",
         "2022-07-13",
         "1"
        ],
        [
         "1",
         "3536908514005606262",
         "5418855670645487653",
         "2022-03-21",
         "6"
        ],
        [
         "2",
         "3138231730993449825",
         "1087005562675741887",
         "2022-09-06",
         "3"
        ],
        [
         "3",
         "3681167389484217654",
         "1401422983880045188",
         "2022-09-11",
         "129"
        ],
        [
         "4",
         "7762413312337359369",
         "6614994347738381720",
         "2022-02-18",
         "1"
        ],
        [
         "5",
         "5871504315270136638",
         "3553055402616033444",
         "2022-09-11",
         "48"
        ],
        [
         "6",
         "1027356552181929439",
         "576514643033029430",
         "2022-10-04",
         "7"
        ],
        [
         "7",
         "6652651222667566690",
         "2811937796518769916",
         "2022-09-11",
         "45"
        ],
        [
         "8",
         "7752780566579715772",
         "5418855670645487653",
         "2022-06-21",
         "12"
        ],
        [
         "9",
         "5339226423887032797",
         "2126695985526201979",
         "2022-10-06",
         "1"
        ],
        [
         "10",
         "2030805528203126173",
         "1364548354607636823",
         "2022-09-11",
         "159"
        ],
        [
         "11",
         "4441969626842003596",
         "7890016101383296727",
         "2022-06-14",
         "2"
        ],
        [
         "12",
         "6825966060938407713",
         "9149212002603716850",
         "2022-05-25",
         "3"
        ],
        [
         "13",
         "5538851823321709722",
         "6189453893821323891",
         "2022-04-26",
         "1"
        ],
        [
         "14",
         "6048416005624338210",
         "6836551149114885197",
         "2022-09-11",
         "14"
        ],
        [
         "15",
         "7326702549624585340",
         "3212701144500706568",
         "2022-09-11",
         "234"
        ],
        [
         "16",
         "3498870796978043924",
         "3798478397326482162",
         "2022-10-08",
         "6"
        ],
        [
         "17",
         "1352149944478766692",
         "6504514533420270914",
         "2022-09-11",
         "139"
        ],
        [
         "18",
         "7273396990747199250",
         "8428134947453125445",
         "2022-09-09",
         "2"
        ],
        [
         "19",
         "3055440461869670230",
         "1938760505411922162",
         "2022-09-11",
         "1"
        ],
        [
         "20",
         "1742391344777898088",
         "6504514533420270914",
         "2022-09-11",
         "79"
        ],
        [
         "21",
         "1941130180040269548",
         "4451855961536069898",
         "2022-04-04",
         "1"
        ],
        [
         "22",
         "1231249042028950977",
         "6509066495341489493",
         "2022-04-11",
         "2"
        ],
        [
         "23",
         "5264954619540741368",
         "7118126768094669047",
         "2022-04-14",
         "1"
        ],
        [
         "24",
         "3276179170055393809",
         "4098058333001424920",
         "2022-10-28",
         "1"
        ],
        [
         "25",
         "2590383687346983926",
         "4353552881410365573",
         "2022-10-11",
         "7"
        ],
        [
         "26",
         "6387217470101968506",
         "4040509988492387426",
         "2022-06-20",
         "10"
        ],
        [
         "27",
         "3091021743091218455",
         "4451855961536069898",
         "2022-09-19",
         "1"
        ],
        [
         "28",
         "7304610110590090748",
         "3262679882836704514",
         "2022-05-23",
         "7"
        ],
        [
         "29",
         "3263251545387522830",
         "1075723522393863647",
         "2022-08-19",
         "2"
        ],
        [
         "30",
         "7800014922884865069",
         "4648419153136508177",
         "2022-09-11",
         "48"
        ],
        [
         "31",
         "4918018293904727738",
         "7852170368684115755",
         "2022-10-25",
         "3"
        ],
        [
         "32",
         "8732425569704638802",
         "347520348779130794",
         "2022-04-19",
         "1"
        ],
        [
         "33",
         "2513127956900781486",
         "8625590539951587748",
         "2022-12-09",
         "2"
        ],
        [
         "34",
         "2212298273303379303",
         "7029448080469668619",
         "2022-08-04",
         "0"
        ],
        [
         "35",
         "1452084132703368034",
         "4364537037583110812",
         "2022-08-18",
         "2"
        ],
        [
         "36",
         "7025799242509249431",
         "6614994347738381720",
         "2022-10-13",
         "1"
        ],
        [
         "37",
         "5562320693736387733",
         "462590651648123928",
         "2022-05-17",
         "1"
        ],
        [
         "38",
         "7273396990747199250",
         "2958115939110601639",
         "2022-09-09",
         "2"
        ],
        [
         "39",
         "977866030640085189",
         "1288112997726060694",
         "2022-02-03",
         "1"
        ],
        [
         "40",
         "3727083652831479605",
         "3379576219453733902",
         "2022-12-15",
         "-1"
        ],
        [
         "41",
         "6918696291908819885",
         "4974205226846185245",
         "2022-09-07",
         "4"
        ],
        [
         "42",
         "2453368883555736388",
         "145852603040678098",
         "2022-04-01",
         "1"
        ],
        [
         "43",
         "6746379407450925261",
         "9036639434778896273",
         "2022-10-26",
         "1"
        ],
        [
         "44",
         "4304226119364518876",
         "6909820406326293828",
         "2022-12-27",
         "300"
        ],
        [
         "45",
         "7927668288934185134",
         "6719658691829190571",
         "2022-08-18",
         "10"
        ],
        [
         "46",
         "6220754862538348142",
         "4938000164057550340",
         "2022-09-11",
         "168"
        ],
        [
         "47",
         "5487958169877144382",
         "7667301933073269195",
         "2022-09-11",
         "303"
        ],
        [
         "48",
         "207177751226006775",
         "7358461294896036674",
         "2022-11-30",
         "2"
        ],
        [
         "49",
         "7200116106667687476",
         "2332258305086273987",
         "2022-09-01",
         "1"
        ]
       ],
       "shape": {
        "columns": 4,
        "rows": 6560698
       }
      },
      "text/html": [
       "<div>\n",
       "<style scoped>\n",
       "    .dataframe tbody tr th:only-of-type {\n",
       "        vertical-align: middle;\n",
       "    }\n",
       "\n",
       "    .dataframe tbody tr th {\n",
       "        vertical-align: top;\n",
       "    }\n",
       "\n",
       "    .dataframe thead th {\n",
       "        text-align: right;\n",
       "    }\n",
       "</style>\n",
       "<table border=\"1\" class=\"dataframe\">\n",
       "  <thead>\n",
       "    <tr style=\"text-align: right;\">\n",
       "      <th></th>\n",
       "      <th>internal_store_id</th>\n",
       "      <th>internal_product_id</th>\n",
       "      <th>transaction_date</th>\n",
       "      <th>quantity</th>\n",
       "    </tr>\n",
       "  </thead>\n",
       "  <tbody>\n",
       "    <tr>\n",
       "      <th>0</th>\n",
       "      <td>7384367747233276219</td>\n",
       "      <td>328903483604537190</td>\n",
       "      <td>2022-07-13</td>\n",
       "      <td>1</td>\n",
       "    </tr>\n",
       "    <tr>\n",
       "      <th>1</th>\n",
       "      <td>3536908514005606262</td>\n",
       "      <td>5418855670645487653</td>\n",
       "      <td>2022-03-21</td>\n",
       "      <td>6</td>\n",
       "    </tr>\n",
       "    <tr>\n",
       "      <th>2</th>\n",
       "      <td>3138231730993449825</td>\n",
       "      <td>1087005562675741887</td>\n",
       "      <td>2022-09-06</td>\n",
       "      <td>3</td>\n",
       "    </tr>\n",
       "    <tr>\n",
       "      <th>3</th>\n",
       "      <td>3681167389484217654</td>\n",
       "      <td>1401422983880045188</td>\n",
       "      <td>2022-09-11</td>\n",
       "      <td>129</td>\n",
       "    </tr>\n",
       "    <tr>\n",
       "      <th>4</th>\n",
       "      <td>7762413312337359369</td>\n",
       "      <td>6614994347738381720</td>\n",
       "      <td>2022-02-18</td>\n",
       "      <td>1</td>\n",
       "    </tr>\n",
       "    <tr>\n",
       "      <th>...</th>\n",
       "      <td>...</td>\n",
       "      <td>...</td>\n",
       "      <td>...</td>\n",
       "      <td>...</td>\n",
       "    </tr>\n",
       "    <tr>\n",
       "      <th>6560693</th>\n",
       "      <td>1439579822593789678</td>\n",
       "      <td>2523145330235258825</td>\n",
       "      <td>2022-12-06</td>\n",
       "      <td>3</td>\n",
       "    </tr>\n",
       "    <tr>\n",
       "      <th>6560694</th>\n",
       "      <td>2357589266242432199</td>\n",
       "      <td>3148628429396585683</td>\n",
       "      <td>2022-05-20</td>\n",
       "      <td>1</td>\n",
       "    </tr>\n",
       "    <tr>\n",
       "      <th>6560695</th>\n",
       "      <td>7245187752757348055</td>\n",
       "      <td>6668439675743950745</td>\n",
       "      <td>2022-08-17</td>\n",
       "      <td>1</td>\n",
       "    </tr>\n",
       "    <tr>\n",
       "      <th>6560696</th>\n",
       "      <td>8952609383990245450</td>\n",
       "      <td>3894706280449257667</td>\n",
       "      <td>2022-02-03</td>\n",
       "      <td>4</td>\n",
       "    </tr>\n",
       "    <tr>\n",
       "      <th>6560697</th>\n",
       "      <td>815150310325179165</td>\n",
       "      <td>3479075165556992938</td>\n",
       "      <td>2022-11-30</td>\n",
       "      <td>2</td>\n",
       "    </tr>\n",
       "  </tbody>\n",
       "</table>\n",
       "<p>6560698 rows × 4 columns</p>\n",
       "</div>"
      ],
      "text/plain": [
       "           internal_store_id  internal_product_id transaction_date  quantity\n",
       "0        7384367747233276219   328903483604537190       2022-07-13         1\n",
       "1        3536908514005606262  5418855670645487653       2022-03-21         6\n",
       "2        3138231730993449825  1087005562675741887       2022-09-06         3\n",
       "3        3681167389484217654  1401422983880045188       2022-09-11       129\n",
       "4        7762413312337359369  6614994347738381720       2022-02-18         1\n",
       "...                      ...                  ...              ...       ...\n",
       "6560693  1439579822593789678  2523145330235258825       2022-12-06         3\n",
       "6560694  2357589266242432199  3148628429396585683       2022-05-20         1\n",
       "6560695  7245187752757348055  6668439675743950745       2022-08-17         1\n",
       "6560696  8952609383990245450  3894706280449257667       2022-02-03         4\n",
       "6560697   815150310325179165  3479075165556992938       2022-11-30         2\n",
       "\n",
       "[6560698 rows x 4 columns]"
      ]
     },
     "execution_count": 16,
     "metadata": {},
     "output_type": "execute_result"
    }
   ],
   "source": [
    "cleaned_data"
   ]
  },
  {
   "cell_type": "code",
   "execution_count": 26,
   "id": "d48c7c01",
   "metadata": {},
   "outputs": [
    {
     "name": "stdout",
     "output_type": "stream",
     "text": [
      "df_sorted:\t\t 6560698\t\tMin value: -1530 ; Max value: 94230\n",
      "brute_outlierless:\t 6560536\t\tMin value: -99 ; Max value: 19773\n",
      "bruter_outlierless:\t 6556940\t\tMin value: -99 ; Max value: 997\n",
      "iqr_outlierless:\t 6264460\t\tMin value: -12 ; Max value: 23\n"
     ]
    }
   ],
   "source": [
    "\n",
    "print('df_sorted:\\t\\t', df_sorted.shape[0], end='\\t')\n",
    "print('\\tMin value:', df_sorted['quantity'].min(), '; Max value:', df_sorted['quantity'].max())\n",
    "\n",
    "print('brute_outlierless:\\t', brute_outlierless.shape[0], end='\\t')\n",
    "print('\\tMin value:', brute_outlierless['quantity'].min(), '; Max value:', brute_outlierless['quantity'].max())\n",
    "\n",
    "print('bruter_outlierless:\\t', bruter_outlierless.shape[0], end='\\t')\n",
    "print('\\tMin value:', bruter_outlierless['quantity'].min(), '; Max value:', bruter_outlierless['quantity'].max())\n",
    "\n",
    "print('iqr_outlierless:\\t', iqr_outlierless.shape[0], end='\\t')\n",
    "print('\\tMin value:', iqr_outlierless['quantity'].min(), '; Max value:', iqr_outlierless['quantity'].max())"
   ]
  },
  {
   "cell_type": "code",
   "execution_count": null,
   "id": "ea4bd9c8",
   "metadata": {},
   "outputs": [
    {
     "data": {
      "text/plain": [
       "<pandas.core.groupby.generic.DataFrameGroupBy object at 0x0000026197BDAA20>"
      ]
     },
     "execution_count": 27,
     "metadata": {},
     "output_type": "execute_result"
    }
   ],
   "source": [
    "\"\"\" A more robust outlier treatment? \"\"\"\n",
    "\n",
    "def outlier_score(x, q1, q3, iqr):\n",
    "    # Score de outlier (0 = normal, >0 = quão anômalo é)\n",
    "    if iqr == 0:\n",
    "        return 0.0\n",
    "    if x < q1 - 1.5 * iqr:\n",
    "        return (q1 - x) / iqr\n",
    "    elif x > q3 + 1.5 * iqr:\n",
    "        return (x - q3) / iqr\n",
    "    else:\n",
    "        return 0.0\n",
    "\n",
    "def treat_outliers(group):\n",
    "    q1 = group[\"quantity\"].quantile(0.25)\n",
    "    q3 = group[\"quantity\"].quantile(0.75)\n",
    "    iqr = q3 - q1\n",
    "    lower = q1 - 1.5 * iqr\n",
    "    upper = q3 + 1.5 * iqr\n",
    "    \n",
    "    group[\"is_outlier\"] = group[\"quantity\"].apply(lambda x: outlier_score(x, q1, q3, iqr))\n",
    "    \n",
    "    # média dos não-outliers\n",
    "    mean_non_outliers = group.loc[group[\"is_outlier\"] == 0, \"quantity\"].mean()\n",
    "    \n",
    "    # substitui outliers (se houver)\n",
    "    if not pd.isna(mean_non_outliers):\n",
    "        group.loc[group[\"is_outlier\"] > 0, \"quantity\"] = mean_non_outliers\n",
    "    \n",
    "    return group\n",
    "\n",
    "outlier_per_group = numerical_table.copy()\n",
    "\n",
    "outlier_per_group[\"quantity\"] = outlier_per_group[\"quantity\"].astype(float) # Ensure 'quantity' is float for calculations\n",
    "\n",
    "# group data by 'internal_store_id' and 'internal_product_id'\n",
    "outlier_removal = outlier_per_group.groupby([\"internal_store_id\", \"internal_product_id\"], group_keys=False)\n",
    "# CÉLULA 9\n",
    "outlier_removal"
   ]
  }
 ],
 "metadata": {
  "kernelspec": {
   "display_name": "Python 3",
   "language": "python",
   "name": "python3"
  },
  "language_info": {
   "codemirror_mode": {
    "name": "ipython",
    "version": 3
   },
   "file_extension": ".py",
   "mimetype": "text/x-python",
   "name": "python",
   "nbconvert_exporter": "python",
   "pygments_lexer": "ipython3",
   "version": "3.12.10"
  }
 },
 "nbformat": 4,
 "nbformat_minor": 5
}
