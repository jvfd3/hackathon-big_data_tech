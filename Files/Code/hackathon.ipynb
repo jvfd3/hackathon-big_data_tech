{
 "cells": [
  {
   "cell_type": "code",
   "execution_count": 17,
   "id": "34070e89",
   "metadata": {},
   "outputs": [
    {
     "name": "stdout",
     "output_type": "stream",
     "text": [
      "Requirement already satisfied: pandas==2.3.2 in b:\\programas\\programming\\python_3.12.10\\lib\\site-packages (2.3.2)\n",
      "Requirement already satisfied: matplotlib==3.10.6 in b:\\programas\\programming\\python_3.12.10\\lib\\site-packages (3.10.6)\n",
      "Requirement already satisfied: seaborn==0.13.2 in b:\\programas\\programming\\python_3.12.10\\lib\\site-packages (0.13.2)\n",
      "Requirement already satisfied: scikit-learn==1.7.1 in b:\\programas\\programming\\python_3.12.10\\lib\\site-packages (1.7.1)\n",
      "Requirement already satisfied: numpy==2.2.6 in b:\\programas\\programming\\python_3.12.10\\lib\\site-packages (2.2.6)\n",
      "Requirement already satisfied: pyarrow==21.0.0 in b:\\programas\\programming\\python_3.12.10\\lib\\site-packages (21.0.0)\n",
      "Requirement already satisfied: python-dateutil>=2.8.2 in c:\\users\\joaov\\appdata\\roaming\\python\\python312\\site-packages (from pandas==2.3.2) (2.9.0.post0)\n",
      "Requirement already satisfied: pytz>=2020.1 in b:\\programas\\programming\\python_3.12.10\\lib\\site-packages (from pandas==2.3.2) (2025.2)\n",
      "Requirement already satisfied: tzdata>=2022.7 in b:\\programas\\programming\\python_3.12.10\\lib\\site-packages (from pandas==2.3.2) (2025.2)\n",
      "Requirement already satisfied: contourpy>=1.0.1 in b:\\programas\\programming\\python_3.12.10\\lib\\site-packages (from matplotlib==3.10.6) (1.3.3)\n",
      "Requirement already satisfied: cycler>=0.10 in b:\\programas\\programming\\python_3.12.10\\lib\\site-packages (from matplotlib==3.10.6) (0.12.1)\n",
      "Requirement already satisfied: fonttools>=4.22.0 in b:\\programas\\programming\\python_3.12.10\\lib\\site-packages (from matplotlib==3.10.6) (4.59.2)\n",
      "Requirement already satisfied: kiwisolver>=1.3.1 in b:\\programas\\programming\\python_3.12.10\\lib\\site-packages (from matplotlib==3.10.6) (1.4.9)\n",
      "Requirement already satisfied: packaging>=20.0 in c:\\users\\joaov\\appdata\\roaming\\python\\python312\\site-packages (from matplotlib==3.10.6) (25.0)\n",
      "Requirement already satisfied: pillow>=8 in b:\\programas\\programming\\python_3.12.10\\lib\\site-packages (from matplotlib==3.10.6) (11.3.0)\n",
      "Requirement already satisfied: pyparsing>=2.3.1 in b:\\programas\\programming\\python_3.12.10\\lib\\site-packages (from matplotlib==3.10.6) (3.2.3)\n",
      "Requirement already satisfied: scipy>=1.8.0 in b:\\programas\\programming\\python_3.12.10\\lib\\site-packages (from scikit-learn==1.7.1) (1.15.3)\n",
      "Requirement already satisfied: joblib>=1.2.0 in b:\\programas\\programming\\python_3.12.10\\lib\\site-packages (from scikit-learn==1.7.1) (1.5.2)\n",
      "Requirement already satisfied: threadpoolctl>=3.1.0 in b:\\programas\\programming\\python_3.12.10\\lib\\site-packages (from scikit-learn==1.7.1) (3.6.0)\n",
      "Requirement already satisfied: six>=1.5 in c:\\users\\joaov\\appdata\\roaming\\python\\python312\\site-packages (from python-dateutil>=2.8.2->pandas==2.3.2) (1.17.0)\n",
      "Note: you may need to restart the kernel to use updated packages.\n"
     ]
    }
   ],
   "source": [
    "\"\"\" Installing libraries \"\"\"\n",
    "%pip install pandas==2.3.2 matplotlib==3.10.6 seaborn==0.13.2 scikit-learn==1.7.1 numpy==2.2.6 pyarrow==21.0.0\n"
   ]
  },
  {
   "cell_type": "code",
   "execution_count": 18,
   "id": "0708b61c",
   "metadata": {},
   "outputs": [],
   "source": [
    "\"\"\" Importing libraries \"\"\"\n",
    "\n",
    "import pandas as pd\n",
    "import numpy as np\n",
    "import matplotlib.pyplot as plt\n",
    "import seaborn as sns\n",
    "\n",
    "# Our modules\n",
    "\n",
    "from Modules.read_parquet import read_parquet_file\n"
   ]
  },
  {
   "cell_type": "code",
   "execution_count": 19,
   "id": "2d346803",
   "metadata": {},
   "outputs": [],
   "source": [
    "\"\"\" Setting up the constants \"\"\"\n",
    "\n",
    "DATA_PATH = \"../Data/hackathon_2025_templates/\"\n",
    "\n",
    "FILE_NAMES = [\n",
    "    \"part-00000-tid-2779033056155408584-f6316110-4c9a-4061-ae48-69b77c7c8c36-4-1-c000.snappy.parquet\",\n",
    "    \"part-00000-tid-5196563791502273604-c90d3a24-52f2-4955-b4ec-fb143aae74d8-4-1-c000.snappy.parquet\",\n",
    "    \"part-00000-tid-6364321654468257203-dc13a5d6-36ae-48c6-a018-37d8cfe34cf6-263-1-c000.snappy.parquet\",\n",
    "]\n"
   ]
  },
  {
   "cell_type": "code",
   "execution_count": 20,
   "id": "5f50c182",
   "metadata": {},
   "outputs": [
    {
     "name": "stdout",
     "output_type": "stream",
     "text": [
      "../Data/hackathon_2025_templates/part-00000-tid-2779033056155408584-f6316110-4c9a-4061-ae48-69b77c7c8c36-4-1-c000.snappy.parquet\n"
     ]
    }
   ],
   "source": [
    "\"\"\" Loading the data \"\"\"\n",
    "\n",
    "# for file in FILE_NAMES:\n",
    "\n",
    "file_path = DATA_PATH + FILE_NAMES[0]\n",
    "print(file_path)\n",
    "first_data = pd.read_parquet(file_path)\n",
    "# df = read_parquet_file(file_path)\n",
    "# print(f\"Data from {file}:\")\n",
    "# display(df.head())\n",
    "# print(\"\\n\\n\")"
   ]
  },
  {
   "cell_type": "code",
   "execution_count": 21,
   "id": "7b8dd288",
   "metadata": {},
   "outputs": [
    {
     "data": {
      "application/vnd.microsoft.datawrangler.viewer.v0+json": {
       "columns": [
        {
         "name": "index",
         "rawType": "int64",
         "type": "integer"
        },
        {
         "name": "pdv",
         "rawType": "object",
         "type": "string"
        },
        {
         "name": "premise",
         "rawType": "object",
         "type": "string"
        },
        {
         "name": "categoria_pdv",
         "rawType": "object",
         "type": "string"
        },
        {
         "name": "zipcode",
         "rawType": "int32",
         "type": "integer"
        }
       ],
       "ref": "9ce2dc30-562c-4979-9fd5-1954a993e38a",
       "rows": [
        [
         "0",
         "2204965430669363375",
         "On Premise",
         "Mexican Rest",
         "30741"
        ],
        [
         "1",
         "5211957289528622910",
         "On Premise",
         "Hotel/Motel",
         "80011"
        ],
        [
         "2",
         "9024493554530757353",
         "Off Premise",
         "Convenience",
         "80751"
        ],
        [
         "3",
         "8659197371382902429",
         "On Premise",
         "Restaurant",
         "80439"
        ],
        [
         "4",
         "1400854873763881130",
         "On Premise",
         "Restaurant",
         "30093"
        ],
        [
         "5",
         "6067948396569964814",
         "Off Premise",
         "Grocery",
         "80906"
        ],
        [
         "6",
         "5450209638302911403",
         "Off Premise",
         "Convenience",
         "30721"
        ],
        [
         "7",
         "691022780643224115",
         "On Premise",
         "Other On Premise",
         "80205"
        ],
        [
         "8",
         "678360571217951483",
         "On Premise",
         "Restaurant",
         "80233"
        ],
        [
         "9",
         "7389100204865028460",
         "Off Premise",
         "Package/Liquor",
         "80204"
        ],
        [
         "10",
         "5302902509936837762",
         "On Premise",
         "Asian",
         "80920"
        ],
        [
         "11",
         "405067956641631943",
         "On Premise",
         "Bar",
         "80737"
        ],
        [
         "12",
         "4607032614375538921",
         "On Premise",
         "Restaurant",
         "30328"
        ],
        [
         "13",
         "2327193223665181726",
         "Off Premise",
         "Package/Liquor",
         "80219"
        ],
        [
         "14",
         "3359726780040964258",
         "Off Premise",
         "Package/Liquor",
         "80550"
        ],
        [
         "15",
         "7985524581923323003",
         "Off Premise",
         "Convenience",
         "30720"
        ],
        [
         "16",
         "1687432077849254002",
         "On Premise",
         "Golf - Public",
         "80503"
        ],
        [
         "17",
         "6484964343038787599",
         "Off Premise",
         "Grocery",
         "80134"
        ],
        [
         "18",
         "3170783456241752757",
         "Off Premise",
         "Package/Liquor",
         "30319"
        ],
        [
         "19",
         "2904566334201003934",
         "On Premise",
         "Irish",
         "80013"
        ],
        [
         "20",
         "1281301628228549358",
         "On Premise",
         "Restaurant",
         "80550"
        ],
        [
         "21",
         "3275139183479483232",
         "Off Premise",
         "Package/Liquor",
         "80487"
        ],
        [
         "22",
         "1941987417130904004",
         "Off Premise",
         "Convenience",
         "30012"
        ],
        [
         "23",
         "131204024763439565",
         "Off Premise",
         "Drug",
         "30329"
        ],
        [
         "24",
         "1036853346128685463",
         "On Premise",
         "Restaurant",
         "80234"
        ],
        [
         "25",
         "7110121268475006983",
         "On Premise",
         "Restaurant",
         "80202"
        ],
        [
         "26",
         "5390646827237511360",
         "On Premise",
         "Bar",
         "80002"
        ],
        [
         "27",
         "976152893673275306",
         "On Premise",
         "Golf - Public",
         "80521"
        ],
        [
         "28",
         "173505964533288694",
         "Off Premise",
         "All Other N/A Off Premise",
         "30306"
        ],
        [
         "29",
         "7088242949735642175",
         "Off Premise",
         "Grocery",
         "30329"
        ],
        [
         "30",
         "46325205974699029",
         "Off Premise",
         "Convenience",
         "80908"
        ],
        [
         "31",
         "3019333491865333834",
         "On Premise",
         "Restaurant",
         "81625"
        ],
        [
         "32",
         "6352279236113683611",
         "On Premise",
         "Other On Premise",
         "80424"
        ],
        [
         "33",
         "5202374553351404916",
         "Off Premise",
         "Package/Liquor",
         "80211"
        ],
        [
         "34",
         "4847556120814447211",
         "On Premise",
         "Irish",
         "30319"
        ],
        [
         "35",
         "7034571183435841589",
         "On Premise",
         "Hotel/Motel",
         "30096"
        ],
        [
         "36",
         "3498870796978043924",
         "Off Premise",
         "Package/Liquor",
         "80534"
        ],
        [
         "37",
         "1509764385709038838",
         "Off Premise",
         "Grocery",
         "30033"
        ],
        [
         "38",
         "177918996049880513",
         "On Premise",
         "Golf - Public",
         "80020"
        ],
        [
         "39",
         "7592494616348482196",
         "Off Premise",
         "Package/Liquor",
         "31410"
        ],
        [
         "40",
         "29014179057952263",
         "On Premise",
         "Restaurant",
         "80012"
        ],
        [
         "41",
         "2458963842606620322",
         "On Premise",
         "Restaurant",
         "80202"
        ],
        [
         "42",
         "6523044225784514690",
         "On Premise",
         "Restaurant",
         "80112"
        ],
        [
         "43",
         "6898672222619277918",
         "On Premise",
         "Restaurant",
         "30071"
        ],
        [
         "44",
         "6596675912258685220",
         "On Premise",
         "Bar",
         "80045"
        ],
        [
         "45",
         "1097210213598313980",
         "On Premise",
         "Restaurant",
         "81301"
        ],
        [
         "46",
         "6921572185609172725",
         "Off Premise",
         "Package/Liquor",
         "80002"
        ],
        [
         "47",
         "5445165396817318610",
         "On Premise",
         "Restaurant",
         "80538"
        ],
        [
         "48",
         "8696447442983901192",
         "Off Premise",
         "Convenience",
         "80121"
        ],
        [
         "49",
         "205795548287704346",
         "On Premise",
         "Restaurant",
         "81089"
        ]
       ],
       "shape": {
        "columns": 4,
        "rows": 14419
       }
      },
      "text/html": [
       "<div>\n",
       "<style scoped>\n",
       "    .dataframe tbody tr th:only-of-type {\n",
       "        vertical-align: middle;\n",
       "    }\n",
       "\n",
       "    .dataframe tbody tr th {\n",
       "        vertical-align: top;\n",
       "    }\n",
       "\n",
       "    .dataframe thead th {\n",
       "        text-align: right;\n",
       "    }\n",
       "</style>\n",
       "<table border=\"1\" class=\"dataframe\">\n",
       "  <thead>\n",
       "    <tr style=\"text-align: right;\">\n",
       "      <th></th>\n",
       "      <th>pdv</th>\n",
       "      <th>premise</th>\n",
       "      <th>categoria_pdv</th>\n",
       "      <th>zipcode</th>\n",
       "    </tr>\n",
       "  </thead>\n",
       "  <tbody>\n",
       "    <tr>\n",
       "      <th>0</th>\n",
       "      <td>2204965430669363375</td>\n",
       "      <td>On Premise</td>\n",
       "      <td>Mexican Rest</td>\n",
       "      <td>30741</td>\n",
       "    </tr>\n",
       "    <tr>\n",
       "      <th>1</th>\n",
       "      <td>5211957289528622910</td>\n",
       "      <td>On Premise</td>\n",
       "      <td>Hotel/Motel</td>\n",
       "      <td>80011</td>\n",
       "    </tr>\n",
       "    <tr>\n",
       "      <th>2</th>\n",
       "      <td>9024493554530757353</td>\n",
       "      <td>Off Premise</td>\n",
       "      <td>Convenience</td>\n",
       "      <td>80751</td>\n",
       "    </tr>\n",
       "    <tr>\n",
       "      <th>3</th>\n",
       "      <td>8659197371382902429</td>\n",
       "      <td>On Premise</td>\n",
       "      <td>Restaurant</td>\n",
       "      <td>80439</td>\n",
       "    </tr>\n",
       "    <tr>\n",
       "      <th>4</th>\n",
       "      <td>1400854873763881130</td>\n",
       "      <td>On Premise</td>\n",
       "      <td>Restaurant</td>\n",
       "      <td>30093</td>\n",
       "    </tr>\n",
       "    <tr>\n",
       "      <th>...</th>\n",
       "      <td>...</td>\n",
       "      <td>...</td>\n",
       "      <td>...</td>\n",
       "      <td>...</td>\n",
       "    </tr>\n",
       "    <tr>\n",
       "      <th>14414</th>\n",
       "      <td>5047149578012031122</td>\n",
       "      <td>Off Premise</td>\n",
       "      <td>Package/Liquor</td>\n",
       "      <td>81501</td>\n",
       "    </tr>\n",
       "    <tr>\n",
       "      <th>14415</th>\n",
       "      <td>8352177618955815208</td>\n",
       "      <td>Off Premise</td>\n",
       "      <td>Package/Liquor</td>\n",
       "      <td>80219</td>\n",
       "    </tr>\n",
       "    <tr>\n",
       "      <th>14416</th>\n",
       "      <td>7754182004766664314</td>\n",
       "      <td>On Premise</td>\n",
       "      <td>Special Event</td>\n",
       "      <td>81004</td>\n",
       "    </tr>\n",
       "    <tr>\n",
       "      <th>14417</th>\n",
       "      <td>9044929558186581877</td>\n",
       "      <td>On Premise</td>\n",
       "      <td>Other On Premise</td>\n",
       "      <td>81226</td>\n",
       "    </tr>\n",
       "    <tr>\n",
       "      <th>14418</th>\n",
       "      <td>8795399024619655297</td>\n",
       "      <td>On Premise</td>\n",
       "      <td>Bar</td>\n",
       "      <td>80205</td>\n",
       "    </tr>\n",
       "  </tbody>\n",
       "</table>\n",
       "<p>14419 rows × 4 columns</p>\n",
       "</div>"
      ],
      "text/plain": [
       "                       pdv      premise     categoria_pdv  zipcode\n",
       "0      2204965430669363375   On Premise      Mexican Rest    30741\n",
       "1      5211957289528622910   On Premise       Hotel/Motel    80011\n",
       "2      9024493554530757353  Off Premise       Convenience    80751\n",
       "3      8659197371382902429   On Premise        Restaurant    80439\n",
       "4      1400854873763881130   On Premise        Restaurant    30093\n",
       "...                    ...          ...               ...      ...\n",
       "14414  5047149578012031122  Off Premise    Package/Liquor    81501\n",
       "14415  8352177618955815208  Off Premise    Package/Liquor    80219\n",
       "14416  7754182004766664314   On Premise     Special Event    81004\n",
       "14417  9044929558186581877   On Premise  Other On Premise    81226\n",
       "14418  8795399024619655297   On Premise               Bar    80205\n",
       "\n",
       "[14419 rows x 4 columns]"
      ]
     },
     "execution_count": 21,
     "metadata": {},
     "output_type": "execute_result"
    }
   ],
   "source": [
    "first_data"
   ]
  },
  {
   "cell_type": "code",
   "execution_count": 22,
   "id": "1905c84c",
   "metadata": {},
   "outputs": [
    {
     "name": "stdout",
     "output_type": "stream",
     "text": [
      "(14419, 4)\n",
      "<class 'pandas.core.frame.DataFrame'>\n",
      "RangeIndex: 14419 entries, 0 to 14418\n",
      "Data columns (total 4 columns):\n",
      " #   Column         Non-Null Count  Dtype \n",
      "---  ------         --------------  ----- \n",
      " 0   pdv            14419 non-null  object\n",
      " 1   premise        14419 non-null  object\n",
      " 2   categoria_pdv  14419 non-null  object\n",
      " 3   zipcode        14419 non-null  int32 \n",
      "dtypes: int32(1), object(3)\n",
      "memory usage: 394.4+ KB\n"
     ]
    }
   ],
   "source": [
    "print(first_data.shape)\n",
    "first_data.info()"
   ]
  },
  {
   "cell_type": "code",
   "execution_count": 23,
   "id": "c26e8150",
   "metadata": {},
   "outputs": [
    {
     "name": "stdout",
     "output_type": "stream",
     "text": [
      "|pdv|object||1000237487041964405 - 997907800111849739| 14419 distintos|\n",
      "|premise|object||Off Premise - On Premise| 2 distintos|\n",
      "|categoria_pdv|object||Adult Entertainment - Winery| 54 distintos|\n",
      "|zipcode|int32||8107 - 90920| 788 distintos|\n"
     ]
    }
   ],
   "source": [
    "# Showing all the categoria_pdv distinct values\n",
    "\n",
    "# List all columns\n",
    "cols = first_data.columns.tolist()\n",
    "\n",
    "for col in cols:\n",
    "    uniques = first_data[col].nunique()\n",
    "    col_type = first_data[col].dtype\n",
    "    min = first_data[col].min()\n",
    "    max = first_data[col].max()\n",
    "    print(f\"|{col}|{col_type}||{min} - {max}| {uniques} distintos|\")"
   ]
  }
 ],
 "metadata": {
  "kernelspec": {
   "display_name": "Python 3",
   "language": "python",
   "name": "python3"
  },
  "language_info": {
   "codemirror_mode": {
    "name": "ipython",
    "version": 3
   },
   "file_extension": ".py",
   "mimetype": "text/x-python",
   "name": "python",
   "nbconvert_exporter": "python",
   "pygments_lexer": "ipython3",
   "version": "3.12.10"
  }
 },
 "nbformat": 4,
 "nbformat_minor": 5
}
