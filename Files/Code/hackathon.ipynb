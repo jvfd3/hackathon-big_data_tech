{
 "cells": [
  {
   "cell_type": "code",
   "execution_count": 4,
   "id": "34070e89",
   "metadata": {},
   "outputs": [
    {
     "name": "stdout",
     "output_type": "stream",
     "text": [
      "Note: you may need to restart the kernel to use updated packages.\n"
     ]
    }
   ],
   "source": [
    "\"\"\" Installing libraries \"\"\"\n",
    "# %pip install pandas==2.3.2 matplotlib==3.10.6 seaborn==0.13.2 scikit-learn==1.7.1 numpy==2.2.6 pyarrow==21.0.0 torch==2.8.0\n",
    "%pip install --quiet pandas==2.3.2 matplotlib==3.10.6 seaborn==0.13.2 scikit-learn==1.7.1 numpy==2.2.6 pyarrow==21.0.0 torch==2.8.0\n"
   ]
  },
  {
   "cell_type": "code",
   "execution_count": 5,
   "id": "2c5686f3",
   "metadata": {},
   "outputs": [],
   "source": [
    "\"\"\" Importing libraries \"\"\"\n",
    "\n",
    "import pandas as pd\n",
    "import numpy as np\n",
    "import matplotlib.pyplot as plt\n",
    "import seaborn as sns"
   ]
  },
  {
   "cell_type": "code",
   "execution_count": 6,
   "id": "0708b61c",
   "metadata": {},
   "outputs": [],
   "source": [
    "\"\"\" Importing our modules \"\"\"\n",
    "\n",
    "from Modules.loading.read_parquet import read_parquet_file\n",
    "from Modules.preprocessing.onehot import one_hot_encode_parquet\n",
    "\n"
   ]
  },
  {
   "cell_type": "code",
   "execution_count": 7,
   "id": "2d346803",
   "metadata": {},
   "outputs": [],
   "source": [
    "\"\"\" Setting up the constants \"\"\"\n",
    "\n",
    "DATA_PATH = \"../Data/hackathon_2025_templates/part-00000-tid-\"\n",
    "\n",
    "FILE_HASH = [\n",
    "    \"2779033056155408584-f6316110-4c9a-4061-ae48-69b77c7c8c36\",\n",
    "    \"5196563791502273604-c90d3a24-52f2-4955-b4ec-fb143aae74d8\",\n",
    "    \"7173294866425216458-eae53fbf-d19e-4130-ba74-78f96b9675f1\",\n",
    "]\n",
    "\n",
    "SUFIX = \"-4-1-c000.snappy.parquet\"\n",
    "\n",
    "FILE_NAMES = [DATA_PATH + hash + SUFIX for hash in FILE_HASH]\n"
   ]
  },
  {
   "cell_type": "code",
   "execution_count": null,
   "id": "5f50c182",
   "metadata": {},
   "outputs": [
    {
     "name": "stdout",
     "output_type": "stream",
     "text": [
      "../Data/hackathon_2025_templates/part-00000-tid-2779033056155408584-f6316110-4c9a-4061-ae48-69b77c7c8c36-4-1-c000.snappy.parquet\n"
     ]
    }
   ],
   "source": [
    "\"\"\" Loading the data \"\"\"\n",
    "\n",
    "# for file in FILE_NAMES:\n",
    "\n",
    "file_path = FILE_NAMES[0]\n",
    "print(file_path)\n",
    "first_data = read_parquet_file(file_path)"
   ]
  },
  {
   "cell_type": "code",
   "execution_count": 9,
   "id": "7b8dd288",
   "metadata": {},
   "outputs": [
    {
     "data": {
      "application/vnd.microsoft.datawrangler.viewer.v0+json": {
       "columns": [
        {
         "name": "index",
         "rawType": "int64",
         "type": "integer"
        },
        {
         "name": "pdv",
         "rawType": "object",
         "type": "string"
        },
        {
         "name": "premise",
         "rawType": "object",
         "type": "string"
        },
        {
         "name": "categoria_pdv",
         "rawType": "object",
         "type": "string"
        },
        {
         "name": "zipcode",
         "rawType": "int32",
         "type": "integer"
        }
       ],
       "ref": "0e87edbc-7595-4b7c-9daa-dbe4668e894f",
       "rows": [
        [
         "0",
         "2204965430669363375",
         "On Premise",
         "Mexican Rest",
         "30741"
        ],
        [
         "1",
         "5211957289528622910",
         "On Premise",
         "Hotel/Motel",
         "80011"
        ],
        [
         "2",
         "9024493554530757353",
         "Off Premise",
         "Convenience",
         "80751"
        ],
        [
         "3",
         "8659197371382902429",
         "On Premise",
         "Restaurant",
         "80439"
        ],
        [
         "4",
         "1400854873763881130",
         "On Premise",
         "Restaurant",
         "30093"
        ],
        [
         "5",
         "6067948396569964814",
         "Off Premise",
         "Grocery",
         "80906"
        ],
        [
         "6",
         "5450209638302911403",
         "Off Premise",
         "Convenience",
         "30721"
        ],
        [
         "7",
         "691022780643224115",
         "On Premise",
         "Other On Premise",
         "80205"
        ],
        [
         "8",
         "678360571217951483",
         "On Premise",
         "Restaurant",
         "80233"
        ],
        [
         "9",
         "7389100204865028460",
         "Off Premise",
         "Package/Liquor",
         "80204"
        ],
        [
         "10",
         "5302902509936837762",
         "On Premise",
         "Asian",
         "80920"
        ],
        [
         "11",
         "405067956641631943",
         "On Premise",
         "Bar",
         "80737"
        ],
        [
         "12",
         "4607032614375538921",
         "On Premise",
         "Restaurant",
         "30328"
        ],
        [
         "13",
         "2327193223665181726",
         "Off Premise",
         "Package/Liquor",
         "80219"
        ],
        [
         "14",
         "3359726780040964258",
         "Off Premise",
         "Package/Liquor",
         "80550"
        ],
        [
         "15",
         "7985524581923323003",
         "Off Premise",
         "Convenience",
         "30720"
        ],
        [
         "16",
         "1687432077849254002",
         "On Premise",
         "Golf - Public",
         "80503"
        ],
        [
         "17",
         "6484964343038787599",
         "Off Premise",
         "Grocery",
         "80134"
        ],
        [
         "18",
         "3170783456241752757",
         "Off Premise",
         "Package/Liquor",
         "30319"
        ],
        [
         "19",
         "2904566334201003934",
         "On Premise",
         "Irish",
         "80013"
        ],
        [
         "20",
         "1281301628228549358",
         "On Premise",
         "Restaurant",
         "80550"
        ],
        [
         "21",
         "3275139183479483232",
         "Off Premise",
         "Package/Liquor",
         "80487"
        ],
        [
         "22",
         "1941987417130904004",
         "Off Premise",
         "Convenience",
         "30012"
        ],
        [
         "23",
         "131204024763439565",
         "Off Premise",
         "Drug",
         "30329"
        ],
        [
         "24",
         "1036853346128685463",
         "On Premise",
         "Restaurant",
         "80234"
        ],
        [
         "25",
         "7110121268475006983",
         "On Premise",
         "Restaurant",
         "80202"
        ],
        [
         "26",
         "5390646827237511360",
         "On Premise",
         "Bar",
         "80002"
        ],
        [
         "27",
         "976152893673275306",
         "On Premise",
         "Golf - Public",
         "80521"
        ],
        [
         "28",
         "173505964533288694",
         "Off Premise",
         "All Other N/A Off Premise",
         "30306"
        ],
        [
         "29",
         "7088242949735642175",
         "Off Premise",
         "Grocery",
         "30329"
        ],
        [
         "30",
         "46325205974699029",
         "Off Premise",
         "Convenience",
         "80908"
        ],
        [
         "31",
         "3019333491865333834",
         "On Premise",
         "Restaurant",
         "81625"
        ],
        [
         "32",
         "6352279236113683611",
         "On Premise",
         "Other On Premise",
         "80424"
        ],
        [
         "33",
         "5202374553351404916",
         "Off Premise",
         "Package/Liquor",
         "80211"
        ],
        [
         "34",
         "4847556120814447211",
         "On Premise",
         "Irish",
         "30319"
        ],
        [
         "35",
         "7034571183435841589",
         "On Premise",
         "Hotel/Motel",
         "30096"
        ],
        [
         "36",
         "3498870796978043924",
         "Off Premise",
         "Package/Liquor",
         "80534"
        ],
        [
         "37",
         "1509764385709038838",
         "Off Premise",
         "Grocery",
         "30033"
        ],
        [
         "38",
         "177918996049880513",
         "On Premise",
         "Golf - Public",
         "80020"
        ],
        [
         "39",
         "7592494616348482196",
         "Off Premise",
         "Package/Liquor",
         "31410"
        ],
        [
         "40",
         "29014179057952263",
         "On Premise",
         "Restaurant",
         "80012"
        ],
        [
         "41",
         "2458963842606620322",
         "On Premise",
         "Restaurant",
         "80202"
        ],
        [
         "42",
         "6523044225784514690",
         "On Premise",
         "Restaurant",
         "80112"
        ],
        [
         "43",
         "6898672222619277918",
         "On Premise",
         "Restaurant",
         "30071"
        ],
        [
         "44",
         "6596675912258685220",
         "On Premise",
         "Bar",
         "80045"
        ],
        [
         "45",
         "1097210213598313980",
         "On Premise",
         "Restaurant",
         "81301"
        ],
        [
         "46",
         "6921572185609172725",
         "Off Premise",
         "Package/Liquor",
         "80002"
        ],
        [
         "47",
         "5445165396817318610",
         "On Premise",
         "Restaurant",
         "80538"
        ],
        [
         "48",
         "8696447442983901192",
         "Off Premise",
         "Convenience",
         "80121"
        ],
        [
         "49",
         "205795548287704346",
         "On Premise",
         "Restaurant",
         "81089"
        ]
       ],
       "shape": {
        "columns": 4,
        "rows": 14419
       }
      },
      "text/html": [
       "<div>\n",
       "<style scoped>\n",
       "    .dataframe tbody tr th:only-of-type {\n",
       "        vertical-align: middle;\n",
       "    }\n",
       "\n",
       "    .dataframe tbody tr th {\n",
       "        vertical-align: top;\n",
       "    }\n",
       "\n",
       "    .dataframe thead th {\n",
       "        text-align: right;\n",
       "    }\n",
       "</style>\n",
       "<table border=\"1\" class=\"dataframe\">\n",
       "  <thead>\n",
       "    <tr style=\"text-align: right;\">\n",
       "      <th></th>\n",
       "      <th>pdv</th>\n",
       "      <th>premise</th>\n",
       "      <th>categoria_pdv</th>\n",
       "      <th>zipcode</th>\n",
       "    </tr>\n",
       "  </thead>\n",
       "  <tbody>\n",
       "    <tr>\n",
       "      <th>0</th>\n",
       "      <td>2204965430669363375</td>\n",
       "      <td>On Premise</td>\n",
       "      <td>Mexican Rest</td>\n",
       "      <td>30741</td>\n",
       "    </tr>\n",
       "    <tr>\n",
       "      <th>1</th>\n",
       "      <td>5211957289528622910</td>\n",
       "      <td>On Premise</td>\n",
       "      <td>Hotel/Motel</td>\n",
       "      <td>80011</td>\n",
       "    </tr>\n",
       "    <tr>\n",
       "      <th>2</th>\n",
       "      <td>9024493554530757353</td>\n",
       "      <td>Off Premise</td>\n",
       "      <td>Convenience</td>\n",
       "      <td>80751</td>\n",
       "    </tr>\n",
       "    <tr>\n",
       "      <th>3</th>\n",
       "      <td>8659197371382902429</td>\n",
       "      <td>On Premise</td>\n",
       "      <td>Restaurant</td>\n",
       "      <td>80439</td>\n",
       "    </tr>\n",
       "    <tr>\n",
       "      <th>4</th>\n",
       "      <td>1400854873763881130</td>\n",
       "      <td>On Premise</td>\n",
       "      <td>Restaurant</td>\n",
       "      <td>30093</td>\n",
       "    </tr>\n",
       "    <tr>\n",
       "      <th>...</th>\n",
       "      <td>...</td>\n",
       "      <td>...</td>\n",
       "      <td>...</td>\n",
       "      <td>...</td>\n",
       "    </tr>\n",
       "    <tr>\n",
       "      <th>14414</th>\n",
       "      <td>5047149578012031122</td>\n",
       "      <td>Off Premise</td>\n",
       "      <td>Package/Liquor</td>\n",
       "      <td>81501</td>\n",
       "    </tr>\n",
       "    <tr>\n",
       "      <th>14415</th>\n",
       "      <td>8352177618955815208</td>\n",
       "      <td>Off Premise</td>\n",
       "      <td>Package/Liquor</td>\n",
       "      <td>80219</td>\n",
       "    </tr>\n",
       "    <tr>\n",
       "      <th>14416</th>\n",
       "      <td>7754182004766664314</td>\n",
       "      <td>On Premise</td>\n",
       "      <td>Special Event</td>\n",
       "      <td>81004</td>\n",
       "    </tr>\n",
       "    <tr>\n",
       "      <th>14417</th>\n",
       "      <td>9044929558186581877</td>\n",
       "      <td>On Premise</td>\n",
       "      <td>Other On Premise</td>\n",
       "      <td>81226</td>\n",
       "    </tr>\n",
       "    <tr>\n",
       "      <th>14418</th>\n",
       "      <td>8795399024619655297</td>\n",
       "      <td>On Premise</td>\n",
       "      <td>Bar</td>\n",
       "      <td>80205</td>\n",
       "    </tr>\n",
       "  </tbody>\n",
       "</table>\n",
       "<p>14419 rows × 4 columns</p>\n",
       "</div>"
      ],
      "text/plain": [
       "                       pdv      premise     categoria_pdv  zipcode\n",
       "0      2204965430669363375   On Premise      Mexican Rest    30741\n",
       "1      5211957289528622910   On Premise       Hotel/Motel    80011\n",
       "2      9024493554530757353  Off Premise       Convenience    80751\n",
       "3      8659197371382902429   On Premise        Restaurant    80439\n",
       "4      1400854873763881130   On Premise        Restaurant    30093\n",
       "...                    ...          ...               ...      ...\n",
       "14414  5047149578012031122  Off Premise    Package/Liquor    81501\n",
       "14415  8352177618955815208  Off Premise    Package/Liquor    80219\n",
       "14416  7754182004766664314   On Premise     Special Event    81004\n",
       "14417  9044929558186581877   On Premise  Other On Premise    81226\n",
       "14418  8795399024619655297   On Premise               Bar    80205\n",
       "\n",
       "[14419 rows x 4 columns]"
      ]
     },
     "execution_count": 9,
     "metadata": {},
     "output_type": "execute_result"
    }
   ],
   "source": [
    "first_data"
   ]
  },
  {
   "cell_type": "code",
   "execution_count": 11,
   "id": "1905c84c",
   "metadata": {},
   "outputs": [],
   "source": [
    "one_hot_encoded = one_hot_encode_parquet(first_data, ['premise'])"
   ]
  },
  {
   "cell_type": "code",
   "execution_count": 12,
   "id": "27c04454",
   "metadata": {},
   "outputs": [
    {
     "data": {
      "application/vnd.microsoft.datawrangler.viewer.v0+json": {
       "columns": [
        {
         "name": "index",
         "rawType": "int64",
         "type": "integer"
        },
        {
         "name": "pdv",
         "rawType": "object",
         "type": "string"
        },
        {
         "name": "categoria_pdv",
         "rawType": "object",
         "type": "string"
        },
        {
         "name": "zipcode",
         "rawType": "int32",
         "type": "integer"
        },
        {
         "name": "premise_Off Premise",
         "rawType": "bool",
         "type": "boolean"
        },
        {
         "name": "premise_On Premise",
         "rawType": "bool",
         "type": "boolean"
        }
       ],
       "ref": "bbe64baa-63ed-493d-b38c-20c4bd103c4b",
       "rows": [
        [
         "0",
         "2204965430669363375",
         "Mexican Rest",
         "30741",
         "False",
         "True"
        ],
        [
         "1",
         "5211957289528622910",
         "Hotel/Motel",
         "80011",
         "False",
         "True"
        ],
        [
         "2",
         "9024493554530757353",
         "Convenience",
         "80751",
         "True",
         "False"
        ],
        [
         "3",
         "8659197371382902429",
         "Restaurant",
         "80439",
         "False",
         "True"
        ],
        [
         "4",
         "1400854873763881130",
         "Restaurant",
         "30093",
         "False",
         "True"
        ],
        [
         "5",
         "6067948396569964814",
         "Grocery",
         "80906",
         "True",
         "False"
        ],
        [
         "6",
         "5450209638302911403",
         "Convenience",
         "30721",
         "True",
         "False"
        ],
        [
         "7",
         "691022780643224115",
         "Other On Premise",
         "80205",
         "False",
         "True"
        ],
        [
         "8",
         "678360571217951483",
         "Restaurant",
         "80233",
         "False",
         "True"
        ],
        [
         "9",
         "7389100204865028460",
         "Package/Liquor",
         "80204",
         "True",
         "False"
        ],
        [
         "10",
         "5302902509936837762",
         "Asian",
         "80920",
         "False",
         "True"
        ],
        [
         "11",
         "405067956641631943",
         "Bar",
         "80737",
         "False",
         "True"
        ],
        [
         "12",
         "4607032614375538921",
         "Restaurant",
         "30328",
         "False",
         "True"
        ],
        [
         "13",
         "2327193223665181726",
         "Package/Liquor",
         "80219",
         "True",
         "False"
        ],
        [
         "14",
         "3359726780040964258",
         "Package/Liquor",
         "80550",
         "True",
         "False"
        ],
        [
         "15",
         "7985524581923323003",
         "Convenience",
         "30720",
         "True",
         "False"
        ],
        [
         "16",
         "1687432077849254002",
         "Golf - Public",
         "80503",
         "False",
         "True"
        ],
        [
         "17",
         "6484964343038787599",
         "Grocery",
         "80134",
         "True",
         "False"
        ],
        [
         "18",
         "3170783456241752757",
         "Package/Liquor",
         "30319",
         "True",
         "False"
        ],
        [
         "19",
         "2904566334201003934",
         "Irish",
         "80013",
         "False",
         "True"
        ],
        [
         "20",
         "1281301628228549358",
         "Restaurant",
         "80550",
         "False",
         "True"
        ],
        [
         "21",
         "3275139183479483232",
         "Package/Liquor",
         "80487",
         "True",
         "False"
        ],
        [
         "22",
         "1941987417130904004",
         "Convenience",
         "30012",
         "True",
         "False"
        ],
        [
         "23",
         "131204024763439565",
         "Drug",
         "30329",
         "True",
         "False"
        ],
        [
         "24",
         "1036853346128685463",
         "Restaurant",
         "80234",
         "False",
         "True"
        ],
        [
         "25",
         "7110121268475006983",
         "Restaurant",
         "80202",
         "False",
         "True"
        ],
        [
         "26",
         "5390646827237511360",
         "Bar",
         "80002",
         "False",
         "True"
        ],
        [
         "27",
         "976152893673275306",
         "Golf - Public",
         "80521",
         "False",
         "True"
        ],
        [
         "28",
         "173505964533288694",
         "All Other N/A Off Premise",
         "30306",
         "True",
         "False"
        ],
        [
         "29",
         "7088242949735642175",
         "Grocery",
         "30329",
         "True",
         "False"
        ],
        [
         "30",
         "46325205974699029",
         "Convenience",
         "80908",
         "True",
         "False"
        ],
        [
         "31",
         "3019333491865333834",
         "Restaurant",
         "81625",
         "False",
         "True"
        ],
        [
         "32",
         "6352279236113683611",
         "Other On Premise",
         "80424",
         "False",
         "True"
        ],
        [
         "33",
         "5202374553351404916",
         "Package/Liquor",
         "80211",
         "True",
         "False"
        ],
        [
         "34",
         "4847556120814447211",
         "Irish",
         "30319",
         "False",
         "True"
        ],
        [
         "35",
         "7034571183435841589",
         "Hotel/Motel",
         "30096",
         "False",
         "True"
        ],
        [
         "36",
         "3498870796978043924",
         "Package/Liquor",
         "80534",
         "True",
         "False"
        ],
        [
         "37",
         "1509764385709038838",
         "Grocery",
         "30033",
         "True",
         "False"
        ],
        [
         "38",
         "177918996049880513",
         "Golf - Public",
         "80020",
         "False",
         "True"
        ],
        [
         "39",
         "7592494616348482196",
         "Package/Liquor",
         "31410",
         "True",
         "False"
        ],
        [
         "40",
         "29014179057952263",
         "Restaurant",
         "80012",
         "False",
         "True"
        ],
        [
         "41",
         "2458963842606620322",
         "Restaurant",
         "80202",
         "False",
         "True"
        ],
        [
         "42",
         "6523044225784514690",
         "Restaurant",
         "80112",
         "False",
         "True"
        ],
        [
         "43",
         "6898672222619277918",
         "Restaurant",
         "30071",
         "False",
         "True"
        ],
        [
         "44",
         "6596675912258685220",
         "Bar",
         "80045",
         "False",
         "True"
        ],
        [
         "45",
         "1097210213598313980",
         "Restaurant",
         "81301",
         "False",
         "True"
        ],
        [
         "46",
         "6921572185609172725",
         "Package/Liquor",
         "80002",
         "True",
         "False"
        ],
        [
         "47",
         "5445165396817318610",
         "Restaurant",
         "80538",
         "False",
         "True"
        ],
        [
         "48",
         "8696447442983901192",
         "Convenience",
         "80121",
         "True",
         "False"
        ],
        [
         "49",
         "205795548287704346",
         "Restaurant",
         "81089",
         "False",
         "True"
        ]
       ],
       "shape": {
        "columns": 5,
        "rows": 14419
       }
      },
      "text/html": [
       "<div>\n",
       "<style scoped>\n",
       "    .dataframe tbody tr th:only-of-type {\n",
       "        vertical-align: middle;\n",
       "    }\n",
       "\n",
       "    .dataframe tbody tr th {\n",
       "        vertical-align: top;\n",
       "    }\n",
       "\n",
       "    .dataframe thead th {\n",
       "        text-align: right;\n",
       "    }\n",
       "</style>\n",
       "<table border=\"1\" class=\"dataframe\">\n",
       "  <thead>\n",
       "    <tr style=\"text-align: right;\">\n",
       "      <th></th>\n",
       "      <th>pdv</th>\n",
       "      <th>categoria_pdv</th>\n",
       "      <th>zipcode</th>\n",
       "      <th>premise_Off Premise</th>\n",
       "      <th>premise_On Premise</th>\n",
       "    </tr>\n",
       "  </thead>\n",
       "  <tbody>\n",
       "    <tr>\n",
       "      <th>0</th>\n",
       "      <td>2204965430669363375</td>\n",
       "      <td>Mexican Rest</td>\n",
       "      <td>30741</td>\n",
       "      <td>False</td>\n",
       "      <td>True</td>\n",
       "    </tr>\n",
       "    <tr>\n",
       "      <th>1</th>\n",
       "      <td>5211957289528622910</td>\n",
       "      <td>Hotel/Motel</td>\n",
       "      <td>80011</td>\n",
       "      <td>False</td>\n",
       "      <td>True</td>\n",
       "    </tr>\n",
       "    <tr>\n",
       "      <th>2</th>\n",
       "      <td>9024493554530757353</td>\n",
       "      <td>Convenience</td>\n",
       "      <td>80751</td>\n",
       "      <td>True</td>\n",
       "      <td>False</td>\n",
       "    </tr>\n",
       "    <tr>\n",
       "      <th>3</th>\n",
       "      <td>8659197371382902429</td>\n",
       "      <td>Restaurant</td>\n",
       "      <td>80439</td>\n",
       "      <td>False</td>\n",
       "      <td>True</td>\n",
       "    </tr>\n",
       "    <tr>\n",
       "      <th>4</th>\n",
       "      <td>1400854873763881130</td>\n",
       "      <td>Restaurant</td>\n",
       "      <td>30093</td>\n",
       "      <td>False</td>\n",
       "      <td>True</td>\n",
       "    </tr>\n",
       "    <tr>\n",
       "      <th>...</th>\n",
       "      <td>...</td>\n",
       "      <td>...</td>\n",
       "      <td>...</td>\n",
       "      <td>...</td>\n",
       "      <td>...</td>\n",
       "    </tr>\n",
       "    <tr>\n",
       "      <th>14414</th>\n",
       "      <td>5047149578012031122</td>\n",
       "      <td>Package/Liquor</td>\n",
       "      <td>81501</td>\n",
       "      <td>True</td>\n",
       "      <td>False</td>\n",
       "    </tr>\n",
       "    <tr>\n",
       "      <th>14415</th>\n",
       "      <td>8352177618955815208</td>\n",
       "      <td>Package/Liquor</td>\n",
       "      <td>80219</td>\n",
       "      <td>True</td>\n",
       "      <td>False</td>\n",
       "    </tr>\n",
       "    <tr>\n",
       "      <th>14416</th>\n",
       "      <td>7754182004766664314</td>\n",
       "      <td>Special Event</td>\n",
       "      <td>81004</td>\n",
       "      <td>False</td>\n",
       "      <td>True</td>\n",
       "    </tr>\n",
       "    <tr>\n",
       "      <th>14417</th>\n",
       "      <td>9044929558186581877</td>\n",
       "      <td>Other On Premise</td>\n",
       "      <td>81226</td>\n",
       "      <td>False</td>\n",
       "      <td>True</td>\n",
       "    </tr>\n",
       "    <tr>\n",
       "      <th>14418</th>\n",
       "      <td>8795399024619655297</td>\n",
       "      <td>Bar</td>\n",
       "      <td>80205</td>\n",
       "      <td>False</td>\n",
       "      <td>True</td>\n",
       "    </tr>\n",
       "  </tbody>\n",
       "</table>\n",
       "<p>14419 rows × 5 columns</p>\n",
       "</div>"
      ],
      "text/plain": [
       "                       pdv     categoria_pdv  zipcode  premise_Off Premise  \\\n",
       "0      2204965430669363375      Mexican Rest    30741                False   \n",
       "1      5211957289528622910       Hotel/Motel    80011                False   \n",
       "2      9024493554530757353       Convenience    80751                 True   \n",
       "3      8659197371382902429        Restaurant    80439                False   \n",
       "4      1400854873763881130        Restaurant    30093                False   \n",
       "...                    ...               ...      ...                  ...   \n",
       "14414  5047149578012031122    Package/Liquor    81501                 True   \n",
       "14415  8352177618955815208    Package/Liquor    80219                 True   \n",
       "14416  7754182004766664314     Special Event    81004                False   \n",
       "14417  9044929558186581877  Other On Premise    81226                False   \n",
       "14418  8795399024619655297               Bar    80205                False   \n",
       "\n",
       "       premise_On Premise  \n",
       "0                    True  \n",
       "1                    True  \n",
       "2                   False  \n",
       "3                    True  \n",
       "4                    True  \n",
       "...                   ...  \n",
       "14414               False  \n",
       "14415               False  \n",
       "14416                True  \n",
       "14417                True  \n",
       "14418                True  \n",
       "\n",
       "[14419 rows x 5 columns]"
      ]
     },
     "execution_count": 12,
     "metadata": {},
     "output_type": "execute_result"
    }
   ],
   "source": [
    "one_hot_encoded"
   ]
  }
 ],
 "metadata": {
  "kernelspec": {
   "display_name": "Python 3",
   "language": "python",
   "name": "python3"
  },
  "language_info": {
   "codemirror_mode": {
    "name": "ipython",
    "version": 3
   },
   "file_extension": ".py",
   "mimetype": "text/x-python",
   "name": "python",
   "nbconvert_exporter": "python",
   "pygments_lexer": "ipython3",
   "version": "3.12.10"
  }
 },
 "nbformat": 4,
 "nbformat_minor": 5
}
