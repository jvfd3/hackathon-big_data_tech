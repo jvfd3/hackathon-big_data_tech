{
 "cells": [
  {
   "cell_type": "code",
   "execution_count": 6,
   "id": "d990a453",
   "metadata": {},
   "outputs": [
    {
     "data": {
      "application/vnd.microsoft.datawrangler.viewer.v0+json": {
       "columns": [
        {
         "name": "index",
         "rawType": "int64",
         "type": "integer"
        },
        {
         "name": "semana",
         "rawType": "UInt32",
         "type": "integer"
        },
        {
         "name": "pdv",
         "rawType": "object",
         "type": "string"
        },
        {
         "name": "produto",
         "rawType": "object",
         "type": "string"
        },
        {
         "name": "quantidade",
         "rawType": "int64",
         "type": "integer"
        }
       ],
       "ref": "ecbe3f36-3ce1-48e0-bd51-b5fad73cda42",
       "rows": [
        [
         "0",
         "1",
         "1001371918471115422",
         "1029370090212151375",
         "2"
        ],
        [
         "1",
         "1",
         "1001371918471115422",
         "1120490062981954254",
         "18"
        ],
        [
         "2",
         "1",
         "1001371918471115422",
         "2239307647969388381",
         "2"
        ],
        [
         "3",
         "1",
         "1001371918471115422",
         "4353552881410365573",
         "7"
        ],
        [
         "4",
         "1",
         "1001371918471115422",
         "4797439216678436447",
         "1"
        ]
       ],
       "shape": {
        "columns": 4,
        "rows": 5
       }
      },
      "text/html": [
       "<div>\n",
       "<style scoped>\n",
       "    .dataframe tbody tr th:only-of-type {\n",
       "        vertical-align: middle;\n",
       "    }\n",
       "\n",
       "    .dataframe tbody tr th {\n",
       "        vertical-align: top;\n",
       "    }\n",
       "\n",
       "    .dataframe thead th {\n",
       "        text-align: right;\n",
       "    }\n",
       "</style>\n",
       "<table border=\"1\" class=\"dataframe\">\n",
       "  <thead>\n",
       "    <tr style=\"text-align: right;\">\n",
       "      <th></th>\n",
       "      <th>semana</th>\n",
       "      <th>pdv</th>\n",
       "      <th>produto</th>\n",
       "      <th>quantidade</th>\n",
       "    </tr>\n",
       "  </thead>\n",
       "  <tbody>\n",
       "    <tr>\n",
       "      <th>0</th>\n",
       "      <td>1</td>\n",
       "      <td>1001371918471115422</td>\n",
       "      <td>1029370090212151375</td>\n",
       "      <td>2</td>\n",
       "    </tr>\n",
       "    <tr>\n",
       "      <th>1</th>\n",
       "      <td>1</td>\n",
       "      <td>1001371918471115422</td>\n",
       "      <td>1120490062981954254</td>\n",
       "      <td>18</td>\n",
       "    </tr>\n",
       "    <tr>\n",
       "      <th>2</th>\n",
       "      <td>1</td>\n",
       "      <td>1001371918471115422</td>\n",
       "      <td>2239307647969388381</td>\n",
       "      <td>2</td>\n",
       "    </tr>\n",
       "    <tr>\n",
       "      <th>3</th>\n",
       "      <td>1</td>\n",
       "      <td>1001371918471115422</td>\n",
       "      <td>4353552881410365573</td>\n",
       "      <td>7</td>\n",
       "    </tr>\n",
       "    <tr>\n",
       "      <th>4</th>\n",
       "      <td>1</td>\n",
       "      <td>1001371918471115422</td>\n",
       "      <td>4797439216678436447</td>\n",
       "      <td>1</td>\n",
       "    </tr>\n",
       "  </tbody>\n",
       "</table>\n",
       "</div>"
      ],
      "text/plain": [
       "   semana                  pdv              produto  quantidade\n",
       "0       1  1001371918471115422  1029370090212151375           2\n",
       "1       1  1001371918471115422  1120490062981954254          18\n",
       "2       1  1001371918471115422  2239307647969388381           2\n",
       "3       1  1001371918471115422  4353552881410365573           7\n",
       "4       1  1001371918471115422  4797439216678436447           1"
      ]
     },
     "execution_count": 6,
     "metadata": {},
     "output_type": "execute_result"
    }
   ],
   "source": [
    "\"\"\" Gerando o que queremos e nada mais \"\"\"\n",
    "\n",
    "# Imports\n",
    "import pandas as pd\n",
    "\n",
    "# Carregar o dataframe de transações\n",
    "df = pd.read_parquet('../Data/hackathon_2025_templates/part-00000-tid-5196563791502273604-c90d3a24-52f2-4955-b4ec-fb143aae74d8-4-1-c000.snappy.parquet')\n",
    "\n",
    "# Seleciona Apenas: Colunas de pdv_id, product_id, quantity e transaction_date\n",
    "df = df[['internal_product_id', 'internal_store_id', 'quantity', 'transaction_date']]\n",
    "\n",
    "# Garante que transaction_date está em formato datetime\n",
    "df['transaction_date'] = pd.to_datetime(df['transaction_date'])\n",
    "\n",
    "# Seleciona apenas as linhas com transação_date entre 2022-01-01 e 2022-01-28\n",
    "df = df[(df['transaction_date'] >= '2022-01-01') & (df['transaction_date'] < '2022-01-29')]\n",
    "\n",
    "# Agrupa por pdv_id, product_id e transaction_date, somando quantity\n",
    "df = df.groupby(['internal_store_id', 'internal_product_id', 'transaction_date'], as_index=False)['quantity'].sum()\n",
    "\n",
    "# Cria coluna de semana (número da semana do ano)\n",
    "df['week'] = df['transaction_date'].dt.isocalendar().week\n",
    "\n",
    "# Agrupa por semana, pdv_id e product_id, somando quantity\n",
    "df_weekly = df.groupby(['week', 'internal_store_id', 'internal_product_id'], as_index=False)['quantity'].sum()\n",
    "\n",
    "# Renomeia colunas para o formato desejado\n",
    "df_weekly = df_weekly.rename(columns={\n",
    "    'week': 'semana',\n",
    "    'internal_store_id': 'pdv',\n",
    "    'internal_product_id': 'produto',\n",
    "    'quantity': 'quantidade'\n",
    "})\n",
    "\n",
    "# Converte quantidade para inteiro\n",
    "df_weekly['quantidade'] = df_weekly['quantidade'].astype(int)\n",
    "\n",
    "# Salva resultado em CSV no formato (semana;pdv;produto;quantidade)\n",
    "df_weekly.to_csv('resultado.csv', sep=';', encoding='utf-8', index=False)\n",
    "\n",
    "# Exibe as primeiras linhas do resultado\n",
    "df_weekly.head()"
   ]
  }
 ],
 "metadata": {
  "kernelspec": {
   "display_name": "Python 3",
   "language": "python",
   "name": "python3"
  },
  "language_info": {
   "codemirror_mode": {
    "name": "ipython",
    "version": 3
   },
   "file_extension": ".py",
   "mimetype": "text/x-python",
   "name": "python",
   "nbconvert_exporter": "python",
   "pygments_lexer": "ipython3",
   "version": "3.12.10"
  }
 },
 "nbformat": 4,
 "nbformat_minor": 5
}
